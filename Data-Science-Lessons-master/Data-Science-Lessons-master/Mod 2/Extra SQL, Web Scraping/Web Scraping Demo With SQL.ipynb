{
 "cells": [
  {
   "cell_type": "markdown",
   "metadata": {},
   "source": [
    "# <center>Web Scraping Into SQL Database Demo"
   ]
  },
  {
   "cell_type": "markdown",
   "metadata": {},
   "source": [
    "<img src = 'anime.png'>"
   ]
  },
  {
   "cell_type": "markdown",
   "metadata": {},
   "source": [
    "## The goal"
   ]
  },
  {
   "cell_type": "markdown",
   "metadata": {},
   "source": [
    "Scrape the site https://myanimelist.net/ in order to compile a SQL database of various anime data."
   ]
  },
  {
   "cell_type": "markdown",
   "metadata": {},
   "source": [
    "In this demo, we will grab the id, name, number of episodes, and a couple recommended shows for each of the top anime."
   ]
  },
  {
   "cell_type": "markdown",
   "metadata": {},
   "source": [
    "## The process"
   ]
  },
  {
   "cell_type": "markdown",
   "metadata": {},
   "source": [
    "Import libraries."
   ]
  },
  {
   "cell_type": "code",
   "execution_count": 1,
   "metadata": {},
   "outputs": [],
   "source": [
    "import requests\n",
    "from bs4 import BeautifulSoup\n",
    "import time\n",
    "import random\n",
    "import math\n",
    "import sqlite3\n",
    "import pandas as pd\n",
    "import numpy as np"
   ]
  },
  {
   "cell_type": "markdown",
   "metadata": {},
   "source": [
    "For this demo, we will look just at some of the most popular anime found here https://myanimelist.net/topanime.php?type=bypopularity."
   ]
  },
  {
   "cell_type": "markdown",
   "metadata": {},
   "source": [
    "### Scraping links"
   ]
  },
  {
   "cell_type": "markdown",
   "metadata": {},
   "source": [
    "Make initial request to the URL and parse wth BS."
   ]
  },
  {
   "cell_type": "code",
   "execution_count": 2,
   "metadata": {},
   "outputs": [],
   "source": [
    "url = 'https://myanimelist.net/topanime.php?type=bypopularity'\n",
    "response = requests.get(url)\n",
    "soup = BeautifulSoup(response.content, 'html.parser')"
   ]
  },
  {
   "cell_type": "markdown",
   "metadata": {},
   "source": [
    "Find the links to the individual pages for each of the top anime shows."
   ]
  },
  {
   "cell_type": "code",
   "execution_count": 3,
   "metadata": {},
   "outputs": [
    {
     "data": {
      "text/plain": [
       "['https://myanimelist.net/anime/16498/Shingeki_no_Kyojin',\n",
       " 'https://myanimelist.net/anime/1535/Death_Note',\n",
       " 'https://myanimelist.net/anime/5114/Fullmetal_Alchemist__Brotherhood',\n",
       " 'https://myanimelist.net/anime/30276/One_Punch_Man',\n",
       " 'https://myanimelist.net/anime/11757/Sword_Art_Online',\n",
       " 'https://myanimelist.net/anime/31964/Boku_no_Hero_Academia',\n",
       " 'https://myanimelist.net/anime/22319/Tokyo_Ghoul',\n",
       " 'https://myanimelist.net/anime/20/Naruto',\n",
       " 'https://myanimelist.net/anime/38000/Kimetsu_no_Yaiba',\n",
       " 'https://myanimelist.net/anime/11061/Hunter_x_Hunter_2011']"
      ]
     },
     "execution_count": 3,
     "metadata": {},
     "output_type": "execute_result"
    }
   ],
   "source": [
    "urls = []\n",
    "for i in soup.find_all('div', class_=\"di-ib clearfix\"):\n",
    "    urls.append(i.find('a', href=True)['href'])\n",
    "urls[:10]"
   ]
  },
  {
   "cell_type": "markdown",
   "metadata": {},
   "source": [
    "### Scraping in a loop"
   ]
  },
  {
   "cell_type": "markdown",
   "metadata": {},
   "source": [
    "Create a function that will grab the id, name, and number of episodes for a given anime URL. Also, it will grab the top two recommendations, as well as the id and URL for those recommendations."
   ]
  },
  {
   "cell_type": "code",
   "execution_count": 4,
   "metadata": {},
   "outputs": [],
   "source": [
    "def get_name_episodes(url, rec=False):\n",
    "    response = requests.get(url, headers=headers)\n",
    "    print(response.status_code, url)\n",
    "    soup = BeautifulSoup(response.content, 'html.parser')\n",
    "    main_id = url.split('/')[4]\n",
    "    episodes = soup.find('span', text='Episodes:').next_element.strip()\n",
    "    name = soup.find('h1').text.strip()\n",
    "    print(name)\n",
    "    rec_urls=[]\n",
    "    rec_ids=[]\n",
    "    if rec:\n",
    "        response = requests.get(url+'/userrecs')\n",
    "        soup = BeautifulSoup(response.content, 'html.parser')\n",
    "        recs = soup.find_all('div', style='margin-bottom: 2px;', limit=2)\n",
    "        for r in recs:\n",
    "            rec_url = r.find('a', href=True)['href']\n",
    "            rec_urls.append(rec_url)\n",
    "            rec_id = rec_url.split('/')[4]\n",
    "            rec_ids.append(rec_id)\n",
    "    return main_id, episodes, name, rec_urls, rec_ids"
   ]
  },
  {
   "cell_type": "markdown",
   "metadata": {},
   "source": [
    "In order to make our scraping activity look normal, we can pass in a header containing a 'User-agent' key. This basically tells the website we are just a normal web browser. <br>\n",
    "Also, we want to have short, random pauses in between requests. This will mimic human behaviour and help to prevent the risk of being flagged as a bot."
   ]
  },
  {
   "cell_type": "code",
   "execution_count": 5,
   "metadata": {},
   "outputs": [],
   "source": [
    "headers = {'User-agent': 'Mozilla/5.0 (Windows NT 6.1; Win64; x64) AppleWebKit/537.36 (KHTML, like Gecko) Chrome/64.0.3282.186 Safari/537.36'}\n",
    "sleep_min = 0\n",
    "sleep_max = 1"
   ]
  },
  {
   "cell_type": "markdown",
   "metadata": {},
   "source": [
    "The main loop. Now we want to go through each of the URLs, run our scraping function, then run the scraping function on the recommendations as well. <br> <br>\n",
    "We want to store all the information we gather in lists along the way. <br> <br>\n",
    "Some of the recommendations may be shows we already scraped. By using a set() of ids we have already scraped, we can avoid scraping the same show page multiple times."
   ]
  },
  {
   "cell_type": "code",
   "execution_count": 6,
   "metadata": {},
   "outputs": [
    {
     "name": "stdout",
     "output_type": "stream",
     "text": [
      "200 https://myanimelist.net/anime/16498/Shingeki_no_Kyojin\n",
      "Shingeki no Kyojin\n",
      "200 https://myanimelist.net/anime/28623/Koutetsujou_no_Kabaneri\n",
      "Koutetsujou no Kabaneri\n",
      "200 https://myanimelist.net/anime/26243/Owari_no_Seraph\n",
      "Owari no Seraph\n",
      "200 https://myanimelist.net/anime/1535/Death_Note\n",
      "Death Note\n",
      "200 https://myanimelist.net/anime/1575/Code_Geass__Hangyaku_no_Lelouch\n",
      "Code Geass: Hangyaku no Lelouch\n",
      "200 https://myanimelist.net/anime/19/Monster\n",
      "Monster\n",
      "200 https://myanimelist.net/anime/5114/Fullmetal_Alchemist__Brotherhood\n",
      "Fullmetal Alchemist: Brotherhood\n",
      "200 https://myanimelist.net/anime/11061/Hunter_x_Hunter_2011\n",
      "Hunter x Hunter (2011)\n",
      "200 https://myanimelist.net/anime/16498/Shingeki_no_Kyojin\n",
      "Shingeki no Kyojin\n",
      "200 https://myanimelist.net/anime/30276/One_Punch_Man\n",
      "One Punch Man\n",
      "200 https://myanimelist.net/anime/32182/Mob_Psycho_100\n",
      "Mob Psycho 100\n",
      "200 https://myanimelist.net/anime/31964/Boku_no_Hero_Academia\n",
      "Boku no Hero Academia\n",
      "200 https://myanimelist.net/anime/11757/Sword_Art_Online\n",
      "Sword Art Online\n",
      "200 https://myanimelist.net/anime/17265/Log_Horizon\n",
      "Log Horizon\n",
      "200 https://myanimelist.net/anime/11759/Accel_World\n",
      "Accel World\n",
      "Took 80.68969917297363 seconds.\n"
     ]
    }
   ],
   "source": [
    "now = time.time()\n",
    "episode_counts = []\n",
    "names = []\n",
    "ids = []\n",
    "ids_set = set()\n",
    "recs_main = []\n",
    "recs1 = []\n",
    "recs2 = []\n",
    "sleep_min = 0\n",
    "sleep_max = 1\n",
    "for url in urls[:5]:\n",
    "    main_id, episodes, name, rec_urls, rec_ids = get_name_episodes(url, True)\n",
    "    \n",
    "    if main_id not in ids_set:\n",
    "        ids.append(main_id)\n",
    "        episode_counts.append(episodes)\n",
    "        names.append(name)\n",
    "        recs_main.append(main_id)\n",
    "        recs1.append(rec_ids[0])\n",
    "        recs2.append(rec_ids[1])\n",
    "    \n",
    "    for u,i in zip(rec_urls, rec_ids):\n",
    "        if i not in ids_set:\n",
    "            time.sleep(random.uniform(sleep_min, sleep_max))\n",
    "            rec_id, episodes, name, _, _ = get_name_episodes(u)\n",
    "            \n",
    "            ids.append(rec_id)\n",
    "            episode_counts.append(episodes)\n",
    "            names.append(name)\n",
    "    time.sleep(random.uniform(sleep_min, sleep_max))\n",
    "print('Took', time.time()-now, 'seconds.')"
   ]
  },
  {
   "cell_type": "markdown",
   "metadata": {},
   "source": [
    "### Loading into SQL database"
   ]
  },
  {
   "cell_type": "markdown",
   "metadata": {},
   "source": [
    "Now that we have the data, we can set up a SQL database."
   ]
  },
  {
   "cell_type": "markdown",
   "metadata": {},
   "source": [
    "Initialize and connect to the database."
   ]
  },
  {
   "cell_type": "code",
   "execution_count": 9,
   "metadata": {},
   "outputs": [],
   "source": [
    "conn = sqlite3.connect('anime2.db')\n",
    "cur = conn.cursor()"
   ]
  },
  {
   "cell_type": "markdown",
   "metadata": {},
   "source": [
    "Create anime table containing the id, name, and number of episodes."
   ]
  },
  {
   "cell_type": "code",
   "execution_count": 10,
   "metadata": {},
   "outputs": [
    {
     "data": {
      "text/plain": [
       "<sqlite3.Cursor at 0x2056811f730>"
      ]
     },
     "execution_count": 10,
     "metadata": {},
     "output_type": "execute_result"
    }
   ],
   "source": [
    "cur.execute('''\n",
    "            CREATE TABLE anime(\n",
    "            id INT PRIMARY KEY,\n",
    "            name TEXT,\n",
    "            episodes INT\n",
    "            )\n",
    "            ''')"
   ]
  },
  {
   "cell_type": "markdown",
   "metadata": {},
   "source": [
    "Insert the anime data into the anime table."
   ]
  },
  {
   "cell_type": "code",
   "execution_count": 11,
   "metadata": {},
   "outputs": [],
   "source": [
    "for i,name,eps in zip(ids, names, episode_counts):\n",
    "    cur.execute('''\n",
    "                INSERT OR REPLACE INTO anime\n",
    "                VALUES(?, ?, ?)\n",
    "                ''',(i,name,eps))"
   ]
  },
  {
   "cell_type": "markdown",
   "metadata": {},
   "source": [
    "Inspect the anime table by loading it into a DataFrame."
   ]
  },
  {
   "cell_type": "code",
   "execution_count": 12,
   "metadata": {},
   "outputs": [
    {
     "data": {
      "text/html": [
       "<div>\n",
       "<style scoped>\n",
       "    .dataframe tbody tr th:only-of-type {\n",
       "        vertical-align: middle;\n",
       "    }\n",
       "\n",
       "    .dataframe tbody tr th {\n",
       "        vertical-align: top;\n",
       "    }\n",
       "\n",
       "    .dataframe thead th {\n",
       "        text-align: right;\n",
       "    }\n",
       "</style>\n",
       "<table border=\"1\" class=\"dataframe\">\n",
       "  <thead>\n",
       "    <tr style=\"text-align: right;\">\n",
       "      <th></th>\n",
       "      <th>id</th>\n",
       "      <th>name</th>\n",
       "      <th>episodes</th>\n",
       "    </tr>\n",
       "  </thead>\n",
       "  <tbody>\n",
       "    <tr>\n",
       "      <th>0</th>\n",
       "      <td>28623</td>\n",
       "      <td>Koutetsujou no Kabaneri</td>\n",
       "      <td>Episodes:</td>\n",
       "    </tr>\n",
       "    <tr>\n",
       "      <th>1</th>\n",
       "      <td>26243</td>\n",
       "      <td>Owari no Seraph</td>\n",
       "      <td>Episodes:</td>\n",
       "    </tr>\n",
       "    <tr>\n",
       "      <th>2</th>\n",
       "      <td>1535</td>\n",
       "      <td>Death Note</td>\n",
       "      <td>Episodes:</td>\n",
       "    </tr>\n",
       "    <tr>\n",
       "      <th>3</th>\n",
       "      <td>1575</td>\n",
       "      <td>Code Geass: Hangyaku no Lelouch</td>\n",
       "      <td>Episodes:</td>\n",
       "    </tr>\n",
       "    <tr>\n",
       "      <th>4</th>\n",
       "      <td>19</td>\n",
       "      <td>Monster</td>\n",
       "      <td>Episodes:</td>\n",
       "    </tr>\n",
       "    <tr>\n",
       "      <th>5</th>\n",
       "      <td>5114</td>\n",
       "      <td>Fullmetal Alchemist: Brotherhood</td>\n",
       "      <td>Episodes:</td>\n",
       "    </tr>\n",
       "    <tr>\n",
       "      <th>6</th>\n",
       "      <td>11061</td>\n",
       "      <td>Hunter x Hunter (2011)</td>\n",
       "      <td>Episodes:</td>\n",
       "    </tr>\n",
       "    <tr>\n",
       "      <th>7</th>\n",
       "      <td>16498</td>\n",
       "      <td>Shingeki no Kyojin</td>\n",
       "      <td>Episodes:</td>\n",
       "    </tr>\n",
       "    <tr>\n",
       "      <th>8</th>\n",
       "      <td>30276</td>\n",
       "      <td>One Punch Man</td>\n",
       "      <td>Episodes:</td>\n",
       "    </tr>\n",
       "    <tr>\n",
       "      <th>9</th>\n",
       "      <td>32182</td>\n",
       "      <td>Mob Psycho 100</td>\n",
       "      <td>Episodes:</td>\n",
       "    </tr>\n",
       "    <tr>\n",
       "      <th>10</th>\n",
       "      <td>31964</td>\n",
       "      <td>Boku no Hero Academia</td>\n",
       "      <td>Episodes:</td>\n",
       "    </tr>\n",
       "    <tr>\n",
       "      <th>11</th>\n",
       "      <td>11757</td>\n",
       "      <td>Sword Art Online</td>\n",
       "      <td>Episodes:</td>\n",
       "    </tr>\n",
       "    <tr>\n",
       "      <th>12</th>\n",
       "      <td>17265</td>\n",
       "      <td>Log Horizon</td>\n",
       "      <td>Episodes:</td>\n",
       "    </tr>\n",
       "    <tr>\n",
       "      <th>13</th>\n",
       "      <td>11759</td>\n",
       "      <td>Accel World</td>\n",
       "      <td>Episodes:</td>\n",
       "    </tr>\n",
       "  </tbody>\n",
       "</table>\n",
       "</div>"
      ],
      "text/plain": [
       "       id                              name   episodes\n",
       "0   28623           Koutetsujou no Kabaneri  Episodes:\n",
       "1   26243                   Owari no Seraph  Episodes:\n",
       "2    1535                        Death Note  Episodes:\n",
       "3    1575   Code Geass: Hangyaku no Lelouch  Episodes:\n",
       "4      19                           Monster  Episodes:\n",
       "5    5114  Fullmetal Alchemist: Brotherhood  Episodes:\n",
       "6   11061            Hunter x Hunter (2011)  Episodes:\n",
       "7   16498                Shingeki no Kyojin  Episodes:\n",
       "8   30276                     One Punch Man  Episodes:\n",
       "9   32182                    Mob Psycho 100  Episodes:\n",
       "10  31964             Boku no Hero Academia  Episodes:\n",
       "11  11757                  Sword Art Online  Episodes:\n",
       "12  17265                       Log Horizon  Episodes:\n",
       "13  11759                       Accel World  Episodes:"
      ]
     },
     "execution_count": 12,
     "metadata": {},
     "output_type": "execute_result"
    }
   ],
   "source": [
    "cur.execute('''\n",
    "            SELECT * FROM anime''')\n",
    "x = cur.fetchall()\n",
    "anime_df = pd.DataFrame(x)\n",
    "anime_df.columns = [i[0] for i in cur.description]\n",
    "anime_df"
   ]
  },
  {
   "cell_type": "markdown",
   "metadata": {},
   "source": [
    "Create recommendations table containing the main show id, the first recommendation id, and the second recommendation id."
   ]
  },
  {
   "cell_type": "code",
   "execution_count": 13,
   "metadata": {},
   "outputs": [
    {
     "data": {
      "text/plain": [
       "<sqlite3.Cursor at 0x2056811f730>"
      ]
     },
     "execution_count": 13,
     "metadata": {},
     "output_type": "execute_result"
    }
   ],
   "source": [
    "cur.execute('''\n",
    "            CREATE TABLE recs(\n",
    "            id INT,\n",
    "            first_rec_id INT,\n",
    "            second_rec_id INT\n",
    "            )\n",
    "            ''')"
   ]
  },
  {
   "cell_type": "markdown",
   "metadata": {},
   "source": [
    "Insert the recommendation data into the recommendations table."
   ]
  },
  {
   "cell_type": "code",
   "execution_count": 14,
   "metadata": {},
   "outputs": [],
   "source": [
    "for i,r1,r2 in zip(recs_main,recs1,recs2):\n",
    "    cur.execute('''\n",
    "                INSERT INTO recs\n",
    "                VALUES(?, ?, ?)\n",
    "                ''',(i,r1,r2))"
   ]
  },
  {
   "cell_type": "markdown",
   "metadata": {},
   "source": [
    "Inspect the recommendations table by loading it into a DataFrame."
   ]
  },
  {
   "cell_type": "code",
   "execution_count": 15,
   "metadata": {},
   "outputs": [
    {
     "data": {
      "text/html": [
       "<div>\n",
       "<style scoped>\n",
       "    .dataframe tbody tr th:only-of-type {\n",
       "        vertical-align: middle;\n",
       "    }\n",
       "\n",
       "    .dataframe tbody tr th {\n",
       "        vertical-align: top;\n",
       "    }\n",
       "\n",
       "    .dataframe thead th {\n",
       "        text-align: right;\n",
       "    }\n",
       "</style>\n",
       "<table border=\"1\" class=\"dataframe\">\n",
       "  <thead>\n",
       "    <tr style=\"text-align: right;\">\n",
       "      <th></th>\n",
       "      <th>id</th>\n",
       "      <th>first_rec_id</th>\n",
       "      <th>second_rec_id</th>\n",
       "    </tr>\n",
       "  </thead>\n",
       "  <tbody>\n",
       "    <tr>\n",
       "      <th>0</th>\n",
       "      <td>16498</td>\n",
       "      <td>28623</td>\n",
       "      <td>26243</td>\n",
       "    </tr>\n",
       "    <tr>\n",
       "      <th>1</th>\n",
       "      <td>1535</td>\n",
       "      <td>1575</td>\n",
       "      <td>19</td>\n",
       "    </tr>\n",
       "    <tr>\n",
       "      <th>2</th>\n",
       "      <td>5114</td>\n",
       "      <td>11061</td>\n",
       "      <td>16498</td>\n",
       "    </tr>\n",
       "    <tr>\n",
       "      <th>3</th>\n",
       "      <td>30276</td>\n",
       "      <td>32182</td>\n",
       "      <td>31964</td>\n",
       "    </tr>\n",
       "    <tr>\n",
       "      <th>4</th>\n",
       "      <td>11757</td>\n",
       "      <td>17265</td>\n",
       "      <td>11759</td>\n",
       "    </tr>\n",
       "  </tbody>\n",
       "</table>\n",
       "</div>"
      ],
      "text/plain": [
       "      id  first_rec_id  second_rec_id\n",
       "0  16498         28623          26243\n",
       "1   1535          1575             19\n",
       "2   5114         11061          16498\n",
       "3  30276         32182          31964\n",
       "4  11757         17265          11759"
      ]
     },
     "execution_count": 15,
     "metadata": {},
     "output_type": "execute_result"
    }
   ],
   "source": [
    "cur.execute('''\n",
    "            SELECT * FROM recs''')\n",
    "x = cur.fetchall()\n",
    "recs_df = pd.DataFrame(x)\n",
    "recs_df.columns = [i[0] for i in cur.description]\n",
    "recs_df"
   ]
  },
  {
   "cell_type": "markdown",
   "metadata": {},
   "source": [
    "Commit the changes to the database."
   ]
  },
  {
   "cell_type": "code",
   "execution_count": 16,
   "metadata": {},
   "outputs": [],
   "source": [
    "conn.commit()"
   ]
  },
  {
   "cell_type": "markdown",
   "metadata": {},
   "source": [
    "### SQL command practice"
   ]
  },
  {
   "cell_type": "markdown",
   "metadata": {},
   "source": [
    "Create a DataFrame containing each of the most popular shows and the two recommendations."
   ]
  },
  {
   "cell_type": "code",
   "execution_count": 17,
   "metadata": {},
   "outputs": [
    {
     "data": {
      "text/html": [
       "<div>\n",
       "<style scoped>\n",
       "    .dataframe tbody tr th:only-of-type {\n",
       "        vertical-align: middle;\n",
       "    }\n",
       "\n",
       "    .dataframe tbody tr th {\n",
       "        vertical-align: top;\n",
       "    }\n",
       "\n",
       "    .dataframe thead th {\n",
       "        text-align: right;\n",
       "    }\n",
       "</style>\n",
       "<table border=\"1\" class=\"dataframe\">\n",
       "  <thead>\n",
       "    <tr style=\"text-align: right;\">\n",
       "      <th></th>\n",
       "      <th>if you like</th>\n",
       "      <th>try</th>\n",
       "      <th>or</th>\n",
       "    </tr>\n",
       "  </thead>\n",
       "  <tbody>\n",
       "    <tr>\n",
       "      <th>0</th>\n",
       "      <td>Death Note</td>\n",
       "      <td>Code Geass: Hangyaku no Lelouch</td>\n",
       "      <td>Monster</td>\n",
       "    </tr>\n",
       "    <tr>\n",
       "      <th>1</th>\n",
       "      <td>Fullmetal Alchemist: Brotherhood</td>\n",
       "      <td>Hunter x Hunter (2011)</td>\n",
       "      <td>Shingeki no Kyojin</td>\n",
       "    </tr>\n",
       "    <tr>\n",
       "      <th>2</th>\n",
       "      <td>One Punch Man</td>\n",
       "      <td>Mob Psycho 100</td>\n",
       "      <td>Boku no Hero Academia</td>\n",
       "    </tr>\n",
       "    <tr>\n",
       "      <th>3</th>\n",
       "      <td>Shingeki no Kyojin</td>\n",
       "      <td>Koutetsujou no Kabaneri</td>\n",
       "      <td>Owari no Seraph</td>\n",
       "    </tr>\n",
       "    <tr>\n",
       "      <th>4</th>\n",
       "      <td>Sword Art Online</td>\n",
       "      <td>Log Horizon</td>\n",
       "      <td>Accel World</td>\n",
       "    </tr>\n",
       "  </tbody>\n",
       "</table>\n",
       "</div>"
      ],
      "text/plain": [
       "                        if you like                              try  \\\n",
       "0                        Death Note  Code Geass: Hangyaku no Lelouch   \n",
       "1  Fullmetal Alchemist: Brotherhood           Hunter x Hunter (2011)   \n",
       "2                     One Punch Man                   Mob Psycho 100   \n",
       "3                Shingeki no Kyojin          Koutetsujou no Kabaneri   \n",
       "4                  Sword Art Online                      Log Horizon   \n",
       "\n",
       "                      or  \n",
       "0                Monster  \n",
       "1     Shingeki no Kyojin  \n",
       "2  Boku no Hero Academia  \n",
       "3        Owari no Seraph  \n",
       "4            Accel World  "
      ]
     },
     "execution_count": 17,
     "metadata": {},
     "output_type": "execute_result"
    }
   ],
   "source": [
    "cur.execute('''\n",
    "            SELECT a1.name as \"if you like\", a2.name as \"try\", a3.name as \"or\" FROM anime a1\n",
    "            JOIN recs\n",
    "            ON a1.id=recs.id\n",
    "            JOIN anime a2\n",
    "            ON recs.first_rec_id=a2.id\n",
    "            JOIN anime a3\n",
    "            ON recs.second_rec_id=a3.id\n",
    "            GROUP BY a1.name\n",
    "            ''')\n",
    "x= cur.fetchall()\n",
    "all_df = pd.DataFrame(x)\n",
    "all_df.columns = [i[0] for i in cur.description]\n",
    "all_df"
   ]
  },
  {
   "cell_type": "code",
   "execution_count": null,
   "metadata": {},
   "outputs": [],
   "source": []
  }
 ],
 "metadata": {
  "kernelspec": {
   "display_name": "Python 3.9.6 64-bit",
   "language": "python",
   "name": "python3"
  },
  "language_info": {
   "codemirror_mode": {
    "name": "ipython",
    "version": 3
   },
   "file_extension": ".py",
   "mimetype": "text/x-python",
   "name": "python",
   "nbconvert_exporter": "python",
   "pygments_lexer": "ipython3",
   "version": "3.9.6"
  },
  "vscode": {
   "interpreter": {
    "hash": "192f7c0b37ce3ddecbee81489817291a464646fe638ea9347af2c6647eb38734"
   }
  }
 },
 "nbformat": 4,
 "nbformat_minor": 2
}
