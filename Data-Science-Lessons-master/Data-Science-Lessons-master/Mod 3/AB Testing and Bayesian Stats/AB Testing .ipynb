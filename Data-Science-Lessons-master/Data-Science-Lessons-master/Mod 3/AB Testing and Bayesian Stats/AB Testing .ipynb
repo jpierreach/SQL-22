{
 "cells": [
  {
   "cell_type": "markdown",
   "metadata": {
    "slideshow": {
     "slide_type": "slide"
    }
   },
   "source": [
    "# <center> AB Testing"
   ]
  },
  {
   "cell_type": "markdown",
   "metadata": {
    "slideshow": {
     "slide_type": "fragment"
    }
   },
   "source": [
    "### <center> Test design and proportion tests"
   ]
  },
  {
   "cell_type": "code",
   "execution_count": null,
   "metadata": {
    "slideshow": {
     "slide_type": "slide"
    }
   },
   "outputs": [],
   "source": [
    "import math\n",
    "import numpy as np\n",
    "from scipy import stats\n",
    "import pandas as pd\n",
    "import matplotlib.pyplot as plt\n",
    "import seaborn as sns\n",
    "from statsmodels.stats.proportion import proportion_effectsize, proportions_ztest, proportions_chisquare\n",
    "from statsmodels.stats.power import zt_ind_solve_power as solve_power"
   ]
  },
  {
   "cell_type": "markdown",
   "metadata": {
    "slideshow": {
     "slide_type": "slide"
    }
   },
   "source": [
    "### The scenario..."
   ]
  },
  {
   "cell_type": "markdown",
   "metadata": {
    "slideshow": {
     "slide_type": "fragment"
    }
   },
   "source": [
    "Your company wants to test a new website layout to see if it can increase the chance of a purchase with each visitor. The current layout is estimated to generate a sale 30% of the time. You are tasked with testing whether or not a new design increases the rate of a sale occuring. You need to run a test that will allow you to statistically detect an increase in sale probability by 10% with a confidence level of 95%."
   ]
  },
  {
   "cell_type": "markdown",
   "metadata": {
    "slideshow": {
     "slide_type": "slide"
    }
   },
   "source": [
    "### <center> Hypotheses"
   ]
  },
  {
   "cell_type": "markdown",
   "metadata": {
    "slideshow": {
     "slide_type": "fragment"
    }
   },
   "source": [
    "<center> A = Old layout purchase chance<br>\n",
    "<center> B = New layout purchase chance"
   ]
  },
  {
   "cell_type": "markdown",
   "metadata": {
    "slideshow": {
     "slide_type": "fragment"
    }
   },
   "source": [
    "### Null Hypothesis (H<sub>0</sub>): B = A"
   ]
  },
  {
   "cell_type": "markdown",
   "metadata": {
    "slideshow": {
     "slide_type": "fragment"
    }
   },
   "source": [
    "### Alternative Hypothesis (H<sub>a</sub>): B > A"
   ]
  },
  {
   "cell_type": "markdown",
   "metadata": {
    "slideshow": {
     "slide_type": "slide"
    }
   },
   "source": [
    "### <center> Determine sample size needed"
   ]
  },
  {
   "cell_type": "code",
   "execution_count": null,
   "metadata": {
    "slideshow": {
     "slide_type": "fragment"
    }
   },
   "outputs": [],
   "source": [
    "def sample_size_needed(p0,p_diff,alpha,power,alternative):\n",
    "    effect_size = proportion_effectsize(p0+p_diff,p0)\n",
    "    n = solve_power(effect_size=effect_size, alpha=0.05, power=0.8, alternative=alternative)\n",
    "    return math.ceil(n)"
   ]
  },
  {
   "cell_type": "code",
   "execution_count": null,
   "metadata": {
    "slideshow": {
     "slide_type": "fragment"
    }
   },
   "outputs": [],
   "source": [
    "sample_size_needed(p0=0.30, p_diff=0.10, alpha=0.05, power=0.8, alternative='larger')"
   ]
  },
  {
   "cell_type": "markdown",
   "metadata": {
    "slideshow": {
     "slide_type": "slide"
    }
   },
   "source": [
    "## <center> Two Sample Proportion Test"
   ]
  },
  {
   "cell_type": "code",
   "execution_count": null,
   "metadata": {
    "slideshow": {
     "slide_type": "fragment"
    }
   },
   "outputs": [],
   "source": [
    "n = 280"
   ]
  },
  {
   "cell_type": "code",
   "execution_count": null,
   "metadata": {
    "slideshow": {
     "slide_type": "fragment"
    }
   },
   "outputs": [],
   "source": [
    "np.random.seed(47)\n",
    "A = np.random.choice([0,1],n, )\n",
    "B = np.random.choice([0,0,0,0,1,1,1,1,1,1],n)"
   ]
  },
  {
   "cell_type": "code",
   "execution_count": null,
   "metadata": {
    "slideshow": {
     "slide_type": "fragment"
    }
   },
   "outputs": [],
   "source": [
    "df = pd.DataFrame()\n",
    "df['Yes'] = [A.mean()*len(A), B.mean()*len(B)]\n",
    "df['No'] = [(1-A.mean())*len(A), (1-B.mean())*len(B)]\n",
    "df['Group'] = ['A', 'B']\n",
    "df = df.set_index('Group')\n",
    "df"
   ]
  },
  {
   "cell_type": "markdown",
   "metadata": {
    "slideshow": {
     "slide_type": "slide"
    }
   },
   "source": [
    "<center><img src='two_proportion_z_test.png.'>"
   ]
  },
  {
   "cell_type": "markdown",
   "metadata": {
    "slideshow": {
     "slide_type": "fragment"
    }
   },
   "source": [
    "<center><img src='p_star.png'>"
   ]
  },
  {
   "cell_type": "code",
   "execution_count": null,
   "metadata": {
    "slideshow": {
     "slide_type": "fragment"
    }
   },
   "outputs": [],
   "source": [
    "def ztest_proportion_two_samples(x1, n1, x2, n2):\n",
    "    p1 = x1/n1\n",
    "    p2 = x2/n2    \n",
    "    p_star = (n1*p1 + n2*p2)/(n1+n2)\n",
    "    \n",
    "    se = np.sqrt(p_star*(1-p_star)*(1/n1+1/n2))\n",
    "    \n",
    "    z = (p1-p2)/se\n",
    "    \n",
    "    p = (1-stats.norm.cdf(abs(z)))*2\n",
    "    return z, p\n",
    "\n",
    "z,p = ztest_proportion_two_samples(df['Yes']['A'], n, df['Yes']['B'], n)\n",
    "print('z-stat:',z)\n",
    "print('p-value:',p)"
   ]
  },
  {
   "cell_type": "markdown",
   "metadata": {
    "slideshow": {
     "slide_type": "slide"
    }
   },
   "source": [
    "# <center>Chi Squared Distribution"
   ]
  },
  {
   "cell_type": "markdown",
   "metadata": {
    "slideshow": {
     "slide_type": "fragment"
    }
   },
   "source": [
    "<center>Found by squaring a standard normal distribution (when degrees of freedom is 1)"
   ]
  },
  {
   "cell_type": "code",
   "execution_count": null,
   "metadata": {
    "slideshow": {
     "slide_type": "slide"
    }
   },
   "outputs": [],
   "source": [
    "x = np.arange(-5,5,0.05)\n",
    "plt.plot(x,stats.norm.pdf(x)); plt.title('Standard Normal Distribution')"
   ]
  },
  {
   "cell_type": "code",
   "execution_count": null,
   "metadata": {
    "slideshow": {
     "slide_type": "fragment"
    }
   },
   "outputs": [],
   "source": [
    "x = np.arange(0,20,0.05)\n",
    "plt.plot(x,stats.chi2.pdf(x,1)); plt.title('Chi Squared Distribution (k=1)')"
   ]
  },
  {
   "cell_type": "markdown",
   "metadata": {
    "slideshow": {
     "slide_type": "slide"
    }
   },
   "source": [
    "Chi Squared at other values of k or degrees of freedom"
   ]
  },
  {
   "cell_type": "code",
   "execution_count": null,
   "metadata": {
    "slideshow": {
     "slide_type": "fragment"
    }
   },
   "outputs": [],
   "source": [
    "x = np.arange(0,10,0.05)\n",
    "for k in range(3,8):\n",
    "    plt.plot(x,stats.chi2.pdf(x,k))\n",
    "plt.title('Chi Squared Distributions')\n",
    "plt.legend(['k=' + str(x) for x in range(3,8)])"
   ]
  },
  {
   "cell_type": "markdown",
   "metadata": {
    "slideshow": {
     "slide_type": "slide"
    }
   },
   "source": [
    "### <center>Properties of Chi Squared Distributions"
   ]
  },
  {
   "cell_type": "markdown",
   "metadata": {
    "slideshow": {
     "slide_type": "fragment"
    }
   },
   "source": [
    "<center> μ = k"
   ]
  },
  {
   "cell_type": "markdown",
   "metadata": {
    "slideshow": {
     "slide_type": "fragment"
    }
   },
   "source": [
    "<center> σ² = 2k"
   ]
  },
  {
   "cell_type": "markdown",
   "metadata": {
    "slideshow": {
     "slide_type": "fragment"
    }
   },
   "source": [
    "<center> mode = k - 2 "
   ]
  },
  {
   "cell_type": "markdown",
   "metadata": {
    "slideshow": {
     "slide_type": "slide"
    }
   },
   "source": [
    "### <center> Degrees of Freedom for Chi Squared"
   ]
  },
  {
   "cell_type": "markdown",
   "metadata": {
    "slideshow": {
     "slide_type": "slide"
    }
   },
   "source": [
    "### <center>k = (c-1)\\*(r-1)\n",
    "<br><br>\n",
    "<center> Where `c` is the number of columns and `r` is the number of rows. <br><br>\n",
    "<center> Or, (number of possible outcomes - 1) * (number of groups - 1)"
   ]
  },
  {
   "cell_type": "markdown",
   "metadata": {
    "slideshow": {
     "slide_type": "slide"
    }
   },
   "source": [
    "### <center> Chi Squared Formula"
   ]
  },
  {
   "cell_type": "markdown",
   "metadata": {
    "slideshow": {
     "slide_type": "fragment"
    }
   },
   "source": [
    "<center><img src='chi-squared-equation.png'>"
   ]
  },
  {
   "cell_type": "code",
   "execution_count": null,
   "metadata": {
    "slideshow": {
     "slide_type": "fragment"
    }
   },
   "outputs": [],
   "source": [
    "df"
   ]
  },
  {
   "cell_type": "code",
   "execution_count": null,
   "metadata": {
    "slideshow": {
     "slide_type": "slide"
    }
   },
   "outputs": [],
   "source": [
    "def chi_squared_test_two_sample(x1, n1, x2, n2):\n",
    "    x1_0 = n1-x1\n",
    "    x2_0 = n2-x2\n",
    "    expected_1 = (x1+x2)/(n1+n2)\n",
    "    expected_0 = (x1_0+x2_0)/(n1+n2)\n",
    "    \n",
    "    chi = (x1-expected_1*n1)**2/(expected_1*n1) + (x2-expected_1*n2)**2/(expected_1*n2) + (x1_0-expected_0*n1)**2/(expected_0*n1) + (x2_0-expected_0*n2)**2/(expected_0*n2)\n",
    "    p = 1-stats.chi2.cdf(chi,1)\n",
    "    return chi,p\n",
    "chi,p = chi_squared_test_two_sample(df['Yes']['A'], n, df['Yes']['B'], n)\n",
    "print('z-stat:',chi)\n",
    "print('p-value:',p)"
   ]
  },
  {
   "cell_type": "markdown",
   "metadata": {
    "slideshow": {
     "slide_type": "slide"
    }
   },
   "source": [
    "### <center> With two sample groups, a Z Proportions Test and a Chi Squared Test will give the same results"
   ]
  },
  {
   "cell_type": "markdown",
   "metadata": {
    "slideshow": {
     "slide_type": "slide"
    }
   },
   "source": [
    "And now the quicker way to do both..."
   ]
  },
  {
   "cell_type": "code",
   "execution_count": null,
   "metadata": {
    "slideshow": {
     "slide_type": "fragment"
    }
   },
   "outputs": [],
   "source": [
    "z,p = proportions_ztest(count=df['Yes'],nobs=n)\n",
    "z,p"
   ]
  },
  {
   "cell_type": "code",
   "execution_count": null,
   "metadata": {
    "slideshow": {
     "slide_type": "fragment"
    }
   },
   "outputs": [],
   "source": [
    "chi,p,table = proportions_chisquare(count=df['Yes'],nobs=n)\n",
    "chi,p"
   ]
  },
  {
   "cell_type": "markdown",
   "metadata": {
    "slideshow": {
     "slide_type": "slide"
    }
   },
   "source": [
    "### <center> AB...N Testing"
   ]
  },
  {
   "cell_type": "markdown",
   "metadata": {
    "slideshow": {
     "slide_type": "fragment"
    }
   },
   "source": [
    "### <center> What if we want to test more than two options?"
   ]
  },
  {
   "cell_type": "markdown",
   "metadata": {
    "slideshow": {
     "slide_type": "fragment"
    }
   },
   "source": [
    "### Null Hypothesis (H<sub>0</sub>): C = B = A"
   ]
  },
  {
   "cell_type": "markdown",
   "metadata": {
    "slideshow": {
     "slide_type": "fragment"
    }
   },
   "source": [
    "### Alternative Hypothesis (H<sub>a</sub>): At least one of A,B,C is different"
   ]
  },
  {
   "cell_type": "markdown",
   "metadata": {
    "slideshow": {
     "slide_type": "slide"
    }
   },
   "source": [
    "### <center> The data"
   ]
  },
  {
   "cell_type": "code",
   "execution_count": null,
   "metadata": {
    "slideshow": {
     "slide_type": "fragment"
    }
   },
   "outputs": [],
   "source": [
    "np.random.seed(47)\n",
    "A = np.random.choice([0,1],n)\n",
    "B = np.random.choice([0,0,0,0,1,1,1,1,1],n)\n",
    "C = np.random.choice([0,0,0,0,0,0,0,0,0,0,1,1,1,1,1],n)\n",
    "df = pd.DataFrame()\n",
    "df['Yes'] = [A.mean()*len(A), B.mean()*len(B), C.mean()*len(C)]\n",
    "df['No'] = [(1-A.mean())*len(A), (1-B.mean())*len(B), (1-C.mean())*len(C)]\n",
    "df['Group'] = ['A', 'B', 'C']\n",
    "df = df.set_index('Group')\n",
    "df"
   ]
  },
  {
   "cell_type": "markdown",
   "metadata": {
    "slideshow": {
     "slide_type": "slide"
    }
   },
   "source": [
    "### <center> Chi Squared Test"
   ]
  },
  {
   "cell_type": "code",
   "execution_count": null,
   "metadata": {
    "slideshow": {
     "slide_type": "fragment"
    }
   },
   "outputs": [],
   "source": [
    "chi,p,table = proportions_chisquare(count=df['Yes'],nobs=n)\n",
    "p"
   ]
  },
  {
   "cell_type": "markdown",
   "metadata": {
    "slideshow": {
     "slide_type": "fragment"
    }
   },
   "source": [
    "The significant p-value says that there is a difference in proportions between the options."
   ]
  },
  {
   "cell_type": "markdown",
   "metadata": {
    "slideshow": {
     "slide_type": "fragment"
    }
   },
   "source": [
    "### <center> But where is the difference?"
   ]
  },
  {
   "cell_type": "markdown",
   "metadata": {
    "slideshow": {
     "slide_type": "slide"
    }
   },
   "source": [
    "### <center> Bonferroni Correction"
   ]
  },
  {
   "cell_type": "markdown",
   "metadata": {
    "slideshow": {
     "slide_type": "fragment"
    }
   },
   "source": [
    "<center> Adjusting for multiple comparisons"
   ]
  },
  {
   "cell_type": "markdown",
   "metadata": {
    "slideshow": {
     "slide_type": "fragment"
    }
   },
   "source": [
    "### <center> alpha<sub>adj</sub> = alpha / number of comparisons"
   ]
  },
  {
   "cell_type": "code",
   "execution_count": null,
   "metadata": {
    "slideshow": {
     "slide_type": "fragment"
    }
   },
   "outputs": [],
   "source": [
    "alpha = 0.05\n",
    "alpha_adj = alpha/3\n",
    "alpha_adj"
   ]
  },
  {
   "cell_type": "code",
   "execution_count": null,
   "metadata": {
    "slideshow": {
     "slide_type": "slide"
    }
   },
   "outputs": [],
   "source": [
    "# A vs B\n",
    "proportions_chisquare(count=df.drop('C',axis=0)['Yes'],nobs=n)"
   ]
  },
  {
   "cell_type": "code",
   "execution_count": null,
   "metadata": {
    "slideshow": {
     "slide_type": "fragment"
    }
   },
   "outputs": [],
   "source": [
    "# A vs C\n",
    "proportions_chisquare(count=df.drop('B',axis=0)['Yes'],nobs=n)"
   ]
  },
  {
   "cell_type": "code",
   "execution_count": null,
   "metadata": {
    "slideshow": {
     "slide_type": "fragment"
    }
   },
   "outputs": [],
   "source": [
    "# B vs C\n",
    "proportions_chisquare(count=df.drop('A',axis=0)['Yes'],nobs=n)"
   ]
  },
  {
   "cell_type": "markdown",
   "metadata": {
    "slideshow": {
     "slide_type": "fragment"
    }
   },
   "source": [
    "From these results, C is definitely performing worse than B but we can't tell if C is definitely worse than A or if A and B are any different. <br><br>\n",
    "It would be suggested to do further research on A vs C in order to support dropping C completely. "
   ]
  },
  {
   "cell_type": "markdown",
   "metadata": {
    "slideshow": {
     "slide_type": "slide"
    }
   },
   "source": [
    "# <center> Activity"
   ]
  },
  {
   "cell_type": "markdown",
   "metadata": {
    "slideshow": {
     "slide_type": "fragment"
    }
   },
   "source": [
    "A skincare company which sells their expensive face cream at mall kiosks is trying to improve the conversion rate of its employees. It has been theorized that the current success rate of its employees enticing a mall-goer to purchase their product of 8% is low due to the company dress code. The employees currently wear suits and dresses in attempt to make the product seem fancy and expensive. The company is considering going a different direction and instead having their employees dress in fun animal suits.  <br><br>\n",
    "They decided not to consult you initially and already ran a test with some employees being in normal dress code and others being in the new dress code. It is your task to use the data in 'trial_results.csv' to do the following:<br><br>\n",
    "    - Make sure the data they gathered will be sufficient to detect an\n",
    "      increase in conversion rate of at least 3%.\n",
    "    - Decide on your hypotheses and choose the appropriate test\n",
    "    - Calculate the test statistic\n",
    "    - Summarize the results"
   ]
  },
  {
   "cell_type": "code",
   "execution_count": null,
   "metadata": {},
   "outputs": [],
   "source": []
  },
  {
   "cell_type": "code",
   "execution_count": null,
   "metadata": {},
   "outputs": [],
   "source": []
  },
  {
   "cell_type": "code",
   "execution_count": null,
   "metadata": {},
   "outputs": [],
   "source": []
  },
  {
   "cell_type": "code",
   "execution_count": null,
   "metadata": {},
   "outputs": [],
   "source": []
  },
  {
   "cell_type": "code",
   "execution_count": null,
   "metadata": {},
   "outputs": [],
   "source": []
  }
 ],
 "metadata": {
  "celltoolbar": "Slideshow",
  "kernelspec": {
   "display_name": "Python 3",
   "language": "python",
   "name": "python3"
  },
  "language_info": {
   "codemirror_mode": {
    "name": "ipython",
    "version": 3
   },
   "file_extension": ".py",
   "mimetype": "text/x-python",
   "name": "python",
   "nbconvert_exporter": "python",
   "pygments_lexer": "ipython3",
   "version": "3.5.6"
  },
  "rise": {
   "theme": "sky",
   "transition": "zoom"
  }
 },
 "nbformat": 4,
 "nbformat_minor": 2
}
