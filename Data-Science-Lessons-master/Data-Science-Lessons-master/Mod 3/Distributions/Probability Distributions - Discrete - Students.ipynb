{
 "cells": [
  {
   "cell_type": "markdown",
   "metadata": {
    "slideshow": {
     "slide_type": "slide"
    }
   },
   "source": [
    "# <center>Discrete Probability Distributions</center>\n",
    "## <center>PMF and CDF, Expected Value and Variance </center>\n"
   ]
  },
  {
   "cell_type": "markdown",
   "metadata": {
    "slideshow": {
     "slide_type": "slide"
    }
   },
   "source": [
    "## <center>Learning Outcomes</center><br>\n",
    "<center> Students know and can apply Probability Mass and Cumulative Density Functions to find likelihood of events occurring in the population, explain the relationship between statistics and parameters, use specific distribution functions for Bernoulli, Binomial, and Poisson scenarios to find likelihood of events. </center>"
   ]
  },
  {
   "cell_type": "markdown",
   "metadata": {
    "slideshow": {
     "slide_type": "slide"
    }
   },
   "source": [
    "<center>Import libraries."
   ]
  },
  {
   "cell_type": "code",
   "execution_count": null,
   "metadata": {
    "slideshow": {
     "slide_type": "subslide"
    }
   },
   "outputs": [],
   "source": [
    "import numpy as np\n",
    "from scipy import stats\n",
    "import matplotlib.pyplot as plt\n",
    "import seaborn as sns\n",
    "from collections import Counter\n",
    "import pandas as pd\n",
    "from itertools import *"
   ]
  },
  {
   "cell_type": "markdown",
   "metadata": {
    "slideshow": {
     "slide_type": "slide"
    }
   },
   "source": [
    "## One Die"
   ]
  },
  {
   "cell_type": "code",
   "execution_count": null,
   "metadata": {
    "slideshow": {
     "slide_type": "subslide"
    }
   },
   "outputs": [],
   "source": [
    "die = [1,2,3,4,5,6]"
   ]
  },
  {
   "cell_type": "markdown",
   "metadata": {
    "slideshow": {
     "slide_type": "subslide"
    }
   },
   "source": [
    "What are the possible outcomes? How many ways can they occur?"
   ]
  },
  {
   "cell_type": "code",
   "execution_count": null,
   "metadata": {
    "slideshow": {
     "slide_type": "subslide"
    }
   },
   "outputs": [],
   "source": [
    "outcomes = dict(Counter(die))\n",
    "outcomes"
   ]
  },
  {
   "cell_type": "markdown",
   "metadata": {
    "slideshow": {
     "slide_type": "subslide"
    }
   },
   "source": [
    "What are the probabilities of each outcome?"
   ]
  },
  {
   "cell_type": "code",
   "execution_count": null,
   "metadata": {
    "slideshow": {
     "slide_type": "subslide"
    }
   },
   "outputs": [],
   "source": [
    "probs = np.divide(list(outcomes.values()),len(outcomes))\n",
    "probs"
   ]
  },
  {
   "cell_type": "markdown",
   "metadata": {
    "slideshow": {
     "slide_type": "subslide"
    }
   },
   "source": [
    "What if we want to plot the probabilities?"
   ]
  },
  {
   "cell_type": "markdown",
   "metadata": {
    "slideshow": {
     "slide_type": "slide"
    }
   },
   "source": [
    "### PMF - Probability Mass Function"
   ]
  },
  {
   "cell_type": "markdown",
   "metadata": {
    "slideshow": {
     "slide_type": "subslide"
    }
   },
   "source": [
    "Function to plot PMF."
   ]
  },
  {
   "cell_type": "code",
   "execution_count": null,
   "metadata": {
    "slideshow": {
     "slide_type": "subslide"
    }
   },
   "outputs": [],
   "source": [
    "def plot_pmf(outcomes, probs, xlabel, title):\n",
    "    plt.figure(figsize=(10,10))\n",
    "    plt.plot(list(outcomes),probs, 'ro', ms=12, mec='g', color='green')\n",
    "    plt.vlines(list(outcomes),0,probs)\n",
    "    plt.ylabel('Prob')\n",
    "    plt.xlabel(xlabel)\n",
    "    plt.xticks(list(outcomes))\n",
    "    plt.title(title)\n",
    "    plt.show()"
   ]
  },
  {
   "cell_type": "code",
   "execution_count": null,
   "metadata": {
    "slideshow": {
     "slide_type": "subslide"
    }
   },
   "outputs": [],
   "source": [
    "plot_pmf(die, probs, 'Die roll', 'PMF for One Die')"
   ]
  },
  {
   "cell_type": "markdown",
   "metadata": {
    "slideshow": {
     "slide_type": "subslide"
    }
   },
   "source": [
    "What are the odds of rolling a 1 or 2? What about rolling 4 or less?"
   ]
  },
  {
   "cell_type": "markdown",
   "metadata": {
    "slideshow": {
     "slide_type": "slide"
    }
   },
   "source": [
    "### CDF - Cumulative Distribution Function"
   ]
  },
  {
   "cell_type": "code",
   "execution_count": null,
   "metadata": {
    "slideshow": {
     "slide_type": "subslide"
    }
   },
   "outputs": [],
   "source": [
    "cumulative_probs = np.cumsum(probs)\n",
    "print('Cumulative probabilities:', cumulative_probs)"
   ]
  },
  {
   "cell_type": "code",
   "execution_count": null,
   "metadata": {
    "slideshow": {
     "slide_type": "subslide"
    }
   },
   "outputs": [],
   "source": [
    "def plot_cdf(outcomes, cumulative_probs, xlabel, title):\n",
    "    plt.figure(figsize=(10,10))\n",
    "    plt.plot(list(outcomes),cumulative_probs, 'ro', ms=12, mec='g', color='green')\n",
    "    plt.step(list(outcomes), cumulative_probs, color='green', where='post')\n",
    "    plt.ylabel('Prob')\n",
    "    plt.xlabel(xlabel)\n",
    "    plt.xticks(list(outcomes))\n",
    "    plt.title(title)"
   ]
  },
  {
   "cell_type": "code",
   "execution_count": null,
   "metadata": {
    "slideshow": {
     "slide_type": "subslide"
    }
   },
   "outputs": [],
   "source": [
    "plot_cdf(die, cumulative_probs, 'Die roll', 'One Die Roll CDF')"
   ]
  },
  {
   "cell_type": "markdown",
   "metadata": {
    "slideshow": {
     "slide_type": "subslide"
    }
   },
   "source": [
    "What can I expect to get on average when I roll one die?"
   ]
  },
  {
   "cell_type": "markdown",
   "metadata": {
    "slideshow": {
     "slide_type": "slide"
    }
   },
   "source": [
    "### Expected Value"
   ]
  },
  {
   "cell_type": "code",
   "execution_count": null,
   "metadata": {
    "slideshow": {
     "slide_type": "subslide"
    }
   },
   "outputs": [],
   "source": [
    "expected_value = np.sum(np.multiply(list(outcomes),probs))\n",
    "print('Expected Value:',expected_value)"
   ]
  },
  {
   "cell_type": "markdown",
   "metadata": {
    "slideshow": {
     "slide_type": "subslide"
    }
   },
   "source": [
    "How close to the expected value will each dice roll be?"
   ]
  },
  {
   "cell_type": "markdown",
   "metadata": {
    "slideshow": {
     "slide_type": "slide"
    }
   },
   "source": [
    "### Variance and Standard Deviation"
   ]
  },
  {
   "cell_type": "code",
   "execution_count": null,
   "metadata": {
    "slideshow": {
     "slide_type": "subslide"
    }
   },
   "outputs": [],
   "source": [
    "squared_differences = np.subtract(die,expected_value)**2\n",
    "variance = np.sum(squared_differences)/6\n",
    "print('Variance:',variance)"
   ]
  },
  {
   "cell_type": "code",
   "execution_count": null,
   "metadata": {
    "slideshow": {
     "slide_type": "subslide"
    }
   },
   "outputs": [],
   "source": [
    "np.var(die)"
   ]
  },
  {
   "cell_type": "code",
   "execution_count": null,
   "metadata": {
    "slideshow": {
     "slide_type": "subslide"
    }
   },
   "outputs": [],
   "source": [
    "std = np.sqrt(variance)\n",
    "print('Standard Deviation:', std)"
   ]
  },
  {
   "cell_type": "markdown",
   "metadata": {
    "slideshow": {
     "slide_type": "subslide"
    }
   },
   "source": [
    "Bringing it all together in a table."
   ]
  },
  {
   "cell_type": "code",
   "execution_count": null,
   "metadata": {
    "slideshow": {
     "slide_type": "subslide"
    }
   },
   "outputs": [],
   "source": [
    "## takes in a list of outcome values and the corresponding probablities\n",
    "## outputs a probability distribution table\n",
    "def distribution_stats(outcomes, probs):\n",
    "    ev = np.sum(np.multiply(outcomes,probs))\n",
    "    df = pd.DataFrame()\n",
    "    for outcome,prob in zip(outcomes,probs):\n",
    "        df[outcome]=[prob, outcome*prob, outcome-ev, (outcome-ev)**2, (outcome-ev)**2*prob]\n",
    "    df.set_index(pd.Series(['P(x)', 'E(X)', 'X-E(X)', '(X-E(X))^2', '(X-E(X))^2*P(x)']), inplace=True)\n",
    "    df['Sum']=df.sum(axis=1)\n",
    "    df_sum = pd.DataFrame()\n",
    "    df_sum['Variance'] = [df.iloc[-1]['Sum']]\n",
    "    df_sum['Standard Deviation'] = [np.sqrt(df_sum['Variance'][0])]\n",
    "    df_sum.reset_index(drop=True, inplace=True)\n",
    "    display(df.round(3),df_sum.round(3))"
   ]
  },
  {
   "cell_type": "code",
   "execution_count": null,
   "metadata": {
    "slideshow": {
     "slide_type": "subslide"
    }
   },
   "outputs": [],
   "source": [
    "distribution_stats(die, probs)"
   ]
  },
  {
   "cell_type": "markdown",
   "metadata": {
    "slideshow": {
     "slide_type": "subslide"
    }
   },
   "source": [
    "What if the odds aren't all equal?"
   ]
  },
  {
   "cell_type": "markdown",
   "metadata": {
    "slideshow": {
     "slide_type": "slide"
    }
   },
   "source": [
    "## Loaded Die"
   ]
  },
  {
   "cell_type": "code",
   "execution_count": null,
   "metadata": {
    "slideshow": {
     "slide_type": "subslide"
    }
   },
   "outputs": [],
   "source": [
    "loaded_die_probs = [1/12, 1/12, 4/12, 4/12, 1/12, 1/12]"
   ]
  },
  {
   "cell_type": "code",
   "execution_count": null,
   "metadata": {
    "slideshow": {
     "slide_type": "subslide"
    }
   },
   "outputs": [],
   "source": [
    "plot_pmf(die, loaded_die_probs, 'Die roll', 'Loaded Die Roll PMF')"
   ]
  },
  {
   "cell_type": "code",
   "execution_count": null,
   "metadata": {
    "slideshow": {
     "slide_type": "subslide"
    }
   },
   "outputs": [],
   "source": [
    "loaded_cumulative_probs = np.cumsum(loaded_die_probs)\n",
    "loaded_cumulative_probs"
   ]
  },
  {
   "cell_type": "code",
   "execution_count": null,
   "metadata": {
    "slideshow": {
     "slide_type": "subslide"
    }
   },
   "outputs": [],
   "source": [
    "plot_cdf(die, loaded_cumulative_probs, 'Die roll', 'Loaded Die Roll CDF')"
   ]
  },
  {
   "cell_type": "code",
   "execution_count": null,
   "metadata": {
    "slideshow": {
     "slide_type": "subslide"
    }
   },
   "outputs": [],
   "source": [
    "distribution_stats(die, loaded_die_probs)"
   ]
  },
  {
   "cell_type": "markdown",
   "metadata": {
    "slideshow": {
     "slide_type": "subslide"
    }
   },
   "source": [
    "Same expected value, difference variance."
   ]
  },
  {
   "cell_type": "markdown",
   "metadata": {
    "slideshow": {
     "slide_type": "slide"
    }
   },
   "source": [
    "## Two Dice"
   ]
  },
  {
   "cell_type": "code",
   "execution_count": null,
   "metadata": {
    "slideshow": {
     "slide_type": "subslide"
    }
   },
   "outputs": [],
   "source": [
    "[x for x in product(die,repeat=2)]"
   ]
  },
  {
   "cell_type": "code",
   "execution_count": null,
   "metadata": {
    "slideshow": {
     "slide_type": "subslide"
    }
   },
   "outputs": [],
   "source": [
    "two_dice_sums = [np.sum(i) for i in [x for x in product(die,repeat=2)]]\n",
    "two_dice_sums"
   ]
  },
  {
   "cell_type": "code",
   "execution_count": null,
   "metadata": {
    "slideshow": {
     "slide_type": "subslide"
    }
   },
   "outputs": [],
   "source": [
    "two_dice_outcomes = dict(Counter(two_dice_sums))\n",
    "two_dice_outcomes"
   ]
  },
  {
   "cell_type": "code",
   "execution_count": null,
   "metadata": {
    "slideshow": {
     "slide_type": "subslide"
    }
   },
   "outputs": [],
   "source": [
    "two_dice_probs = np.divide(list(two_dice_outcomes.values()),len(two_dice_sums))\n",
    "two_dice_probs"
   ]
  },
  {
   "cell_type": "code",
   "execution_count": null,
   "metadata": {
    "slideshow": {
     "slide_type": "subslide"
    }
   },
   "outputs": [],
   "source": [
    "plot_pmf(two_dice_outcomes, two_dice_probs, 'Dice roll sum', 'Two Dice Roll PMF')"
   ]
  },
  {
   "cell_type": "code",
   "execution_count": null,
   "metadata": {
    "slideshow": {
     "slide_type": "subslide"
    }
   },
   "outputs": [],
   "source": [
    "two_dice_cum_probs = np.cumsum(two_dice_probs)\n",
    "print('Cumulative probabilities:', two_dice_cum_probs)"
   ]
  },
  {
   "cell_type": "code",
   "execution_count": null,
   "metadata": {
    "slideshow": {
     "slide_type": "subslide"
    }
   },
   "outputs": [],
   "source": [
    "plot_cdf(two_dice_outcomes, two_dice_cum_probs, 'Die roll sum', 'Two Dice Roll CDF')"
   ]
  },
  {
   "cell_type": "code",
   "execution_count": null,
   "metadata": {
    "slideshow": {
     "slide_type": "subslide"
    }
   },
   "outputs": [],
   "source": [
    "distribution_stats(list(two_dice_outcomes), two_dice_probs)"
   ]
  },
  {
   "cell_type": "markdown",
   "metadata": {
    "slideshow": {
     "slide_type": "slide"
    }
   },
   "source": [
    "## Three Dice"
   ]
  },
  {
   "cell_type": "code",
   "execution_count": null,
   "metadata": {
    "slideshow": {
     "slide_type": "subslide"
    }
   },
   "outputs": [],
   "source": [
    "three_dice_sums = [np.sum(i) for i in [x for x in product(die,repeat=3)]]\n",
    "three_dice_outcomes = dict(Counter(three_dice_sums))\n",
    "three_dice_outcomes"
   ]
  },
  {
   "cell_type": "code",
   "execution_count": null,
   "metadata": {
    "slideshow": {
     "slide_type": "subslide"
    }
   },
   "outputs": [],
   "source": [
    "three_dice_probs = np.divide(list(three_dice_outcomes.values()),len(three_dice_sums))\n",
    "three_dice_probs"
   ]
  },
  {
   "cell_type": "code",
   "execution_count": null,
   "metadata": {
    "slideshow": {
     "slide_type": "subslide"
    }
   },
   "outputs": [],
   "source": [
    "plot_pmf(three_dice_outcomes, three_dice_probs, 'Dice roll sum', 'Three Dice Roll PMF')"
   ]
  },
  {
   "cell_type": "code",
   "execution_count": null,
   "metadata": {
    "slideshow": {
     "slide_type": "subslide"
    }
   },
   "outputs": [],
   "source": [
    "three_dice_cum_probs = np.cumsum(three_dice_probs)\n",
    "print('Cumulative probabilities:', three_dice_cum_probs)"
   ]
  },
  {
   "cell_type": "code",
   "execution_count": null,
   "metadata": {
    "slideshow": {
     "slide_type": "subslide"
    }
   },
   "outputs": [],
   "source": [
    "plot_cdf(three_dice_outcomes, three_dice_cum_probs, 'Dice roll sum', 'Three Dice Roll CDF')"
   ]
  },
  {
   "cell_type": "code",
   "execution_count": null,
   "metadata": {
    "scrolled": true,
    "slideshow": {
     "slide_type": "subslide"
    }
   },
   "outputs": [],
   "source": [
    "distribution_stats(list(three_dice_outcomes), three_dice_probs)"
   ]
  },
  {
   "cell_type": "markdown",
   "metadata": {
    "slideshow": {
     "slide_type": "slide"
    }
   },
   "source": [
    "Suppose now we roll a die. If we roll a one, then we roll a second time. What would this probability distribution look like?"
   ]
  },
  {
   "cell_type": "markdown",
   "metadata": {
    "slideshow": {
     "slide_type": "subslide"
    }
   },
   "source": [
    "By hand."
   ]
  },
  {
   "cell_type": "code",
   "execution_count": null,
   "metadata": {
    "slideshow": {
     "slide_type": "subslide"
    }
   },
   "outputs": [],
   "source": [
    "outcomes = [2,3,4,5,6,7]\n",
    "probs = [2/11,2/11,2/11,2/11,2/11,1/11]\n",
    "print(probs)\n",
    "distribution_stats(outcomes,probs)"
   ]
  },
  {
   "cell_type": "code",
   "execution_count": null,
   "metadata": {
    "slideshow": {
     "slide_type": "subslide"
    }
   },
   "outputs": [],
   "source": [
    "plot_pmf(outcomes, probs, 'Roll', 'PMF')"
   ]
  },
  {
   "cell_type": "code",
   "execution_count": null,
   "metadata": {
    "slideshow": {
     "slide_type": "subslide"
    }
   },
   "outputs": [],
   "source": [
    "cum_probs = np.cumsum(probs)\n",
    "plot_cdf(outcomes, cum_probs, 'Roll', 'CDF')"
   ]
  },
  {
   "cell_type": "markdown",
   "metadata": {
    "slideshow": {
     "slide_type": "slide"
    }
   },
   "source": [
    "# Activity"
   ]
  },
  {
   "cell_type": "markdown",
   "metadata": {
    "slideshow": {
     "slide_type": "subslide"
    }
   },
   "source": [
    "You flip a coin. If it's heads, you pick a prize from box A. If it's tails, you pick a prize from box B. <br><br>\n",
    "- Box A has two bags inside. One with 3 coins and one with 5 coins.<br>\n",
    "- Box B has four bags inside. The bags have 1, 2, 3, and 4 coins. <br><br>\n",
    "\n",
    "1) Build a distribution table by hand to calculate variance and standard deviation.\n",
    "       Use the `distribution_stats` function to check your answer. <br> <br>\n",
    "2) Graph the PMF and CDF for the outcomes.<br> <br>\n",
    "3) What are the odds you get between 2 and 4 (inclusive) coins? <br><br>\n",
    "\n",
    "<b>Bonus:</b> You now get two chances to pick a prize. What is the distribution of total tokens you will recieve assuming you don't replace the first bag you select?"
   ]
  },
  {
   "cell_type": "code",
   "execution_count": null,
   "metadata": {},
   "outputs": [],
   "source": []
  },
  {
   "cell_type": "code",
   "execution_count": null,
   "metadata": {},
   "outputs": [],
   "source": []
  },
  {
   "cell_type": "code",
   "execution_count": null,
   "metadata": {},
   "outputs": [],
   "source": []
  }
 ],
 "metadata": {
  "celltoolbar": "Slideshow",
  "kernelspec": {
   "display_name": "Python 3",
   "language": "python",
   "name": "python3"
  },
  "language_info": {
   "codemirror_mode": {
    "name": "ipython",
    "version": 3
   },
   "file_extension": ".py",
   "mimetype": "text/x-python",
   "name": "python",
   "nbconvert_exporter": "python",
   "pygments_lexer": "ipython3",
   "version": "3.5.6"
  }
 },
 "nbformat": 4,
 "nbformat_minor": 2
}
