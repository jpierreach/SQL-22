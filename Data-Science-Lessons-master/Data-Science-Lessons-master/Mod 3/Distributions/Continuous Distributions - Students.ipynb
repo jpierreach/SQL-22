{
 "cells": [
  {
   "cell_type": "markdown",
   "metadata": {
    "slideshow": {
     "slide_type": "slide"
    }
   },
   "source": [
    "# <center> Continuous Distributions </center>\n",
    "## <center> Normal and Standard Normal</center>"
   ]
  },
  {
   "cell_type": "code",
   "execution_count": 1,
   "metadata": {
    "slideshow": {
     "slide_type": "slide"
    }
   },
   "outputs": [],
   "source": [
    "import numpy as np\n",
    "from scipy import stats\n",
    "import matplotlib.pyplot as plt\n",
    "import seaborn as sns\n",
    "from collections import Counter\n",
    "import pandas as pd\n",
    "from itertools import *"
   ]
  },
  {
   "cell_type": "markdown",
   "metadata": {
    "slideshow": {
     "slide_type": "slide"
    }
   },
   "source": [
    "\n",
    "<tr>\n",
    "    <center>\n",
    "    <td><img src='pmf_one_die.png' width=\"400\" height=\"400\"> </td>\n",
    "    <td><img src='pmf_two_dice.png' width=\"400\" height=\"400\"></td>\n",
    "    <td><img src='pmf_three_dice.png' width=\"400\" height=\"400\"></td>\n",
    "    </center>\n",
    "<tr>\n",
    "    <center>\n",
    "    <td><img src='cdf_one_die.png' width=\"400\" height=\"400\"> </td>\n",
    "    <td><img src='cdf_two_dice.png' width=\"400\" height=\"400\"></td>\n",
    "    <td><img src='cdf_three_dice.png' width=\"400\" height=\"400\"></td>\n",
    "    </center>"
   ]
  },
  {
   "cell_type": "markdown",
   "metadata": {
    "slideshow": {
     "slide_type": "slide"
    }
   },
   "source": [
    "What if our dice has an infinite number of sides?"
   ]
  },
  {
   "cell_type": "markdown",
   "metadata": {
    "slideshow": {
     "slide_type": "fragment"
    }
   },
   "source": [
    "<center><img src='infinite_dice.gif' width='500' height='500'></center>"
   ]
  },
  {
   "cell_type": "markdown",
   "metadata": {
    "slideshow": {
     "slide_type": "slide"
    }
   },
   "source": [
    "Simulating an infinite dice with values 1-6..."
   ]
  },
  {
   "cell_type": "code",
   "execution_count": null,
   "metadata": {
    "slideshow": {
     "slide_type": "fragment"
    }
   },
   "outputs": [],
   "source": [
    "def infinite_dice_roll():\n",
    "    return(np.random.uniform(1,6))"
   ]
  },
  {
   "cell_type": "code",
   "execution_count": null,
   "metadata": {
    "slideshow": {
     "slide_type": "fragment"
    }
   },
   "outputs": [],
   "source": [
    "infinite_dice_roll()"
   ]
  },
  {
   "cell_type": "code",
   "execution_count": null,
   "metadata": {
    "slideshow": {
     "slide_type": "slide"
    }
   },
   "outputs": [],
   "source": [
    "one_die_infinite_rolls=[infinite_dice_roll() for x in range(100)]"
   ]
  },
  {
   "cell_type": "code",
   "execution_count": null,
   "metadata": {
    "slideshow": {
     "slide_type": "fragment"
    }
   },
   "outputs": [],
   "source": [
    "one_die_infinite_outcomes = dict(Counter(one_die_infinite_rolls))\n",
    "one_die_infinite_outcomes"
   ]
  },
  {
   "cell_type": "markdown",
   "metadata": {
    "slideshow": {
     "slide_type": "slide"
    }
   },
   "source": [
    "How could we calculate the probabilities for each possible value?"
   ]
  },
  {
   "cell_type": "code",
   "execution_count": null,
   "metadata": {
    "slideshow": {
     "slide_type": "fragment"
    }
   },
   "outputs": [],
   "source": [
    "probs = np.zeros(100)"
   ]
  },
  {
   "cell_type": "markdown",
   "metadata": {
    "slideshow": {
     "slide_type": "slide"
    }
   },
   "source": [
    "### <center>The probability of a continuous random variable at any specific value is zero."
   ]
  },
  {
   "cell_type": "code",
   "execution_count": null,
   "metadata": {
    "slideshow": {
     "slide_type": "slide"
    }
   },
   "outputs": [],
   "source": [
    "plt.plot(one_die_infinite_rolls, probs)\n",
    "plt.title('One Infinite Die Roll')\n",
    "plt.xlabel('Roll')"
   ]
  },
  {
   "cell_type": "markdown",
   "metadata": {
    "slideshow": {
     "slide_type": "slide"
    }
   },
   "source": [
    "Using a distribution plot."
   ]
  },
  {
   "cell_type": "code",
   "execution_count": null,
   "metadata": {
    "slideshow": {
     "slide_type": "fragment"
    }
   },
   "outputs": [],
   "source": [
    "sns.distplot(one_die_infinite_rolls)\n",
    "plt.title('One Infinite Die Roll')\n",
    "plt.xlabel('Roll')"
   ]
  },
  {
   "cell_type": "markdown",
   "metadata": {
    "slideshow": {
     "slide_type": "slide"
    }
   },
   "source": [
    "Now for two and three infinite dice."
   ]
  },
  {
   "cell_type": "code",
   "execution_count": null,
   "metadata": {
    "slideshow": {
     "slide_type": "fragment"
    }
   },
   "outputs": [],
   "source": [
    "two_dice_infinite_rolls=[infinite_dice_roll()+infinite_dice_roll() for x in range(100)]\n",
    "three_dice_infinite_rolls=[infinite_dice_roll()+infinite_dice_roll()+infinite_dice_roll() for x in range(100)]"
   ]
  },
  {
   "cell_type": "markdown",
   "metadata": {
    "slideshow": {
     "slide_type": "slide"
    }
   },
   "source": [
    "Scatter plots."
   ]
  },
  {
   "cell_type": "code",
   "execution_count": null,
   "metadata": {
    "slideshow": {
     "slide_type": "slide"
    }
   },
   "outputs": [],
   "source": [
    "plt.plot(two_dice_infinite_rolls, probs)\n",
    "plt.title('Two Infinite Dice Roll')\n",
    "plt.xlabel('Roll sum')\n",
    "plt.show()\n",
    "plt.plot(three_dice_infinite_rolls, probs)\n",
    "plt.title('Three Infinite Dice Roll')\n",
    "plt.xlabel('Roll sum')"
   ]
  },
  {
   "cell_type": "markdown",
   "metadata": {
    "slideshow": {
     "slide_type": "slide"
    }
   },
   "source": [
    "And distribution plots. "
   ]
  },
  {
   "cell_type": "code",
   "execution_count": null,
   "metadata": {
    "slideshow": {
     "slide_type": "slide"
    }
   },
   "outputs": [],
   "source": [
    "sns.distplot(two_dice_infinite_rolls)\n",
    "plt.show()\n",
    "sns.distplot(three_dice_infinite_rolls)"
   ]
  },
  {
   "cell_type": "markdown",
   "metadata": {
    "slideshow": {
     "slide_type": "slide"
    }
   },
   "source": [
    "Now lets increase the number of rolls."
   ]
  },
  {
   "cell_type": "code",
   "execution_count": null,
   "metadata": {
    "slideshow": {
     "slide_type": "fragment"
    }
   },
   "outputs": [],
   "source": [
    "one_die_infinite_rolls=[infinite_dice_roll() for x in range(10000)]\n",
    "two_dice_infinite_rolls=[infinite_dice_roll()+infinite_dice_roll() for x in range(10000)]\n",
    "three_dice_infinite_rolls=[infinite_dice_roll()+infinite_dice_roll()+infinite_dice_roll() for x in range(10000)]"
   ]
  },
  {
   "cell_type": "markdown",
   "metadata": {
    "slideshow": {
     "slide_type": "slide"
    }
   },
   "source": [
    "Distribution plots."
   ]
  },
  {
   "cell_type": "code",
   "execution_count": null,
   "metadata": {
    "slideshow": {
     "slide_type": "slide"
    }
   },
   "outputs": [],
   "source": [
    "sns.distplot(one_die_infinite_rolls)\n",
    "plt.title('One Infinite Die Roll')\n",
    "plt.xlabel('Roll')"
   ]
  },
  {
   "cell_type": "code",
   "execution_count": null,
   "metadata": {
    "slideshow": {
     "slide_type": "slide"
    }
   },
   "outputs": [],
   "source": [
    "sns.distplot(two_dice_infinite_rolls)\n",
    "plt.title('Two Infinite Dice Rolls')\n",
    "plt.xlabel('Roll sum')"
   ]
  },
  {
   "cell_type": "code",
   "execution_count": null,
   "metadata": {
    "slideshow": {
     "slide_type": "slide"
    }
   },
   "outputs": [],
   "source": [
    "sns.distplot(three_dice_infinite_rolls)\n",
    "plt.title('Three Infinite Dice Rolls')\n",
    "plt.xlabel('Roll sum')"
   ]
  },
  {
   "cell_type": "markdown",
   "metadata": {
    "slideshow": {
     "slide_type": "slide"
    }
   },
   "source": [
    "<tr>\n",
    "    <center>\n",
    "    <td><img src='pmf_one_die.png' width=\"400\" height=\"400\"> </td>\n",
    "    <td><img src='pmf_two_dice.png' width=\"400\" height=\"400\"></td>\n",
    "    <td><img src='pmf_three_dice.png' width=\"400\" height=\"400\"></td>\n",
    "    </center>\n",
    "<tr>\n",
    "    <center>\n",
    "    <td><img src='pmf_one_die_inf.png' width=\"400\" height=\"400\"> </td>\n",
    "    <td><img src='pmf_two_dice_inf.png' width=\"400\" height=\"400\"></td>\n",
    "    <td><img src='pmf_three_dice_inf.png' width=\"400\" height=\"400\"></td>\n",
    "    </center>"
   ]
  },
  {
   "cell_type": "markdown",
   "metadata": {
    "slideshow": {
     "slide_type": "slide"
    }
   },
   "source": [
    "### Plotting CDF for a continuous random variable"
   ]
  },
  {
   "cell_type": "markdown",
   "metadata": {
    "slideshow": {
     "slide_type": "fragment"
    }
   },
   "source": [
    "Using histograms to bin the continuous values."
   ]
  },
  {
   "cell_type": "code",
   "execution_count": null,
   "metadata": {
    "slideshow": {
     "slide_type": "slide"
    }
   },
   "outputs": [],
   "source": [
    "counts, bin_edges = np.histogram(one_die_infinite_rolls, bins=100)\n",
    "cumulative_probs = np.cumsum(np.divide(counts,10000))\n",
    "plt.plot(bin_edges[1:], cumulative_probs)\n",
    "plt.title('One Infinite Die Roll CDF')\n",
    "plt.xlabel('Roll')"
   ]
  },
  {
   "cell_type": "code",
   "execution_count": null,
   "metadata": {
    "slideshow": {
     "slide_type": "slide"
    }
   },
   "outputs": [],
   "source": [
    "counts, bin_edges = np.histogram(two_dice_infinite_rolls, bins=100)\n",
    "cumulative_probs = np.cumsum(np.divide(counts,10000))\n",
    "plt.plot(bin_edges[1:], cumulative_probs)\n",
    "plt.title('Two Infinite Dice Rolls CDF')\n",
    "plt.xlabel('Roll sum')"
   ]
  },
  {
   "cell_type": "code",
   "execution_count": null,
   "metadata": {
    "slideshow": {
     "slide_type": "slide"
    }
   },
   "outputs": [],
   "source": [
    "counts, bin_edges = np.histogram(three_dice_infinite_rolls, bins=100)\n",
    "cumulative_probs = np.cumsum(np.divide(counts,10000))\n",
    "plt.plot(bin_edges[1:], cumulative_probs)\n",
    "plt.title('Three Infinite Dice Rolls CDF')\n",
    "plt.xlabel('Roll sum')"
   ]
  },
  {
   "cell_type": "markdown",
   "metadata": {
    "slideshow": {
     "slide_type": "slide"
    }
   },
   "source": [
    "<tr>\n",
    "    <center>\n",
    "    <td><img src='cdf_one_die.png' width=\"400\" height=\"400\"> </td>\n",
    "    <td><img src='cdf_two_dice.png' width=\"400\" height=\"400\"></td>\n",
    "    <td><img src='cdf_three_dice.png' width=\"400\" height=\"400\"></td>\n",
    "    </center>\n",
    "<tr>\n",
    "    <center>\n",
    "    <td><img src='cdf_one_die_inf.png' width=\"400\" height=\"400\"> </td>\n",
    "    <td><img src='cdf_two_dice_inf.png' width=\"400\" height=\"400\"></td>\n",
    "    <td><img src='cdf_three_dice_inf.png' width=\"400\" height=\"400\"></td>\n",
    "    </center>"
   ]
  },
  {
   "cell_type": "markdown",
   "metadata": {
    "slideshow": {
     "slide_type": "slide"
    }
   },
   "source": [
    "Consider rolling 100 infinite dice, 10,000 times.."
   ]
  },
  {
   "cell_type": "code",
   "execution_count": null,
   "metadata": {
    "slideshow": {
     "slide_type": "slide"
    }
   },
   "outputs": [],
   "source": [
    "hundred_dice_rolls = []\n",
    "for i in range(10000):\n",
    "    roll_sum = 0\n",
    "    for i in range(100):\n",
    "        roll_sum+=infinite_dice_roll()\n",
    "    hundred_dice_rolls.append(roll_sum)\n",
    "sns.distplot(hundred_dice_rolls)\n",
    "plt.title('One Hundred Infinite Die Rolls')\n",
    "plt.xlabel('Roll sum')"
   ]
  },
  {
   "cell_type": "code",
   "execution_count": null,
   "metadata": {
    "slideshow": {
     "slide_type": "slide"
    }
   },
   "outputs": [],
   "source": [
    "counts, bin_edges = np.histogram(hundred_dice_rolls, bins=100)\n",
    "cumulative_probs = np.cumsum(np.divide(counts,10000))\n",
    "plt.plot(bin_edges[1:], cumulative_probs)\n",
    "plt.title('One Hundred Infinite Dice Rolls CDF')\n",
    "plt.xlabel('Roll sum')"
   ]
  },
  {
   "cell_type": "markdown",
   "metadata": {
    "slideshow": {
     "slide_type": "slide"
    }
   },
   "source": [
    "### <center> Central Limit Theorem </center> <br>\n",
    "<center>The sum of a large number of random variables will be approximately normally distributed, regardless of the underlying distribution."
   ]
  },
  {
   "cell_type": "markdown",
   "metadata": {
    "slideshow": {
     "slide_type": "slide"
    }
   },
   "source": [
    "Consider a loaded die..."
   ]
  },
  {
   "cell_type": "code",
   "execution_count": null,
   "metadata": {
    "slideshow": {
     "slide_type": "fragment"
    }
   },
   "outputs": [],
   "source": [
    "loaded_die = [1,2,3,6,6,6]"
   ]
  },
  {
   "cell_type": "markdown",
   "metadata": {
    "slideshow": {
     "slide_type": "slide"
    }
   },
   "source": [
    "One roll of the loaded die."
   ]
  },
  {
   "cell_type": "code",
   "execution_count": null,
   "metadata": {
    "slideshow": {
     "slide_type": "fragment"
    }
   },
   "outputs": [],
   "source": [
    "rolls = [np.random.choice(loaded_die) for x in range(1000)]\n",
    "sns.distplot(rolls)\n",
    "plt.title('Loaded Die Roll')\n",
    "plt.xlabel('Roll')"
   ]
  },
  {
   "cell_type": "markdown",
   "metadata": {
    "slideshow": {
     "slide_type": "slide"
    }
   },
   "source": [
    "Ten rolls of the loaded die."
   ]
  },
  {
   "cell_type": "code",
   "execution_count": null,
   "metadata": {
    "slideshow": {
     "slide_type": "fragment"
    }
   },
   "outputs": [],
   "source": [
    "rolls = [np.random.choice(loaded_die)+np.random.choice(loaded_die)\n",
    "         +np.random.choice(loaded_die)+np.random.choice(loaded_die)\n",
    "         +np.random.choice(loaded_die)+np.random.choice(loaded_die)\n",
    "         +np.random.choice(loaded_die)+np.random.choice(loaded_die)\n",
    "         +np.random.choice(loaded_die)+np.random.choice(loaded_die)for x in range(1000)]\n",
    "sns.distplot(rolls)\n",
    "plt.title('Ten Loaded Die Rolls')\n",
    "plt.xlabel('Roll sum')"
   ]
  },
  {
   "cell_type": "markdown",
   "metadata": {
    "slideshow": {
     "slide_type": "slide"
    }
   },
   "source": [
    "## <center> The Normal Distribution"
   ]
  },
  {
   "cell_type": "markdown",
   "metadata": {
    "slideshow": {
     "slide_type": "fragment"
    }
   },
   "source": [
    "<center><img src='normal_dist.png' height='500' width='500'>"
   ]
  },
  {
   "cell_type": "markdown",
   "metadata": {
    "slideshow": {
     "slide_type": "slide"
    }
   },
   "source": [
    "### <center> Properties"
   ]
  },
  {
   "cell_type": "markdown",
   "metadata": {
    "slideshow": {
     "slide_type": "fragment"
    }
   },
   "source": [
    "Mean = Median = Mode"
   ]
  },
  {
   "cell_type": "markdown",
   "metadata": {
    "slideshow": {
     "slide_type": "fragment"
    }
   },
   "source": [
    "Area under the curve is 1."
   ]
  },
  {
   "cell_type": "markdown",
   "metadata": {
    "slideshow": {
     "slide_type": "fragment"
    }
   },
   "source": [
    "68% of values are within 1 standard deviation of the mean, 𝜇±𝜎 <br> <br>\n",
    "95% of values are within 2 standard deviations of the mean, 𝜇±2𝜎 <br> <br>\n",
    "99.7% of values are within 3 standard deviations of the mean, 𝜇±3𝜎"
   ]
  },
  {
   "cell_type": "markdown",
   "metadata": {
    "slideshow": {
     "slide_type": "fragment"
    }
   },
   "source": [
    "Can be found with the population mean and variance/standard deviation."
   ]
  },
  {
   "cell_type": "markdown",
   "metadata": {
    "slideshow": {
     "slide_type": "slide"
    }
   },
   "source": [
    "<center><img src='norm_dist2.png' height='500' width='500'>"
   ]
  },
  {
   "cell_type": "markdown",
   "metadata": {
    "slideshow": {
     "slide_type": "slide"
    }
   },
   "source": [
    "<center><img src='norm_dist3.jpg' height='500' width='500'>"
   ]
  },
  {
   "cell_type": "markdown",
   "metadata": {
    "slideshow": {
     "slide_type": "slide"
    }
   },
   "source": [
    "A radar is used to measure speeds of cars on a highway. The speeds are normally distributed with a mean of 60 mph and a standard deviation of 10 mph. What is the probability that a car picked at random is travelling 45 mph?"
   ]
  },
  {
   "cell_type": "code",
   "execution_count": null,
   "metadata": {
    "slideshow": {
     "slide_type": "subslide"
    }
   },
   "outputs": [],
   "source": [
    "stats.norm(60,10).pdf(45)"
   ]
  },
  {
   "cell_type": "markdown",
   "metadata": {
    "slideshow": {
     "slide_type": "subslide"
    }
   },
   "source": [
    "What is the probability that a car picked at random is travelling 45 mph or less?"
   ]
  },
  {
   "cell_type": "code",
   "execution_count": null,
   "metadata": {
    "slideshow": {
     "slide_type": "subslide"
    }
   },
   "outputs": [],
   "source": [
    "stats.norm(60,10).cdf(45)"
   ]
  },
  {
   "cell_type": "markdown",
   "metadata": {
    "slideshow": {
     "slide_type": "slide"
    }
   },
   "source": [
    "Assuming a normal distribution, if 95% of data scientists drink between 7.5 and 15.5 ounces of coffee a day, what is the mean amount of coffee drank by data scientists and what is the standard deviation?"
   ]
  },
  {
   "cell_type": "code",
   "execution_count": null,
   "metadata": {
    "slideshow": {
     "slide_type": "subslide"
    }
   },
   "outputs": [],
   "source": [
    "mean = (7.5 + 15.5)/2\n",
    "print('Mean:',mean, 'ounces of coffee')"
   ]
  },
  {
   "cell_type": "code",
   "execution_count": null,
   "metadata": {
    "slideshow": {
     "slide_type": "subslide"
    }
   },
   "outputs": [],
   "source": [
    "standard_deviation = (15.5-11.5)/2\n",
    "print('Standard deviation:', standard_deviation)"
   ]
  },
  {
   "cell_type": "markdown",
   "metadata": {
    "slideshow": {
     "slide_type": "subslide"
    }
   },
   "source": [
    "Using the mean and standard deviation, check that 95% of data scientists do indeed drink 7.5 - 15.5 ounces of coffee per day."
   ]
  },
  {
   "cell_type": "code",
   "execution_count": null,
   "metadata": {
    "slideshow": {
     "slide_type": "subslide"
    }
   },
   "outputs": [],
   "source": [
    "stats.norm(11.5,2.0).cdf(15.5)-stats.norm(11.5,2.0).cdf(7.5)"
   ]
  },
  {
   "cell_type": "markdown",
   "metadata": {
    "slideshow": {
     "slide_type": "slide"
    }
   },
   "source": [
    "## <center>Standard Normal Distribution"
   ]
  },
  {
   "cell_type": "markdown",
   "metadata": {
    "slideshow": {
     "slide_type": "fragment"
    }
   },
   "source": [
    "<br>\n",
    "<br><center> A normal distribution with <br><br>\n",
    "𝜇 = 0<br><br>\n",
    "𝜎 = 1"
   ]
  },
  {
   "cell_type": "markdown",
   "metadata": {
    "slideshow": {
     "slide_type": "slide"
    }
   },
   "source": [
    "<center>We can convert any normal distribution to a standard normal distribution with the following:  <br><br>\n",
    "Z = (𝑥-𝜇)/𝜎 <br> <br>"
   ]
  },
  {
   "cell_type": "markdown",
   "metadata": {
    "slideshow": {
     "slide_type": "slide"
    }
   },
   "source": [
    "Consider two stocks, Stock A and Stock B. In terms of closing prices over the last couple years, Stock A has had a mean price of 12.75 with a standard deviation of 1.5 and Stock B has had a mean price of 5.30 with a standard deviation of 1.15. <br><br>\n",
    "If the current stock prices are 10.50 for Stock A and 4.50 for Stock B, which stock would be the better deal currently?"
   ]
  },
  {
   "cell_type": "code",
   "execution_count": null,
   "metadata": {
    "slideshow": {
     "slide_type": "slide"
    }
   },
   "outputs": [],
   "source": [
    "print('Stock A Z-score')\n",
    "(10.50-12.75)/1.5"
   ]
  },
  {
   "cell_type": "code",
   "execution_count": null,
   "metadata": {
    "slideshow": {
     "slide_type": "fragment"
    }
   },
   "outputs": [],
   "source": [
    "print('Stock B Z-score')\n",
    "(4.5-5.30)/1.5"
   ]
  },
  {
   "cell_type": "markdown",
   "metadata": {
    "slideshow": {
     "slide_type": "slide"
    }
   },
   "source": [
    "Z-score when dealing with samples."
   ]
  },
  {
   "cell_type": "markdown",
   "metadata": {
    "slideshow": {
     "slide_type": "slide"
    }
   },
   "source": [
    "The average number of scoops of ice cream sold by employees at Scoops Ahoy is 15 per hour with a standard deviation of 3. <br> <br>\n",
    "Steve worked for 6 hours and averaged 18 scoops sold per hour. <br> <br>\n",
    "What percent of employees did he do better than in selling scoops?\n"
   ]
  },
  {
   "cell_type": "markdown",
   "metadata": {
    "slideshow": {
     "slide_type": "slide"
    }
   },
   "source": [
    "<center><img src='z_test.jpg'>"
   ]
  },
  {
   "cell_type": "code",
   "execution_count": 2,
   "metadata": {
    "slideshow": {
     "slide_type": "fragment"
    }
   },
   "outputs": [],
   "source": [
    "x = 20\n",
    "mean = 18\n",
    "standard_deviation =  3\n",
    "n = 6"
   ]
  },
  {
   "cell_type": "code",
   "execution_count": 3,
   "metadata": {
    "slideshow": {
     "slide_type": "fragment"
    }
   },
   "outputs": [
    {
     "data": {
      "text/plain": [
       "1.6329931618554518"
      ]
     },
     "execution_count": 3,
     "metadata": {},
     "output_type": "execute_result"
    }
   ],
   "source": [
    "z = (x-mean)/(standard_deviation/np.sqrt(n))\n",
    "z"
   ]
  },
  {
   "cell_type": "code",
   "execution_count": 4,
   "metadata": {
    "slideshow": {
     "slide_type": "subslide"
    }
   },
   "outputs": [
    {
     "data": {
      "text/plain": [
       "0.9487647825701253"
      ]
     },
     "execution_count": 4,
     "metadata": {},
     "output_type": "execute_result"
    }
   ],
   "source": [
    "stats.norm(0,1).cdf(z)"
   ]
  },
  {
   "cell_type": "markdown",
   "metadata": {
    "slideshow": {
     "slide_type": "slide"
    }
   },
   "source": [
    "## <center> Activity"
   ]
  },
  {
   "cell_type": "markdown",
   "metadata": {
    "slideshow": {
     "slide_type": "fragment"
    }
   },
   "source": [
    "1) The average amount spent per order at Scoops Ahoy is 6.45 with a standard deviation of 2.35. What is the probability that the next customer will spend 7.50 or more?"
   ]
  },
  {
   "cell_type": "markdown",
   "metadata": {
    "slideshow": {
     "slide_type": "fragment"
    }
   },
   "source": [
    "2) The newest scoop flavor is a little inconsistent in terms of sweetness. About 99.7% of the time, one cup of the new flavor will have 32 - 48 grams of sugar. What is the average amount of sugar per cup and what is the standard deviation? What is the probability that you order a scoop and it has between 50 and 60 grams of sugar?"
   ]
  },
  {
   "cell_type": "markdown",
   "metadata": {
    "slideshow": {
     "slide_type": "fragment"
    }
   },
   "source": [
    "3) The average viewer count for a season of a Netflix show is 12 million with a standard deviation of 5 million. Stranger Things had an average view count of 20 million across three seasons. What percentage of shows does Stranger Things beat in terms of viewer count?"
   ]
  }
 ],
 "metadata": {
  "celltoolbar": "Slideshow",
  "kernelspec": {
   "display_name": "Python 3",
   "language": "python",
   "name": "python3"
  },
  "language_info": {
   "codemirror_mode": {
    "name": "ipython",
    "version": 3
   },
   "file_extension": ".py",
   "mimetype": "text/x-python",
   "name": "python",
   "nbconvert_exporter": "python",
   "pygments_lexer": "ipython3",
   "version": "3.5.6"
  }
 },
 "nbformat": 4,
 "nbformat_minor": 2
}
