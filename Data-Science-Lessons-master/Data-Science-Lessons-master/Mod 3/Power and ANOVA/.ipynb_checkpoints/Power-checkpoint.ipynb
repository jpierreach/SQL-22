{
 "cells": [
  {
   "cell_type": "markdown",
   "metadata": {
    "slideshow": {
     "slide_type": "slide"
    }
   },
   "source": [
    "# On the last episode, we covered..."
   ]
  },
  {
   "cell_type": "markdown",
   "metadata": {
    "slideshow": {
     "slide_type": "fragment"
    }
   },
   "source": [
    "* Type I and Type II Errors\n",
    "* Effect Size\n",
    "* Using scipy.stats to run TTests\n",
    "* Interpreting a p-value"
   ]
  },
  {
   "cell_type": "markdown",
   "metadata": {
    "slideshow": {
     "slide_type": "slide"
    }
   },
   "source": [
    "# Today\n",
    "**YWBAT**\n",
    "* Explain the relationship between effect size and power\n",
    "* Interpret power on a given hypothesis test"
   ]
  },
  {
   "cell_type": "markdown",
   "metadata": {
    "slideshow": {
     "slide_type": "slide"
    }
   },
   "source": [
    "# Let's look at a scenario where we have a control group and an experimental group"
   ]
  },
  {
   "cell_type": "code",
   "execution_count": 149,
   "metadata": {
    "slideshow": {
     "slide_type": "fragment"
    }
   },
   "outputs": [
    {
     "data": {
      "text/html": [
       "<div>\n",
       "<style scoped>\n",
       "    .dataframe tbody tr th:only-of-type {\n",
       "        vertical-align: middle;\n",
       "    }\n",
       "\n",
       "    .dataframe tbody tr th {\n",
       "        vertical-align: top;\n",
       "    }\n",
       "\n",
       "    .dataframe thead th {\n",
       "        text-align: right;\n",
       "    }\n",
       "</style>\n",
       "<table border=\"1\" class=\"dataframe\">\n",
       "  <thead>\n",
       "    <tr style=\"text-align: right;\">\n",
       "      <th></th>\n",
       "      <th>q1_control</th>\n",
       "      <th>q1_experimental</th>\n",
       "      <th>q2_control</th>\n",
       "      <th>q2_experimental</th>\n",
       "      <th>q3_control</th>\n",
       "      <th>q3_experimental</th>\n",
       "    </tr>\n",
       "  </thead>\n",
       "  <tbody>\n",
       "    <tr>\n",
       "      <td>0</td>\n",
       "      <td>20.640567</td>\n",
       "      <td>25.210719</td>\n",
       "      <td>25.703572</td>\n",
       "      <td>23.090863</td>\n",
       "      <td>56.546026</td>\n",
       "      <td>55.999113</td>\n",
       "    </tr>\n",
       "    <tr>\n",
       "      <td>1</td>\n",
       "      <td>21.847046</td>\n",
       "      <td>20.797593</td>\n",
       "      <td>19.818018</td>\n",
       "      <td>19.998542</td>\n",
       "      <td>59.875186</td>\n",
       "      <td>58.884652</td>\n",
       "    </tr>\n",
       "    <tr>\n",
       "      <td>2</td>\n",
       "      <td>24.541426</td>\n",
       "      <td>21.598802</td>\n",
       "      <td>17.874780</td>\n",
       "      <td>24.519374</td>\n",
       "      <td>60.072067</td>\n",
       "      <td>67.404292</td>\n",
       "    </tr>\n",
       "    <tr>\n",
       "      <td>3</td>\n",
       "      <td>19.121475</td>\n",
       "      <td>18.450466</td>\n",
       "      <td>15.458857</td>\n",
       "      <td>22.108927</td>\n",
       "      <td>61.890521</td>\n",
       "      <td>65.544765</td>\n",
       "    </tr>\n",
       "    <tr>\n",
       "      <td>4</td>\n",
       "      <td>17.087618</td>\n",
       "      <td>22.344364</td>\n",
       "      <td>14.590581</td>\n",
       "      <td>20.678094</td>\n",
       "      <td>54.532567</td>\n",
       "      <td>61.749442</td>\n",
       "    </tr>\n",
       "  </tbody>\n",
       "</table>\n",
       "</div>"
      ],
      "text/plain": [
       "   q1_control  q1_experimental  q2_control  q2_experimental  q3_control  \\\n",
       "0   20.640567        25.210719   25.703572        23.090863   56.546026   \n",
       "1   21.847046        20.797593   19.818018        19.998542   59.875186   \n",
       "2   24.541426        21.598802   17.874780        24.519374   60.072067   \n",
       "3   19.121475        18.450466   15.458857        22.108927   61.890521   \n",
       "4   17.087618        22.344364   14.590581        20.678094   54.532567   \n",
       "\n",
       "   q3_experimental  \n",
       "0        55.999113  \n",
       "1        58.884652  \n",
       "2        67.404292  \n",
       "3        65.544765  \n",
       "4        61.749442  "
      ]
     },
     "execution_count": 149,
     "metadata": {},
     "output_type": "execute_result"
    }
   ],
   "source": [
    "import numpy as np\n",
    "import pandas as pd\n",
    "np.random.seed(42)\n",
    "df = pd.read_csv(\"power_data.csv\")\n",
    "df.head()"
   ]
  },
  {
   "cell_type": "markdown",
   "metadata": {
    "slideshow": {
     "slide_type": "slide"
    }
   },
   "source": [
    "# Let's plot these against each other"
   ]
  },
  {
   "cell_type": "code",
   "execution_count": 50,
   "metadata": {
    "slideshow": {
     "slide_type": "fragment"
    }
   },
   "outputs": [
    {
     "data": {
      "image/png": "[encoded data removed]",
      "text/plain": [
       "<Figure size 504x288 with 1 Axes>"
      ]
     },
     "metadata": {
      "needs_background": "light"
     },
     "output_type": "display_data"
    }
   ],
   "source": [
    "import matplotlib.pyplot as plt\n",
    "\n",
    "plt.figure(figsize=(7, 4))\n",
    "plt.hist(df['q1_control'], bins=25, color='g', alpha=0.5, label='control')\n",
    "plt.hist(df['q1_experimental'], bins=25, color='purple', alpha=0.5, label='experimental')\n",
    "plt.legend()\n",
    "plt.show()"
   ]
  },
  {
   "cell_type": "markdown",
   "metadata": {
    "slideshow": {
     "slide_type": "slide"
    }
   },
   "source": [
    "# Hypothesis Testing - Independent TTest\n",
    "* H0: mu_control = mu_experimental\n",
    "* HA: mu_control != mu_experimental\n",
    "* alpha = 0.05"
   ]
  },
  {
   "cell_type": "code",
   "execution_count": 51,
   "metadata": {
    "slideshow": {
     "slide_type": "fragment"
    }
   },
   "outputs": [
    {
     "data": {
      "text/plain": [
       "Ttest_indResult(statistic=-5.857512205275946, pvalue=1.9305718945997362e-08)"
      ]
     },
     "execution_count": 51,
     "metadata": {},
     "output_type": "execute_result"
    }
   ],
   "source": [
    "import scipy.stats as stats\n",
    "\n",
    "stats.ttest_ind(df['q1_control'], df['q1_experimental'])"
   ]
  },
  {
   "cell_type": "code",
   "execution_count": 52,
   "metadata": {
    "slideshow": {
     "slide_type": "slide"
    }
   },
   "outputs": [],
   "source": [
    "# let's calculate effect size\n",
    "from numpy import mean, sqrt, std\n",
    "\n",
    "def cohens_d_one_samp(x, mu0):\n",
    "    return (x.mean() - mu0) / x.std()\n",
    "\n",
    "\n",
    "def cohens_d_two_samp(x,y):\n",
    "    nx = len(x)\n",
    "    ny = len(y)\n",
    "    dof = nx + ny - 2\n",
    "    return (mean(x) - mean(y)) / sqrt(((nx-1)*std(x, ddof=1) ** 2 + (ny-1)*std(y, ddof=1) ** 2) / dof)"
   ]
  },
  {
   "cell_type": "code",
   "execution_count": 53,
   "metadata": {
    "slideshow": {
     "slide_type": "fragment"
    }
   },
   "outputs": [
    {
     "data": {
      "text/plain": [
       "0.828377320246718"
      ]
     },
     "execution_count": 53,
     "metadata": {},
     "output_type": "execute_result"
    }
   ],
   "source": [
    "effect_size = cohens_d_two_samp(df['q1_experimental'], df['q1_control'])\n",
    "effect_size"
   ]
  },
  {
   "cell_type": "markdown",
   "metadata": {
    "slideshow": {
     "slide_type": "slide"
    }
   },
   "source": [
    "### This is well and good...\n",
    "but the problem is, this isn't scaled across all problems and distributions. Because of this we need **Power**.  \n",
    "\n",
    "**Power** is equivalent to  `1 - Type II Error rate` and it's scaled across all problems. Which is great for interpretation. \n"
   ]
  },
  {
   "cell_type": "markdown",
   "metadata": {
    "slideshow": {
     "slide_type": "slide"
    }
   },
   "source": [
    "# Import "
   ]
  },
  {
   "cell_type": "code",
   "execution_count": 54,
   "metadata": {
    "scrolled": true,
    "slideshow": {
     "slide_type": "slide"
    }
   },
   "outputs": [
    {
     "name": "stdout",
     "output_type": "stream",
     "text": [
      "Help on method solve_power in module statsmodels.stats.power:\n",
      "\n",
      "solve_power(effect_size=None, nobs1=None, alpha=None, power=None, ratio=1.0, alternative='two-sided') method of statsmodels.stats.power.TTestIndPower instance\n",
      "    solve for any one parameter of the power of a two sample t-test\n",
      "    \n",
      "    for t-test the keywords are:\n",
      "        effect_size, nobs1, alpha, power, ratio\n",
      "    \n",
      "    exactly one needs to be ``None``, all others need numeric values\n",
      "    \n",
      "    Parameters\n",
      "    ----------\n",
      "    effect_size : float\n",
      "        standardized effect size, difference between the two means divided\n",
      "        by the standard deviation. `effect_size` has to be positive.\n",
      "    nobs1 : int or float\n",
      "        number of observations of sample 1. The number of observations of\n",
      "        sample two is ratio times the size of sample 1,\n",
      "        i.e. ``nobs2 = nobs1 * ratio``\n",
      "    alpha : float in interval (0,1)\n",
      "        significance level, e.g. 0.05, is the probability of a type I\n",
      "        error, that is wrong rejections if the Null Hypothesis is true.\n",
      "    power : float in interval (0,1)\n",
      "        power of the test, e.g. 0.8, is one minus the probability of a\n",
      "        type II error. Power is the probability that the test correctly\n",
      "        rejects the Null Hypothesis if the Alternative Hypothesis is true.\n",
      "    ratio : float\n",
      "        ratio of the number of observations in sample 2 relative to\n",
      "        sample 1. see description of nobs1\n",
      "        The default for ratio is 1; to solve for ratio given the other\n",
      "        arguments it has to be explicitly set to None.\n",
      "    alternative : string, 'two-sided' (default), 'larger', 'smaller'\n",
      "        extra argument to choose whether the power is calculated for a\n",
      "        two-sided (default) or one sided test. The one-sided test can be\n",
      "        either 'larger', 'smaller'.\n",
      "    \n",
      "    Returns\n",
      "    -------\n",
      "    value : float\n",
      "        The value of the parameter that was set to None in the call. The\n",
      "        value solves the power equation given the remaining parameters.\n",
      "    \n",
      "    \n",
      "    Notes\n",
      "    -----\n",
      "    The function uses scipy.optimize for finding the value that satisfies\n",
      "    the power equation. It first uses ``brentq`` with a prior search for\n",
      "    bounds. If this fails to find a root, ``fsolve`` is used. If ``fsolve``\n",
      "    also fails, then, for ``alpha``, ``power`` and ``effect_size``,\n",
      "    ``brentq`` with fixed bounds is used. However, there can still be cases\n",
      "    where this fails.\n",
      "\n"
     ]
    }
   ],
   "source": [
    "from statsmodels.stats.power import tt_ind_solve_power\n",
    "\n",
    "help(tt_ind_solve_power)"
   ]
  },
  {
   "cell_type": "markdown",
   "metadata": {
    "slideshow": {
     "slide_type": "slide"
    }
   },
   "source": [
    "### Preparing variables for power analysis"
   ]
  },
  {
   "cell_type": "code",
   "execution_count": 55,
   "metadata": {
    "slideshow": {
     "slide_type": "fragment"
    }
   },
   "outputs": [],
   "source": [
    "effect_size, nobs1, alpha = effect_size, df['q1_control'].shape[0], 0.05"
   ]
  },
  {
   "cell_type": "code",
   "execution_count": 56,
   "metadata": {
    "slideshow": {
     "slide_type": "fragment"
    }
   },
   "outputs": [
    {
     "data": {
      "text/plain": [
       "1.0"
      ]
     },
     "execution_count": 56,
     "metadata": {},
     "output_type": "execute_result"
    }
   ],
   "source": [
    "tt_ind_solve_power(effect_size=effect_size, nobs1=nobs, alpha=0.05)\n",
    "\n",
    "# Since power = 1.0 our type_ii_error_rate = 0.0"
   ]
  },
  {
   "cell_type": "markdown",
   "metadata": {
    "slideshow": {
     "slide_type": "slide"
    }
   },
   "source": [
    "# Power Discussion\n"
   ]
  },
  {
   "cell_type": "markdown",
   "metadata": {},
   "source": [
    "### q1 Summary\n",
    "- Hypothesis Test\n",
    "    * Reject the null hypothesis\n",
    "    * This means that the means between our two groups is different\n",
    "- Effect Size\n",
    "    * The effect size ~ 0.8 which means that there is a large effect on the mean outcome of the experimental group. \n",
    "- Power Analysis\n",
    "    * After our power analysis, we're almost 100% certain that we will fail to reject to our null hypothesis when we need to. "
   ]
  },
  {
   "cell_type": "markdown",
   "metadata": {
    "slideshow": {
     "slide_type": "slide"
    }
   },
   "source": [
    "# Activity\n",
    "\n",
    "Conduct a power analysis for the given problems, write a summary. \n",
    "\n",
    "Use the columns from the dataframe `df` above"
   ]
  },
  {
   "cell_type": "code",
   "execution_count": 152,
   "metadata": {
    "slideshow": {
     "slide_type": "fragment"
    }
   },
   "outputs": [
    {
     "data": {
      "text/html": [
       "<div>\n",
       "<style scoped>\n",
       "    .dataframe tbody tr th:only-of-type {\n",
       "        vertical-align: middle;\n",
       "    }\n",
       "\n",
       "    .dataframe tbody tr th {\n",
       "        vertical-align: top;\n",
       "    }\n",
       "\n",
       "    .dataframe thead th {\n",
       "        text-align: right;\n",
       "    }\n",
       "</style>\n",
       "<table border=\"1\" class=\"dataframe\">\n",
       "  <thead>\n",
       "    <tr style=\"text-align: right;\">\n",
       "      <th></th>\n",
       "      <th>q1_control</th>\n",
       "      <th>q1_experimental</th>\n",
       "      <th>q2_control</th>\n",
       "      <th>q2_experimental</th>\n",
       "      <th>q3_control</th>\n",
       "      <th>q3_experimental</th>\n",
       "    </tr>\n",
       "  </thead>\n",
       "  <tbody>\n",
       "    <tr>\n",
       "      <td>0</td>\n",
       "      <td>20.640567</td>\n",
       "      <td>25.210719</td>\n",
       "      <td>25.703572</td>\n",
       "      <td>23.090863</td>\n",
       "      <td>56.546026</td>\n",
       "      <td>55.999113</td>\n",
       "    </tr>\n",
       "    <tr>\n",
       "      <td>1</td>\n",
       "      <td>21.847046</td>\n",
       "      <td>20.797593</td>\n",
       "      <td>19.818018</td>\n",
       "      <td>19.998542</td>\n",
       "      <td>59.875186</td>\n",
       "      <td>58.884652</td>\n",
       "    </tr>\n",
       "    <tr>\n",
       "      <td>2</td>\n",
       "      <td>24.541426</td>\n",
       "      <td>21.598802</td>\n",
       "      <td>17.874780</td>\n",
       "      <td>24.519374</td>\n",
       "      <td>60.072067</td>\n",
       "      <td>67.404292</td>\n",
       "    </tr>\n",
       "    <tr>\n",
       "      <td>3</td>\n",
       "      <td>19.121475</td>\n",
       "      <td>18.450466</td>\n",
       "      <td>15.458857</td>\n",
       "      <td>22.108927</td>\n",
       "      <td>61.890521</td>\n",
       "      <td>65.544765</td>\n",
       "    </tr>\n",
       "    <tr>\n",
       "      <td>4</td>\n",
       "      <td>17.087618</td>\n",
       "      <td>22.344364</td>\n",
       "      <td>14.590581</td>\n",
       "      <td>20.678094</td>\n",
       "      <td>54.532567</td>\n",
       "      <td>61.749442</td>\n",
       "    </tr>\n",
       "  </tbody>\n",
       "</table>\n",
       "</div>"
      ],
      "text/plain": [
       "   q1_control  q1_experimental  q2_control  q2_experimental  q3_control  \\\n",
       "0   20.640567        25.210719   25.703572        23.090863   56.546026   \n",
       "1   21.847046        20.797593   19.818018        19.998542   59.875186   \n",
       "2   24.541426        21.598802   17.874780        24.519374   60.072067   \n",
       "3   19.121475        18.450466   15.458857        22.108927   61.890521   \n",
       "4   17.087618        22.344364   14.590581        20.678094   54.532567   \n",
       "\n",
       "   q3_experimental  \n",
       "0        55.999113  \n",
       "1        58.884652  \n",
       "2        67.404292  \n",
       "3        65.544765  \n",
       "4        61.749442  "
      ]
     },
     "execution_count": 152,
     "metadata": {},
     "output_type": "execute_result"
    }
   ],
   "source": [
    "df.head()"
   ]
  },
  {
   "cell_type": "markdown",
   "metadata": {
    "slideshow": {
     "slide_type": "slide"
    }
   },
   "source": [
    "## q2\n",
    "\n",
    "An experiment was run to determine if adding a button will increase engagemnent on the Facebook timeline.  Please conduct the proper test, effect size and power analysis to determine if there is an effect. "
   ]
  },
  {
   "cell_type": "code",
   "execution_count": null,
   "metadata": {
    "slideshow": {
     "slide_type": "fragment"
    }
   },
   "outputs": [],
   "source": [
    "# Work goes here"
   ]
  },
  {
   "cell_type": "markdown",
   "metadata": {
    "slideshow": {
     "slide_type": "slide"
    }
   },
   "source": [
    "## q3"
   ]
  },
  {
   "cell_type": "code",
   "execution_count": null,
   "metadata": {
    "slideshow": {
     "slide_type": "fragment"
    }
   },
   "outputs": [],
   "source": [
    "# Work goes here"
   ]
  },
  {
   "cell_type": "markdown",
   "metadata": {
    "slideshow": {
     "slide_type": "slide"
    }
   },
   "source": [
    "## Repeat q3...\n",
    "But this time for your two groups, take a random sample of 30 individuals from each group. The control group is completed for you. "
   ]
  },
  {
   "cell_type": "code",
   "execution_count": 151,
   "metadata": {
    "slideshow": {
     "slide_type": "fragment"
    }
   },
   "outputs": [],
   "source": [
    "control_samp = np.random.choice(df['q3_control'], replace=False, size=30)\n",
    "experimental_samp = None"
   ]
  },
  {
   "cell_type": "code",
   "execution_count": null,
   "metadata": {
    "slideshow": {
     "slide_type": "fragment"
    }
   },
   "outputs": [],
   "source": [
    "# work goes here"
   ]
  },
  {
   "cell_type": "markdown",
   "metadata": {
    "slideshow": {
     "slide_type": "slide"
    }
   },
   "source": [
    "# Discussion Questions\n",
    "\n",
    "1. What did you notice as you calculated power across these 3 problems? \n",
    "\n",
    "2. What did you notice from q3 to Repeat q3? Did the results change at all? Why do you think they did or did not? "
   ]
  }
 ],
 "metadata": {
  "celltoolbar": "Slideshow",
  "kernelspec": {
   "display_name": "Python [conda env:flatiron-env] *",
   "language": "python",
   "name": "conda-env-flatiron-env-py"
  },
  "language_info": {
   "codemirror_mode": {
    "name": "ipython",
    "version": 3
   },
   "file_extension": ".py",
   "mimetype": "text/x-python",
   "name": "python",
   "nbconvert_exporter": "python",
   "pygments_lexer": "ipython3",
   "version": "3.6.0"
  }
 },
 "nbformat": 4,
 "nbformat_minor": 2
}
