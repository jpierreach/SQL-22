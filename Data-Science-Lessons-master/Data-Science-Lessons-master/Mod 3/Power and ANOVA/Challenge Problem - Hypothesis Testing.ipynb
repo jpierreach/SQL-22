{
 "cells": [
  {
   "cell_type": "markdown",
   "metadata": {},
   "source": [
    "# <center> Challenge Problem"
   ]
  },
  {
   "cell_type": "markdown",
   "metadata": {},
   "source": [
    "## <center> Hypothesis Testing"
   ]
  },
  {
   "cell_type": "markdown",
   "metadata": {},
   "source": [
    "A company has been testing out different ad configurations on YouTube videos. They have tried modifying the position of the ad within the video, the length of the ad, the location of the call-to-action button linking to their website, the color of the ad background, the background music, and the category of video the ad is placed on. <br><br>\n",
    "They have compiled a collection of various experiments with the corresponding number of conversions, or visits to their website resulting from each ad, in the 'youtube_ad_data.csv' file. <br><br>"
   ]
  },
  {
   "cell_type": "markdown",
   "metadata": {},
   "source": [
    "For the following questions, write out the appropriate hypothesis test, calculate the test statistic and signficance, report the power and effect size of the test, run an ad-hoc test if applicable, and write a summary of the results."
   ]
  },
  {
   "cell_type": "markdown",
   "metadata": {},
   "source": [
    "### 1) Do ads placed on gaming videos lead to higher conversion on average?"
   ]
  },
  {
   "cell_type": "markdown",
   "metadata": {},
   "source": [
    "### 2) Is the conversion rate different for ads that are very short versus ads that are long?"
   ]
  },
  {
   "cell_type": "markdown",
   "metadata": {},
   "source": [
    "### 3) Does it matter what background music is included in an ad?"
   ]
  },
  {
   "cell_type": "markdown",
   "metadata": {},
   "source": [
    "### 4) Is the conversion rate for ads placed at the beginning, middle, or end of a video different depending on where the call-to-action button is place?"
   ]
  },
  {
   "cell_type": "code",
   "execution_count": null,
   "metadata": {},
   "outputs": [],
   "source": []
  },
  {
   "cell_type": "code",
   "execution_count": null,
   "metadata": {},
   "outputs": [],
   "source": []
  },
  {
   "cell_type": "code",
   "execution_count": null,
   "metadata": {},
   "outputs": [],
   "source": []
  },
  {
   "cell_type": "code",
   "execution_count": null,
   "metadata": {},
   "outputs": [],
   "source": []
  },
  {
   "cell_type": "code",
   "execution_count": null,
   "metadata": {},
   "outputs": [],
   "source": []
  }
 ],
 "metadata": {
  "kernelspec": {
   "display_name": "Python 3",
   "language": "python",
   "name": "python3"
  },
  "language_info": {
   "codemirror_mode": {
    "name": "ipython",
    "version": 3
   },
   "file_extension": ".py",
   "mimetype": "text/x-python",
   "name": "python",
   "nbconvert_exporter": "python",
   "pygments_lexer": "ipython3",
   "version": "3.5.6"
  }
 },
 "nbformat": 4,
 "nbformat_minor": 2
}
