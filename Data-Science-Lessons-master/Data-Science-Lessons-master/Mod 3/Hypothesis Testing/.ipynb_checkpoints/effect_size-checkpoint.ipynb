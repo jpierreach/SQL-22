{
 "cells": [
  {
   "cell_type": "markdown",
   "metadata": {},
   "source": [
    "### Objectives\n",
    "YWBAT\n",
    "* differentiate between distributions with high type I and type II error rates\n",
    "* interpret effect size between two distributions\n",
    "* explain how effect size effects type I and type II error rates"
   ]
  },
  {
   "cell_type": "markdown",
   "metadata": {},
   "source": [
    "### Outline\n",
    "* Define type I and type II errors\n",
    "* Calculate effect size on a distribution\n",
    "* Have a discussion\n",
    "* Activity"
   ]
  },
  {
   "cell_type": "code",
   "execution_count": 55,
   "metadata": {},
   "outputs": [],
   "source": [
    "import numpy as np\n",
    "import pandas as pd\n",
    "\n",
    "import scipy.stats as stats\n",
    "\n",
    "import matplotlib.pyplot as plt\n",
    "import seaborn as sns\n",
    "\n",
    "np.random.seed(42)"
   ]
  },
  {
   "cell_type": "markdown",
   "metadata": {},
   "source": [
    "# Type I & Type II Error\n",
    "\n",
    "![](images/typei-typeii-error.gif)"
   ]
  },
  {
   "cell_type": "markdown",
   "metadata": {},
   "source": [
    "### Scenario \n",
    "- We're testing 2 groups, population_one and population_two.  \n",
    "- One group will be given a 150mg dose of caffeine and the other will be given nothing. \n",
    "- Each person will then perform a deadlift set for max reps. \n",
    "- After the study is conducted, we'll then run the results through a hypothesis test"
   ]
  },
  {
   "cell_type": "code",
   "execution_count": 40,
   "metadata": {},
   "outputs": [],
   "source": [
    "# calculate the probability of making a type I error in the following example\n",
    "\n",
    "group_one = np.random.normal(loc=20, scale=5, size=2000)\n",
    "group_two = np.random.normal(loc=22, scale=4, size=2000)"
   ]
  },
  {
   "cell_type": "code",
   "execution_count": 42,
   "metadata": {},
   "outputs": [
    {
     "data": {
      "image/png": "[encoded data removed]",
      "text/plain": [
       "<Figure size 576x360 with 1 Axes>"
      ]
     },
     "metadata": {
      "needs_background": "light"
     },
     "output_type": "display_data"
    }
   ],
   "source": [
    "plt.figure(figsize=(8, 5))\n",
    "plt.hist(group_one, bins=50, label='pop one', color='b', alpha=0.5)\n",
    "plt.hist(group_two, bins=50, label='pop two', color='g', alpha=0.5)\n",
    "\n",
    "plt.vlines(group_one.mean(), colors='k', label='pop one mean', linestyle='dashed', linewidth=4, ymin=0, ymax=140)\n",
    "plt.vlines(group_two.mean(), colors='r', label='pop two mean', linestyle='dashed', linewidth=4, ymin=0, ymax=140)\n",
    "\n",
    "plt.legend()\n",
    "plt.show()"
   ]
  },
  {
   "cell_type": "markdown",
   "metadata": {},
   "source": [
    "**Hypothesis Test**\n",
    "* H0: mu1 = mu2, the mean reps between our two groups is the same\n",
    "* HA: mu1 != mu2, the mean reps between our two groups is not the same"
   ]
  },
  {
   "cell_type": "code",
   "execution_count": 41,
   "metadata": {},
   "outputs": [
    {
     "name": "stdout",
     "output_type": "stream",
     "text": [
      "Ind TTest Results\n",
      " t=-13.843043094852112, p=1.3280522235061893e-42\n"
     ]
    }
   ],
   "source": [
    "# hypothesis test\n",
    "t, p = stats.ttest_ind(group_one, group_two)\n",
    "print(f\"Ind TTest Results\\n t={t}, p={p}\")"
   ]
  },
  {
   "cell_type": "markdown",
   "metadata": {},
   "source": [
    "### Test Summary\n",
    "- Pvalue ~ 0.00\n",
    "- Reject the null hypothesis"
   ]
  },
  {
   "cell_type": "markdown",
   "metadata": {},
   "source": [
    "What do we notice?\n",
    "- there is a difference in the means! \n",
    "- type I error? \n",
    "- type II error? "
   ]
  },
  {
   "cell_type": "markdown",
   "metadata": {},
   "source": [
    "# Effect Size/Cohen's D\n",
    "\n",
    "![](images/effect-size.jpg)"
   ]
  },
  {
   "cell_type": "markdown",
   "metadata": {},
   "source": [
    "Cohen's D Formula for One Samp\n",
    "\n",
    "**Given**\n",
    "- mu - mean of the distribution\n",
    "- mu0 - mean that the distribution is being compared to\n",
    "- sigma - standard deviation of distribution\n",
    "\n",
    "$$\\text{Cohen's D} = \\frac{\\mu-\\mu_0}{\\sigma}$$"
   ]
  },
  {
   "cell_type": "code",
   "execution_count": 51,
   "metadata": {},
   "outputs": [],
   "source": [
    "# 'borrowed' from stackoverflow \n",
    "\n",
    "from numpy import std, mean, sqrt\n",
    "\n",
    "def cohen_d_one_samp(x, mu):\n",
    "    \"\"\"\n",
    "    your code goes here\n",
    "    \"\"\"\n",
    "    pass\n",
    "    \n",
    "def cohen_d_two_samp(x,y):\n",
    "    nx = len(x)\n",
    "    ny = len(y)\n",
    "    dof = nx + ny - 2\n",
    "    return (mean(x) - mean(y)) / sqrt(((nx-1)*std(x, ddof=1) ** 2 + (ny-1)*std(y, ddof=1) ** 2) / dof)"
   ]
  },
  {
   "cell_type": "code",
   "execution_count": 50,
   "metadata": {},
   "outputs": [
    {
     "data": {
      "text/plain": [
       "0.4377554592759897"
      ]
     },
     "execution_count": 50,
     "metadata": {},
     "output_type": "execute_result"
    }
   ],
   "source": [
    "cohen_d_two_samp(group_two, group_one)"
   ]
  },
  {
   "cell_type": "markdown",
   "metadata": {},
   "source": [
    "### Summary\n",
    "After conducting a hypothesis test on our data, we see that with a pvalue = 0.00\n",
    "* The mean reps between two groups are different\n",
    "\n",
    "An effect size of 0.43, shows that the effect is fairly small, thus we have a lot of room of type I and type II error. "
   ]
  },
  {
   "cell_type": "markdown",
   "metadata": {},
   "source": [
    "# Activity\n",
    "\n",
    "For each scenario, please do the following\n",
    "- Choose and perform the correct hypothesis test\n",
    "    - Choose your test\n",
    "    - State your null and alternative hypotheses\n",
    "- Calculate the effect size\n",
    "- Write an overall summary\n",
    "- Use the dataframe below to get the data for each question"
   ]
  },
  {
   "cell_type": "code",
   "execution_count": 70,
   "metadata": {},
   "outputs": [
    {
     "data": {
      "text/html": [
       "<div>\n",
       "<style scoped>\n",
       "    .dataframe tbody tr th:only-of-type {\n",
       "        vertical-align: middle;\n",
       "    }\n",
       "\n",
       "    .dataframe tbody tr th {\n",
       "        vertical-align: top;\n",
       "    }\n",
       "\n",
       "    .dataframe thead th {\n",
       "        text-align: right;\n",
       "    }\n",
       "</style>\n",
       "<table border=\"1\" class=\"dataframe\">\n",
       "  <thead>\n",
       "    <tr style=\"text-align: right;\">\n",
       "      <th></th>\n",
       "      <th>q1_group_one</th>\n",
       "      <th>q2_control</th>\n",
       "      <th>q2_experimental</th>\n",
       "    </tr>\n",
       "  </thead>\n",
       "  <tbody>\n",
       "    <tr>\n",
       "      <td>0</td>\n",
       "      <td>12.071275</td>\n",
       "      <td>9.967142</td>\n",
       "      <td>-11.375891</td>\n",
       "    </tr>\n",
       "    <tr>\n",
       "      <td>1</td>\n",
       "      <td>6.861121</td>\n",
       "      <td>3.617357</td>\n",
       "      <td>-8.722593</td>\n",
       "    </tr>\n",
       "    <tr>\n",
       "      <td>2</td>\n",
       "      <td>13.833168</td>\n",
       "      <td>11.476885</td>\n",
       "      <td>-11.962100</td>\n",
       "    </tr>\n",
       "    <tr>\n",
       "      <td>3</td>\n",
       "      <td>11.606785</td>\n",
       "      <td>20.230299</td>\n",
       "      <td>-9.539808</td>\n",
       "    </tr>\n",
       "    <tr>\n",
       "      <td>4</td>\n",
       "      <td>11.306064</td>\n",
       "      <td>2.658466</td>\n",
       "      <td>-17.468073</td>\n",
       "    </tr>\n",
       "  </tbody>\n",
       "</table>\n",
       "</div>"
      ],
      "text/plain": [
       "   q1_group_one  q2_control  q2_experimental\n",
       "0     12.071275    9.967142       -11.375891\n",
       "1      6.861121    3.617357        -8.722593\n",
       "2     13.833168   11.476885       -11.962100\n",
       "3     11.606785   20.230299        -9.539808\n",
       "4     11.306064    2.658466       -17.468073"
      ]
     },
     "execution_count": 70,
     "metadata": {},
     "output_type": "execute_result"
    }
   ],
   "source": [
    "df = pd.read_csv(\"effect_size_data.csv\")\n",
    "df.head()"
   ]
  },
  {
   "cell_type": "markdown",
   "metadata": {},
   "source": [
    "# q1\n",
    "A goliath of a company, Whamazon, recorded the mean number of minutes its employees can type without making a mistake. After recording this data, Whamazon execs decided to give a small experimental group a pay bump if they practiced typing everyday for 30 minutes. They then recorded the results of the experimental group.\n",
    "\n",
    "Your task is to determine if the pay bump and practice caused a difference in means between the experimental group the initial recording. You must also calculate the effect and write a summary"
   ]
  },
  {
   "cell_type": "code",
   "execution_count": 71,
   "metadata": {},
   "outputs": [],
   "source": [
    "control_mean = 10\n",
    "\n",
    "group_one = df['q1_group_one']"
   ]
  },
  {
   "cell_type": "markdown",
   "metadata": {},
   "source": [
    "Hypothesis Test Setup\n",
    "- Hypothesis Test to use: \n",
    "- H0: \n",
    "- HA:"
   ]
  },
  {
   "cell_type": "code",
   "execution_count": 59,
   "metadata": {},
   "outputs": [],
   "source": [
    "# test goes here\n"
   ]
  },
  {
   "cell_type": "code",
   "execution_count": 60,
   "metadata": {},
   "outputs": [
    {
     "data": {
      "image/png": "[encoded data removed]",
      "text/plain": [
       "<Figure size 576x360 with 1 Axes>"
      ]
     },
     "metadata": {
      "needs_background": "light"
     },
     "output_type": "display_data"
    }
   ],
   "source": [
    "# plotting the distribution with the control mean\n",
    "\n",
    "plt.figure(figsize=(8, 5))\n",
    "plt.hist(group_one, bins=50, label='pop one', color='b', alpha=0.5)\n",
    "\n",
    "plt.vlines(group_one.mean(), colors='k', label='pop one mean', linestyle='dashed', linewidth=4, ymin=0, ymax=140)\n",
    "plt.vlines(control_mean, colors='r', label='control mean', linestyle='dashed', linewidth=4, ymin=0, ymax=140)\n",
    "\n",
    "plt.legend()\n",
    "plt.show()"
   ]
  },
  {
   "cell_type": "code",
   "execution_count": null,
   "metadata": {},
   "outputs": [],
   "source": [
    "# Calculate Effect Size\n",
    "effect_size = None"
   ]
  },
  {
   "cell_type": "markdown",
   "metadata": {},
   "source": [
    "### q1 Summary\n",
    "Your summary goes here\n",
    "\n",
    "\n",
    "-----\n",
    "-----"
   ]
  },
  {
   "cell_type": "markdown",
   "metadata": {},
   "source": [
    "# q2\n",
    "Whamazon, after seeing some success in improving typing efficiency for their employees, have decided to try and increase the number of employees that show up on time. \n",
    "\n",
    "They setup 2 groups as follows\n",
    "\n",
    "Control Group: \n",
    "Record their time of arrival everyday using their badges. \n",
    "\n",
    "\n",
    "Experimental Group: \n",
    "Send an email to this group, letting them know that free coffee and fruit will be available everyday 15 minutes before they clock in).  Record their time of arrival everyday using their badges. \n",
    "\n",
    "The data was converted to minutes that employees arrived after 8 am."
   ]
  },
  {
   "cell_type": "code",
   "execution_count": 64,
   "metadata": {},
   "outputs": [],
   "source": [
    "group_one = df['q2_control']\n",
    "group_two = df['q2_experimental']"
   ]
  },
  {
   "cell_type": "code",
   "execution_count": 65,
   "metadata": {},
   "outputs": [
    {
     "data": {
      "image/png": "[encoded data removed]",
      "text/plain": [
       "<Figure size 576x360 with 1 Axes>"
      ]
     },
     "metadata": {
      "needs_background": "light"
     },
     "output_type": "display_data"
    }
   ],
   "source": [
    "plt.figure(figsize=(8, 5))\n",
    "plt.hist(group_one, bins=50, label='pop one', color='b', alpha=0.5)\n",
    "plt.hist(group_two, bins=50, label='pop two', color='g', alpha=0.5)\n",
    "\n",
    "plt.vlines(group_one.mean(), colors='k', label='pop one mean', linestyle='dashed', linewidth=4, ymin=0, ymax=140)\n",
    "plt.vlines(group_two.mean(), colors='r', label='pop two mean', linestyle='dashed', linewidth=4, ymin=0, ymax=140)\n",
    "\n",
    "plt.legend()\n",
    "plt.show()"
   ]
  },
  {
   "cell_type": "markdown",
   "metadata": {},
   "source": [
    "**Hypothesis Test Setup**\n"
   ]
  },
  {
   "cell_type": "code",
   "execution_count": 66,
   "metadata": {},
   "outputs": [],
   "source": [
    "# hypothesis test here\n"
   ]
  },
  {
   "cell_type": "markdown",
   "metadata": {},
   "source": [
    "### Effect Size Calculation"
   ]
  },
  {
   "cell_type": "code",
   "execution_count": null,
   "metadata": {},
   "outputs": [],
   "source": []
  },
  {
   "cell_type": "markdown",
   "metadata": {},
   "source": [
    "### Summary\n",
    "- \n",
    "- \n",
    "\n",
    "\n",
    "-----\n",
    "-----"
   ]
  },
  {
   "cell_type": "markdown",
   "metadata": {},
   "source": [
    "### Discussion questions\n",
    "- What changes the effect size between two sample population groups? \n",
    "- If your effect size increases, then your type I error rate has\n",
    "    - increased\n",
    "    - decreased\n",
    "    - stays the same\n",
    "- If your effect size increases, then your type II error rate\n",
    "    - increased\n",
    "    - decreased\n",
    "    - stays the same"
   ]
  }
 ],
 "metadata": {
  "kernelspec": {
   "display_name": "Python [conda env:flatiron-env] *",
   "language": "python",
   "name": "conda-env-flatiron-env-py"
  },
  "language_info": {
   "codemirror_mode": {
    "name": "ipython",
    "version": 3
   },
   "file_extension": ".py",
   "mimetype": "text/x-python",
   "name": "python",
   "nbconvert_exporter": "python",
   "pygments_lexer": "ipython3",
   "version": "3.6.0"
  }
 },
 "nbformat": 4,
 "nbformat_minor": 2
}
