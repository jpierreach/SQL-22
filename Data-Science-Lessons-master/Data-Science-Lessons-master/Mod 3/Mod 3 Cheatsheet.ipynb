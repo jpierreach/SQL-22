{
 "cells": [
  {
   "cell_type": "markdown",
   "metadata": {},
   "source": [
    "# <center> Mod 3 Cheatsheet"
   ]
  },
  {
   "cell_type": "markdown",
   "metadata": {},
   "source": [
    "## Pivot tables"
   ]
  },
  {
   "cell_type": "code",
   "execution_count": 2,
   "metadata": {},
   "outputs": [
    {
     "data": {
      "text/html": [
       "<div>\n",
       "<style scoped>\n",
       "    .dataframe tbody tr th:only-of-type {\n",
       "        vertical-align: middle;\n",
       "    }\n",
       "\n",
       "    .dataframe tbody tr th {\n",
       "        vertical-align: top;\n",
       "    }\n",
       "\n",
       "    .dataframe thead th {\n",
       "        text-align: right;\n",
       "    }\n",
       "</style>\n",
       "<table border=\"1\" class=\"dataframe\">\n",
       "  <thead>\n",
       "    <tr style=\"text-align: right;\">\n",
       "      <th></th>\n",
       "      <th>competitorname</th>\n",
       "      <th>chocolate</th>\n",
       "      <th>fruity</th>\n",
       "      <th>caramel</th>\n",
       "      <th>peanutyalmondy</th>\n",
       "      <th>nougat</th>\n",
       "      <th>crispedricewafer</th>\n",
       "      <th>hard</th>\n",
       "      <th>bar</th>\n",
       "      <th>pluribus</th>\n",
       "      <th>sugarpercent</th>\n",
       "      <th>pricepercent</th>\n",
       "    </tr>\n",
       "  </thead>\n",
       "  <tbody>\n",
       "    <tr>\n",
       "      <th>0</th>\n",
       "      <td>100 Grand</td>\n",
       "      <td>1</td>\n",
       "      <td>0</td>\n",
       "      <td>1</td>\n",
       "      <td>0</td>\n",
       "      <td>0</td>\n",
       "      <td>1</td>\n",
       "      <td>0</td>\n",
       "      <td>1</td>\n",
       "      <td>0</td>\n",
       "      <td>0.732</td>\n",
       "      <td>0.860</td>\n",
       "    </tr>\n",
       "    <tr>\n",
       "      <th>1</th>\n",
       "      <td>3 Musketeers</td>\n",
       "      <td>1</td>\n",
       "      <td>0</td>\n",
       "      <td>0</td>\n",
       "      <td>0</td>\n",
       "      <td>1</td>\n",
       "      <td>0</td>\n",
       "      <td>0</td>\n",
       "      <td>1</td>\n",
       "      <td>0</td>\n",
       "      <td>0.604</td>\n",
       "      <td>0.511</td>\n",
       "    </tr>\n",
       "    <tr>\n",
       "      <th>2</th>\n",
       "      <td>Air Heads</td>\n",
       "      <td>0</td>\n",
       "      <td>1</td>\n",
       "      <td>0</td>\n",
       "      <td>0</td>\n",
       "      <td>0</td>\n",
       "      <td>0</td>\n",
       "      <td>0</td>\n",
       "      <td>0</td>\n",
       "      <td>0</td>\n",
       "      <td>0.906</td>\n",
       "      <td>0.511</td>\n",
       "    </tr>\n",
       "    <tr>\n",
       "      <th>3</th>\n",
       "      <td>Almond Joy</td>\n",
       "      <td>1</td>\n",
       "      <td>0</td>\n",
       "      <td>0</td>\n",
       "      <td>1</td>\n",
       "      <td>0</td>\n",
       "      <td>0</td>\n",
       "      <td>0</td>\n",
       "      <td>1</td>\n",
       "      <td>0</td>\n",
       "      <td>0.465</td>\n",
       "      <td>0.767</td>\n",
       "    </tr>\n",
       "    <tr>\n",
       "      <th>4</th>\n",
       "      <td>Baby Ruth</td>\n",
       "      <td>1</td>\n",
       "      <td>0</td>\n",
       "      <td>1</td>\n",
       "      <td>1</td>\n",
       "      <td>1</td>\n",
       "      <td>0</td>\n",
       "      <td>0</td>\n",
       "      <td>1</td>\n",
       "      <td>0</td>\n",
       "      <td>0.604</td>\n",
       "      <td>0.767</td>\n",
       "    </tr>\n",
       "  </tbody>\n",
       "</table>\n",
       "</div>"
      ],
      "text/plain": [
       "  competitorname  chocolate  fruity  caramel  peanutyalmondy  nougat  \\\n",
       "0      100 Grand          1       0        1               0       0   \n",
       "1   3 Musketeers          1       0        0               0       1   \n",
       "2      Air Heads          0       1        0               0       0   \n",
       "3     Almond Joy          1       0        0               1       0   \n",
       "4      Baby Ruth          1       0        1               1       1   \n",
       "\n",
       "   crispedricewafer  hard  bar  pluribus  sugarpercent  pricepercent  \n",
       "0                 1     0    1         0         0.732         0.860  \n",
       "1                 0     0    1         0         0.604         0.511  \n",
       "2                 0     0    0         0         0.906         0.511  \n",
       "3                 0     0    1         0         0.465         0.767  \n",
       "4                 0     0    1         0         0.604         0.767  "
      ]
     },
     "execution_count": 2,
     "metadata": {},
     "output_type": "execute_result"
    }
   ],
   "source": [
    "import pandas as pd\n",
    "df = pd.read_csv('candy-data.csv')\n",
    "df.head()"
   ]
  },
  {
   "cell_type": "markdown",
   "metadata": {},
   "source": [
    "### `pivot_table()`"
   ]
  },
  {
   "cell_type": "markdown",
   "metadata": {},
   "source": [
    "<b>data</b>: The DataFrame and specific columns you want to use. <br>\n",
    "<b>columns</b>: The feature(s) you want the columns to be. <br>\n",
    "<b>index</b>: The feature(s) you want the index to be.<br>\n",
    "<b>aggfunc</b>: The aggregration function. For a count, use `len`. <br>"
   ]
  },
  {
   "cell_type": "code",
   "execution_count": 10,
   "metadata": {},
   "outputs": [
    {
     "data": {
      "text/html": [
       "<div>\n",
       "<style scoped>\n",
       "    .dataframe tbody tr th:only-of-type {\n",
       "        vertical-align: middle;\n",
       "    }\n",
       "\n",
       "    .dataframe tbody tr th {\n",
       "        vertical-align: top;\n",
       "    }\n",
       "\n",
       "    .dataframe thead th {\n",
       "        text-align: right;\n",
       "    }\n",
       "</style>\n",
       "<table border=\"1\" class=\"dataframe\">\n",
       "  <thead>\n",
       "    <tr style=\"text-align: right;\">\n",
       "      <th>chocolate</th>\n",
       "      <th>0</th>\n",
       "      <th>1</th>\n",
       "    </tr>\n",
       "    <tr>\n",
       "      <th>bar</th>\n",
       "      <th></th>\n",
       "      <th></th>\n",
       "    </tr>\n",
       "  </thead>\n",
       "  <tbody>\n",
       "    <tr>\n",
       "      <th>0</th>\n",
       "      <td>45</td>\n",
       "      <td>17</td>\n",
       "    </tr>\n",
       "    <tr>\n",
       "      <th>1</th>\n",
       "      <td>1</td>\n",
       "      <td>20</td>\n",
       "    </tr>\n",
       "  </tbody>\n",
       "</table>\n",
       "</div>"
      ],
      "text/plain": [
       "chocolate   0   1\n",
       "bar              \n",
       "0          45  17\n",
       "1           1  20"
      ]
     },
     "execution_count": 10,
     "metadata": {},
     "output_type": "execute_result"
    }
   ],
   "source": [
    "table = pd.pivot_table(data=df[['chocolate', 'bar']], columns=['chocolate'], index='bar', aggfunc=len)\n",
    "table"
   ]
  },
  {
   "cell_type": "markdown",
   "metadata": {},
   "source": [
    "### Adding column and row sums"
   ]
  },
  {
   "cell_type": "markdown",
   "metadata": {},
   "source": [
    "Adding row."
   ]
  },
  {
   "cell_type": "code",
   "execution_count": 11,
   "metadata": {},
   "outputs": [
    {
     "data": {
      "text/html": [
       "<div>\n",
       "<style scoped>\n",
       "    .dataframe tbody tr th:only-of-type {\n",
       "        vertical-align: middle;\n",
       "    }\n",
       "\n",
       "    .dataframe tbody tr th {\n",
       "        vertical-align: top;\n",
       "    }\n",
       "\n",
       "    .dataframe thead th {\n",
       "        text-align: right;\n",
       "    }\n",
       "</style>\n",
       "<table border=\"1\" class=\"dataframe\">\n",
       "  <thead>\n",
       "    <tr style=\"text-align: right;\">\n",
       "      <th>chocolate</th>\n",
       "      <th>0</th>\n",
       "      <th>1</th>\n",
       "    </tr>\n",
       "    <tr>\n",
       "      <th>bar</th>\n",
       "      <th></th>\n",
       "      <th></th>\n",
       "    </tr>\n",
       "  </thead>\n",
       "  <tbody>\n",
       "    <tr>\n",
       "      <th>0</th>\n",
       "      <td>45</td>\n",
       "      <td>17</td>\n",
       "    </tr>\n",
       "    <tr>\n",
       "      <th>1</th>\n",
       "      <td>1</td>\n",
       "      <td>20</td>\n",
       "    </tr>\n",
       "    <tr>\n",
       "      <th>sum</th>\n",
       "      <td>46</td>\n",
       "      <td>37</td>\n",
       "    </tr>\n",
       "  </tbody>\n",
       "</table>\n",
       "</div>"
      ],
      "text/plain": [
       "chocolate   0   1\n",
       "bar              \n",
       "0          45  17\n",
       "1           1  20\n",
       "sum        46  37"
      ]
     },
     "execution_count": 11,
     "metadata": {},
     "output_type": "execute_result"
    }
   ],
   "source": [
    "table = table.append(pd.Series(table.sum(axis=0), name='sum'))\n",
    "table"
   ]
  },
  {
   "cell_type": "markdown",
   "metadata": {},
   "source": [
    "Adding column."
   ]
  },
  {
   "cell_type": "code",
   "execution_count": 12,
   "metadata": {},
   "outputs": [
    {
     "data": {
      "text/html": [
       "<div>\n",
       "<style scoped>\n",
       "    .dataframe tbody tr th:only-of-type {\n",
       "        vertical-align: middle;\n",
       "    }\n",
       "\n",
       "    .dataframe tbody tr th {\n",
       "        vertical-align: top;\n",
       "    }\n",
       "\n",
       "    .dataframe thead th {\n",
       "        text-align: right;\n",
       "    }\n",
       "</style>\n",
       "<table border=\"1\" class=\"dataframe\">\n",
       "  <thead>\n",
       "    <tr style=\"text-align: right;\">\n",
       "      <th>chocolate</th>\n",
       "      <th>0</th>\n",
       "      <th>1</th>\n",
       "      <th>sum</th>\n",
       "    </tr>\n",
       "    <tr>\n",
       "      <th>bar</th>\n",
       "      <th></th>\n",
       "      <th></th>\n",
       "      <th></th>\n",
       "    </tr>\n",
       "  </thead>\n",
       "  <tbody>\n",
       "    <tr>\n",
       "      <th>0</th>\n",
       "      <td>45</td>\n",
       "      <td>17</td>\n",
       "      <td>62</td>\n",
       "    </tr>\n",
       "    <tr>\n",
       "      <th>1</th>\n",
       "      <td>1</td>\n",
       "      <td>20</td>\n",
       "      <td>21</td>\n",
       "    </tr>\n",
       "    <tr>\n",
       "      <th>sum</th>\n",
       "      <td>46</td>\n",
       "      <td>37</td>\n",
       "      <td>83</td>\n",
       "    </tr>\n",
       "  </tbody>\n",
       "</table>\n",
       "</div>"
      ],
      "text/plain": [
       "chocolate   0   1  sum\n",
       "bar                   \n",
       "0          45  17   62\n",
       "1           1  20   21\n",
       "sum        46  37   83"
      ]
     },
     "execution_count": 12,
     "metadata": {},
     "output_type": "execute_result"
    }
   ],
   "source": [
    "table['sum']=table.sum(axis=1)\n",
    "table"
   ]
  },
  {
   "cell_type": "markdown",
   "metadata": {},
   "source": [
    "### Multiple indexes"
   ]
  },
  {
   "cell_type": "code",
   "execution_count": 13,
   "metadata": {},
   "outputs": [
    {
     "data": {
      "text/html": [
       "<div>\n",
       "<style scoped>\n",
       "    .dataframe tbody tr th:only-of-type {\n",
       "        vertical-align: middle;\n",
       "    }\n",
       "\n",
       "    .dataframe tbody tr th {\n",
       "        vertical-align: top;\n",
       "    }\n",
       "\n",
       "    .dataframe thead th {\n",
       "        text-align: right;\n",
       "    }\n",
       "</style>\n",
       "<table border=\"1\" class=\"dataframe\">\n",
       "  <thead>\n",
       "    <tr style=\"text-align: right;\">\n",
       "      <th></th>\n",
       "      <th>chocolate</th>\n",
       "      <th>0</th>\n",
       "      <th>1</th>\n",
       "    </tr>\n",
       "    <tr>\n",
       "      <th>nougat</th>\n",
       "      <th>caramel</th>\n",
       "      <th></th>\n",
       "      <th></th>\n",
       "    </tr>\n",
       "  </thead>\n",
       "  <tbody>\n",
       "    <tr>\n",
       "      <th rowspan=\"2\" valign=\"top\">0</th>\n",
       "      <th>0</th>\n",
       "      <td>41.0</td>\n",
       "      <td>25.0</td>\n",
       "    </tr>\n",
       "    <tr>\n",
       "      <th>1</th>\n",
       "      <td>4.0</td>\n",
       "      <td>6.0</td>\n",
       "    </tr>\n",
       "    <tr>\n",
       "      <th rowspan=\"2\" valign=\"top\">1</th>\n",
       "      <th>0</th>\n",
       "      <td>1.0</td>\n",
       "      <td>2.0</td>\n",
       "    </tr>\n",
       "    <tr>\n",
       "      <th>1</th>\n",
       "      <td>NaN</td>\n",
       "      <td>4.0</td>\n",
       "    </tr>\n",
       "  </tbody>\n",
       "</table>\n",
       "</div>"
      ],
      "text/plain": [
       "chocolate          0     1\n",
       "nougat caramel            \n",
       "0      0        41.0  25.0\n",
       "       1         4.0   6.0\n",
       "1      0         1.0   2.0\n",
       "       1         NaN   4.0"
      ]
     },
     "execution_count": 13,
     "metadata": {},
     "output_type": "execute_result"
    }
   ],
   "source": [
    "table = pd.pivot_table(data=df[['caramel', 'nougat', 'chocolate']], columns=['chocolate'], index=['nougat', 'caramel'], aggfunc=len)\n",
    "table"
   ]
  },
  {
   "cell_type": "markdown",
   "metadata": {},
   "source": [
    "## Factorials"
   ]
  },
  {
   "cell_type": "markdown",
   "metadata": {},
   "source": [
    "### `math.factorial()`"
   ]
  },
  {
   "cell_type": "code",
   "execution_count": 16,
   "metadata": {},
   "outputs": [
    {
     "data": {
      "text/plain": [
       "5040"
      ]
     },
     "execution_count": 16,
     "metadata": {},
     "output_type": "execute_result"
    }
   ],
   "source": [
    "import math\n",
    "math.factorial(7)"
   ]
  },
  {
   "cell_type": "markdown",
   "metadata": {},
   "source": [
    "## Permutation and Combination Calculation"
   ]
  },
  {
   "cell_type": "code",
   "execution_count": 17,
   "metadata": {},
   "outputs": [],
   "source": [
    "import math\n",
    "\n",
    "def nPr(n,r):\n",
    "    f = math.factorial\n",
    "    return f(n) // f(n-r)\n",
    "\n",
    "def nCr(n,r):\n",
    "    f = math.factorial\n",
    "    return f(n) // f(r) // f(n-r)"
   ]
  },
  {
   "cell_type": "code",
   "execution_count": 19,
   "metadata": {},
   "outputs": [
    {
     "data": {
      "text/plain": [
       "(20, 10)"
      ]
     },
     "execution_count": 19,
     "metadata": {},
     "output_type": "execute_result"
    }
   ],
   "source": [
    "nPr(5,2), nCr(5,2)"
   ]
  },
  {
   "cell_type": "markdown",
   "metadata": {},
   "source": [
    "## Permutation and Combination Generation"
   ]
  },
  {
   "cell_type": "code",
   "execution_count": 21,
   "metadata": {},
   "outputs": [],
   "source": [
    "from itertools import permutations, combinations, combinations_with_replacement\n",
    "colors = ['red', 'blue', 'green', 'yellow', 'orange']"
   ]
  },
  {
   "cell_type": "code",
   "execution_count": 23,
   "metadata": {},
   "outputs": [
    {
     "data": {
      "text/plain": [
       "[('red', 'blue', 'green', 'yellow', 'orange'),\n",
       " ('red', 'blue', 'green', 'orange', 'yellow'),\n",
       " ('red', 'blue', 'yellow', 'green', 'orange'),\n",
       " ('red', 'blue', 'yellow', 'orange', 'green'),\n",
       " ('red', 'blue', 'orange', 'green', 'yellow'),\n",
       " ('red', 'blue', 'orange', 'yellow', 'green'),\n",
       " ('red', 'green', 'blue', 'yellow', 'orange'),\n",
       " ('red', 'green', 'blue', 'orange', 'yellow'),\n",
       " ('red', 'green', 'yellow', 'blue', 'orange'),\n",
       " ('red', 'green', 'yellow', 'orange', 'blue'),\n",
       " ('red', 'green', 'orange', 'blue', 'yellow'),\n",
       " ('red', 'green', 'orange', 'yellow', 'blue'),\n",
       " ('red', 'yellow', 'blue', 'green', 'orange'),\n",
       " ('red', 'yellow', 'blue', 'orange', 'green'),\n",
       " ('red', 'yellow', 'green', 'blue', 'orange'),\n",
       " ('red', 'yellow', 'green', 'orange', 'blue'),\n",
       " ('red', 'yellow', 'orange', 'blue', 'green'),\n",
       " ('red', 'yellow', 'orange', 'green', 'blue'),\n",
       " ('red', 'orange', 'blue', 'green', 'yellow'),\n",
       " ('red', 'orange', 'blue', 'yellow', 'green'),\n",
       " ('red', 'orange', 'green', 'blue', 'yellow'),\n",
       " ('red', 'orange', 'green', 'yellow', 'blue'),\n",
       " ('red', 'orange', 'yellow', 'blue', 'green'),\n",
       " ('red', 'orange', 'yellow', 'green', 'blue'),\n",
       " ('blue', 'red', 'green', 'yellow', 'orange'),\n",
       " ('blue', 'red', 'green', 'orange', 'yellow'),\n",
       " ('blue', 'red', 'yellow', 'green', 'orange'),\n",
       " ('blue', 'red', 'yellow', 'orange', 'green'),\n",
       " ('blue', 'red', 'orange', 'green', 'yellow'),\n",
       " ('blue', 'red', 'orange', 'yellow', 'green'),\n",
       " ('blue', 'green', 'red', 'yellow', 'orange'),\n",
       " ('blue', 'green', 'red', 'orange', 'yellow'),\n",
       " ('blue', 'green', 'yellow', 'red', 'orange'),\n",
       " ('blue', 'green', 'yellow', 'orange', 'red'),\n",
       " ('blue', 'green', 'orange', 'red', 'yellow'),\n",
       " ('blue', 'green', 'orange', 'yellow', 'red'),\n",
       " ('blue', 'yellow', 'red', 'green', 'orange'),\n",
       " ('blue', 'yellow', 'red', 'orange', 'green'),\n",
       " ('blue', 'yellow', 'green', 'red', 'orange'),\n",
       " ('blue', 'yellow', 'green', 'orange', 'red'),\n",
       " ('blue', 'yellow', 'orange', 'red', 'green'),\n",
       " ('blue', 'yellow', 'orange', 'green', 'red'),\n",
       " ('blue', 'orange', 'red', 'green', 'yellow'),\n",
       " ('blue', 'orange', 'red', 'yellow', 'green'),\n",
       " ('blue', 'orange', 'green', 'red', 'yellow'),\n",
       " ('blue', 'orange', 'green', 'yellow', 'red'),\n",
       " ('blue', 'orange', 'yellow', 'red', 'green'),\n",
       " ('blue', 'orange', 'yellow', 'green', 'red'),\n",
       " ('green', 'red', 'blue', 'yellow', 'orange'),\n",
       " ('green', 'red', 'blue', 'orange', 'yellow'),\n",
       " ('green', 'red', 'yellow', 'blue', 'orange'),\n",
       " ('green', 'red', 'yellow', 'orange', 'blue'),\n",
       " ('green', 'red', 'orange', 'blue', 'yellow'),\n",
       " ('green', 'red', 'orange', 'yellow', 'blue'),\n",
       " ('green', 'blue', 'red', 'yellow', 'orange'),\n",
       " ('green', 'blue', 'red', 'orange', 'yellow'),\n",
       " ('green', 'blue', 'yellow', 'red', 'orange'),\n",
       " ('green', 'blue', 'yellow', 'orange', 'red'),\n",
       " ('green', 'blue', 'orange', 'red', 'yellow'),\n",
       " ('green', 'blue', 'orange', 'yellow', 'red'),\n",
       " ('green', 'yellow', 'red', 'blue', 'orange'),\n",
       " ('green', 'yellow', 'red', 'orange', 'blue'),\n",
       " ('green', 'yellow', 'blue', 'red', 'orange'),\n",
       " ('green', 'yellow', 'blue', 'orange', 'red'),\n",
       " ('green', 'yellow', 'orange', 'red', 'blue'),\n",
       " ('green', 'yellow', 'orange', 'blue', 'red'),\n",
       " ('green', 'orange', 'red', 'blue', 'yellow'),\n",
       " ('green', 'orange', 'red', 'yellow', 'blue'),\n",
       " ('green', 'orange', 'blue', 'red', 'yellow'),\n",
       " ('green', 'orange', 'blue', 'yellow', 'red'),\n",
       " ('green', 'orange', 'yellow', 'red', 'blue'),\n",
       " ('green', 'orange', 'yellow', 'blue', 'red'),\n",
       " ('yellow', 'red', 'blue', 'green', 'orange'),\n",
       " ('yellow', 'red', 'blue', 'orange', 'green'),\n",
       " ('yellow', 'red', 'green', 'blue', 'orange'),\n",
       " ('yellow', 'red', 'green', 'orange', 'blue'),\n",
       " ('yellow', 'red', 'orange', 'blue', 'green'),\n",
       " ('yellow', 'red', 'orange', 'green', 'blue'),\n",
       " ('yellow', 'blue', 'red', 'green', 'orange'),\n",
       " ('yellow', 'blue', 'red', 'orange', 'green'),\n",
       " ('yellow', 'blue', 'green', 'red', 'orange'),\n",
       " ('yellow', 'blue', 'green', 'orange', 'red'),\n",
       " ('yellow', 'blue', 'orange', 'red', 'green'),\n",
       " ('yellow', 'blue', 'orange', 'green', 'red'),\n",
       " ('yellow', 'green', 'red', 'blue', 'orange'),\n",
       " ('yellow', 'green', 'red', 'orange', 'blue'),\n",
       " ('yellow', 'green', 'blue', 'red', 'orange'),\n",
       " ('yellow', 'green', 'blue', 'orange', 'red'),\n",
       " ('yellow', 'green', 'orange', 'red', 'blue'),\n",
       " ('yellow', 'green', 'orange', 'blue', 'red'),\n",
       " ('yellow', 'orange', 'red', 'blue', 'green'),\n",
       " ('yellow', 'orange', 'red', 'green', 'blue'),\n",
       " ('yellow', 'orange', 'blue', 'red', 'green'),\n",
       " ('yellow', 'orange', 'blue', 'green', 'red'),\n",
       " ('yellow', 'orange', 'green', 'red', 'blue'),\n",
       " ('yellow', 'orange', 'green', 'blue', 'red'),\n",
       " ('orange', 'red', 'blue', 'green', 'yellow'),\n",
       " ('orange', 'red', 'blue', 'yellow', 'green'),\n",
       " ('orange', 'red', 'green', 'blue', 'yellow'),\n",
       " ('orange', 'red', 'green', 'yellow', 'blue'),\n",
       " ('orange', 'red', 'yellow', 'blue', 'green'),\n",
       " ('orange', 'red', 'yellow', 'green', 'blue'),\n",
       " ('orange', 'blue', 'red', 'green', 'yellow'),\n",
       " ('orange', 'blue', 'red', 'yellow', 'green'),\n",
       " ('orange', 'blue', 'green', 'red', 'yellow'),\n",
       " ('orange', 'blue', 'green', 'yellow', 'red'),\n",
       " ('orange', 'blue', 'yellow', 'red', 'green'),\n",
       " ('orange', 'blue', 'yellow', 'green', 'red'),\n",
       " ('orange', 'green', 'red', 'blue', 'yellow'),\n",
       " ('orange', 'green', 'red', 'yellow', 'blue'),\n",
       " ('orange', 'green', 'blue', 'red', 'yellow'),\n",
       " ('orange', 'green', 'blue', 'yellow', 'red'),\n",
       " ('orange', 'green', 'yellow', 'red', 'blue'),\n",
       " ('orange', 'green', 'yellow', 'blue', 'red'),\n",
       " ('orange', 'yellow', 'red', 'blue', 'green'),\n",
       " ('orange', 'yellow', 'red', 'green', 'blue'),\n",
       " ('orange', 'yellow', 'blue', 'red', 'green'),\n",
       " ('orange', 'yellow', 'blue', 'green', 'red'),\n",
       " ('orange', 'yellow', 'green', 'red', 'blue'),\n",
       " ('orange', 'yellow', 'green', 'blue', 'red')]"
      ]
     },
     "execution_count": 23,
     "metadata": {},
     "output_type": "execute_result"
    }
   ],
   "source": [
    "[x for x in permutations(colors)]"
   ]
  },
  {
   "cell_type": "code",
   "execution_count": 25,
   "metadata": {},
   "outputs": [
    {
     "data": {
      "text/plain": [
       "[('red', 'blue'),\n",
       " ('red', 'green'),\n",
       " ('red', 'yellow'),\n",
       " ('red', 'orange'),\n",
       " ('blue', 'green'),\n",
       " ('blue', 'yellow'),\n",
       " ('blue', 'orange'),\n",
       " ('green', 'yellow'),\n",
       " ('green', 'orange'),\n",
       " ('yellow', 'orange')]"
      ]
     },
     "execution_count": 25,
     "metadata": {},
     "output_type": "execute_result"
    }
   ],
   "source": [
    "[x for x in combinations(colors, 2)]"
   ]
  },
  {
   "cell_type": "code",
   "execution_count": 26,
   "metadata": {},
   "outputs": [
    {
     "data": {
      "text/plain": [
       "[('red', 'red'),\n",
       " ('red', 'blue'),\n",
       " ('red', 'green'),\n",
       " ('red', 'yellow'),\n",
       " ('red', 'orange'),\n",
       " ('blue', 'blue'),\n",
       " ('blue', 'green'),\n",
       " ('blue', 'yellow'),\n",
       " ('blue', 'orange'),\n",
       " ('green', 'green'),\n",
       " ('green', 'yellow'),\n",
       " ('green', 'orange'),\n",
       " ('yellow', 'yellow'),\n",
       " ('yellow', 'orange'),\n",
       " ('orange', 'orange')]"
      ]
     },
     "execution_count": 26,
     "metadata": {},
     "output_type": "execute_result"
    }
   ],
   "source": [
    "[x for x in combinations_with_replacement(colors, 2)]"
   ]
  },
  {
   "cell_type": "code",
   "execution_count": null,
   "metadata": {},
   "outputs": [],
   "source": []
  }
 ],
 "metadata": {
  "kernelspec": {
   "display_name": "Python 3",
   "language": "python",
   "name": "python3"
  },
  "language_info": {
   "codemirror_mode": {
    "name": "ipython",
    "version": 3
   },
   "file_extension": ".py",
   "mimetype": "text/x-python",
   "name": "python",
   "nbconvert_exporter": "python",
   "pygments_lexer": "ipython3",
   "version": "3.5.6"
  }
 },
 "nbformat": 4,
 "nbformat_minor": 2
}
