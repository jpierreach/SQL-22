{
 "cells": [
  {
   "cell_type": "markdown",
   "metadata": {
    "slideshow": {
     "slide_type": "slide"
    }
   },
   "source": [
    "# <center> Central Limit Theorem and Confidence Intervals"
   ]
  },
  {
   "cell_type": "markdown",
   "metadata": {
    "slideshow": {
     "slide_type": "slide"
    }
   },
   "source": [
    "## <center> Central Limit Theorem </center> <br><br>\n",
    "<center> The distribution of sample means is approximately normal, given enough samples, and despite the underlying distribution."
   ]
  },
  {
   "cell_type": "markdown",
   "metadata": {
    "slideshow": {
     "slide_type": "slide"
    }
   },
   "source": [
    "### <center> Features"
   ]
  },
  {
   "cell_type": "markdown",
   "metadata": {
    "slideshow": {
     "slide_type": "fragment"
    }
   },
   "source": [
    "<center> The mean of the sample means will be approximately the population mean."
   ]
  },
  {
   "cell_type": "markdown",
   "metadata": {
    "slideshow": {
     "slide_type": "fragment"
    }
   },
   "source": [
    "<center> The variance of the sample means will be approximately equal to the population variance divided by the sample size."
   ]
  },
  {
   "cell_type": "code",
   "execution_count": null,
   "metadata": {
    "slideshow": {
     "slide_type": "slide"
    }
   },
   "outputs": [],
   "source": [
    "import pandas as pd\n",
    "import numpy as np\n",
    "import seaborn as sns\n",
    "import matplotlib.pyplot as plt\n",
    "from scipy import stats"
   ]
  },
  {
   "cell_type": "code",
   "execution_count": null,
   "metadata": {
    "slideshow": {
     "slide_type": "slide"
    }
   },
   "outputs": [],
   "source": [
    "normal = np.random.normal(50,15,1000)"
   ]
  },
  {
   "cell_type": "code",
   "execution_count": null,
   "metadata": {
    "slideshow": {
     "slide_type": "fragment"
    }
   },
   "outputs": [],
   "source": [
    "uniform = np.random.uniform(1,25,1000)"
   ]
  },
  {
   "cell_type": "code",
   "execution_count": null,
   "metadata": {
    "slideshow": {
     "slide_type": "fragment"
    }
   },
   "outputs": [],
   "source": [
    "exponential = np.random.exponential(5,1000)"
   ]
  },
  {
   "cell_type": "code",
   "execution_count": null,
   "metadata": {
    "slideshow": {
     "slide_type": "fragment"
    }
   },
   "outputs": [],
   "source": [
    "beta = np.random.beta(0.5,0.5,1000)"
   ]
  },
  {
   "cell_type": "code",
   "execution_count": null,
   "metadata": {
    "slideshow": {
     "slide_type": "slide"
    }
   },
   "outputs": [],
   "source": [
    "fig, axes = plt.subplots(2, 2, figsize=(10,10))\n",
    "sns.distplot(normal, ax=axes[0,0],axlabel='Normal')\n",
    "sns.distplot(uniform, color='green', ax=axes[0,1],axlabel='Uniform')\n",
    "sns.distplot(exponential, color='red', ax=axes[1,0],axlabel='Exponential')\n",
    "sns.distplot(beta, color='purple', ax=axes[1,1],axlabel='Beta')"
   ]
  },
  {
   "cell_type": "code",
   "execution_count": null,
   "metadata": {
    "slideshow": {
     "slide_type": "slide"
    }
   },
   "outputs": [],
   "source": [
    "df = pd.DataFrame()\n",
    "df['Dist'] = ['Normal', 'Uniform', 'Exponential', 'Beta']\n",
    "df['Mean'] = [normal.mean(), uniform.mean(), exponential.mean(), beta.mean()]\n",
    "df['Variance'] = [normal.var(), uniform.var(), exponential.var(), beta.var()]\n",
    "df.index=df['Dist']\n",
    "df.drop('Dist',axis=1,inplace=True)\n",
    "df"
   ]
  },
  {
   "cell_type": "code",
   "execution_count": null,
   "metadata": {
    "slideshow": {
     "slide_type": "slide"
    }
   },
   "outputs": [],
   "source": [
    "sample_size = 10\n",
    "sample_count = 50\n",
    "\n",
    "normal_samples = [np.random.choice(normal, sample_size, replace=True) for x in range(sample_count)]\n",
    "normal_sample_means = [np.mean(x) for x in normal_samples]\n",
    "\n",
    "uniform_samples = [np.random.choice(uniform, sample_size, replace=True) for x in range(sample_count)]\n",
    "uniform_sample_means = [np.mean(x) for x in uniform_samples]\n",
    "\n",
    "exponential_samples = [np.random.choice(exponential, sample_size, replace=True) for x in range(sample_count)]\n",
    "exponential_sample_means = [np.mean(x) for x in exponential_samples]\n",
    "\n",
    "beta_samples = [np.random.choice(beta, sample_size, replace=True) for x in range(sample_count)]\n",
    "beta_sample_means = [np.mean(x) for x in beta_samples]\n",
    "\n",
    "sample_means = [normal_sample_means, uniform_sample_means, exponential_sample_means, beta_sample_means]"
   ]
  },
  {
   "cell_type": "code",
   "execution_count": null,
   "metadata": {
    "slideshow": {
     "slide_type": "slide"
    }
   },
   "outputs": [],
   "source": [
    "fig, axes = plt.subplots(2, 2, figsize=(10,10))\n",
    "sns.distplot(normal_sample_means, ax=axes[0,0],axlabel='Normal')\n",
    "sns.distplot(uniform_sample_means, color='green', ax=axes[0,1],axlabel='Uniform')\n",
    "sns.distplot(exponential_sample_means, color='red', ax=axes[1,0],axlabel='Exponential')\n",
    "sns.distplot(beta_sample_means, color='purple', ax=axes[1,1],axlabel='Beta')"
   ]
  },
  {
   "cell_type": "code",
   "execution_count": null,
   "metadata": {
    "slideshow": {
     "slide_type": "slide"
    }
   },
   "outputs": [],
   "source": [
    "df.insert(1,'Sample Mean',[np.mean(x) for x in sample_means])\n",
    "df.insert(3,'Sample Variance',[np.var(x) for x in sample_means])\n",
    "df"
   ]
  },
  {
   "cell_type": "code",
   "execution_count": null,
   "metadata": {
    "slideshow": {
     "slide_type": "slide"
    }
   },
   "outputs": [],
   "source": [
    "df['Expected Variance'] = df['Variance']/sample_size\n",
    "df"
   ]
  },
  {
   "cell_type": "markdown",
   "metadata": {
    "slideshow": {
     "slide_type": "slide"
    }
   },
   "source": [
    "## <center> The more samples you take and the larger those samples are, the closer to a normal distribution the sample means will be."
   ]
  },
  {
   "cell_type": "markdown",
   "metadata": {
    "slideshow": {
     "slide_type": "slide"
    }
   },
   "source": [
    "Scoops Ahoy Corporate wants you to estimate the average annual revenue for its shops. They tell you the standard deviation of revenue is 50,000. Also, they recently sampled 30 stores and calculated an average annual revenue of $50,000. If they want to be 92% certain of the true average annual revenue across all stores, what interval of revenue should you give them?"
   ]
  },
  {
   "cell_type": "markdown",
   "metadata": {
    "slideshow": {
     "slide_type": "slide"
    }
   },
   "source": [
    "# <center>Confidence Intervals "
   ]
  },
  {
   "cell_type": "markdown",
   "metadata": {
    "slideshow": {
     "slide_type": "subslide"
    }
   },
   "source": [
    "<center> <img src='norm_dist2.png'>"
   ]
  },
  {
   "cell_type": "markdown",
   "metadata": {
    "slideshow": {
     "slide_type": "slide"
    }
   },
   "source": [
    "Finding the Z-critical value for a given percentage."
   ]
  },
  {
   "cell_type": "code",
   "execution_count": null,
   "metadata": {
    "slideshow": {
     "slide_type": "fragment"
    }
   },
   "outputs": [],
   "source": [
    "stats.norm.ppf(0.95)"
   ]
  },
  {
   "cell_type": "markdown",
   "metadata": {
    "slideshow": {
     "slide_type": "fragment"
    }
   },
   "source": [
    "<center><img src='z_crit1.png'>"
   ]
  },
  {
   "cell_type": "code",
   "execution_count": null,
   "metadata": {
    "slideshow": {
     "slide_type": "slide"
    }
   },
   "outputs": [],
   "source": [
    "stats.norm.ppf(0.95+(1-.95)/2)"
   ]
  },
  {
   "cell_type": "markdown",
   "metadata": {
    "slideshow": {
     "slide_type": "fragment"
    }
   },
   "source": [
    "<center><img src='z_crit2.png'>"
   ]
  },
  {
   "cell_type": "markdown",
   "metadata": {
    "slideshow": {
     "slide_type": "slide"
    }
   },
   "source": [
    "68% confidence"
   ]
  },
  {
   "cell_type": "code",
   "execution_count": null,
   "metadata": {
    "slideshow": {
     "slide_type": "fragment"
    }
   },
   "outputs": [],
   "source": [
    "stats.norm.ppf(.68+(1-.68)/2)"
   ]
  },
  {
   "cell_type": "markdown",
   "metadata": {
    "slideshow": {
     "slide_type": "slide"
    }
   },
   "source": [
    "Scoops Ahoy Corporate wants you to estimate the average annual revenue for its shops. They tell you the standard deviation of revenue is 50,000. Also, they recently sampled 30 stores and calculated an average annual revenue of 450,000. If they want to be 92% certain of the true average annual revenue across all stores, what interval of revenue should you give them?"
   ]
  },
  {
   "cell_type": "code",
   "execution_count": null,
   "metadata": {
    "slideshow": {
     "slide_type": "fragment"
    }
   },
   "outputs": [],
   "source": [
    "z = stats.norm.ppf(0.92+(1-0.92)/2)\n",
    "z"
   ]
  },
  {
   "cell_type": "markdown",
   "metadata": {
    "slideshow": {
     "slide_type": "fragment"
    }
   },
   "source": [
    "<center>Margin of Error = z ∗ σ / √n"
   ]
  },
  {
   "cell_type": "code",
   "execution_count": null,
   "metadata": {
    "slideshow": {
     "slide_type": "fragment"
    }
   },
   "outputs": [],
   "source": [
    "sigma = 75000\n",
    "n = 30\n",
    "moe = z*sigma/np.sqrt(n)\n",
    "moe"
   ]
  },
  {
   "cell_type": "code",
   "execution_count": null,
   "metadata": {
    "slideshow": {
     "slide_type": "fragment"
    }
   },
   "outputs": [],
   "source": [
    "lower_interval, upper_interval = 450000-moe, 450000+moe\n",
    "print('With a 92% confidence level, the average revenue is between', int(lower_interval), 'and', int(upper_interval), 'dollars per year.')"
   ]
  },
  {
   "cell_type": "markdown",
   "metadata": {
    "slideshow": {
     "slide_type": "slide"
    }
   },
   "source": [
    "# <center> Activity"
   ]
  },
  {
   "cell_type": "markdown",
   "metadata": {
    "slideshow": {
     "slide_type": "fragment"
    }
   },
   "source": [
    "1) Professor Juniper has taken a random Pokemon in the wild. She tells you that the standard deviation of speed for all Pokemon is 15. She has tasked you with estimated the average speed of all Pokemon with a confidence level of 85%. Using the data of the sample found in pokemon_sample.csv, what interval should you report?"
   ]
  },
  {
   "cell_type": "markdown",
   "metadata": {
    "slideshow": {
     "slide_type": "fragment"
    }
   },
   "source": [
    "2) Professor Juniper has previously studied the height of all Pokemon. From a sample of 30 Pokemon, she calculated the average height to be between 25 and 40 inches, with a confidence of 90%. What was the average height of those 30 Pokemon? What is the standard deviation of Pokemon height for the population? "
   ]
  },
  {
   "cell_type": "markdown",
   "metadata": {
    "slideshow": {
     "slide_type": "slide"
    }
   },
   "source": [
    "What if we don't know the population standard deviation?"
   ]
  },
  {
   "cell_type": "markdown",
   "metadata": {
    "slideshow": {
     "slide_type": "slide"
    }
   },
   "source": [
    "## <center> T-Distribution"
   ]
  },
  {
   "cell_type": "markdown",
   "metadata": {
    "slideshow": {
     "slide_type": "fragment"
    }
   },
   "source": [
    "<img src='t_dist.png'>"
   ]
  },
  {
   "cell_type": "markdown",
   "metadata": {
    "slideshow": {
     "slide_type": "slide"
    }
   },
   "source": [
    " ### <center>Standard Deviation of a Sample"
   ]
  },
  {
   "cell_type": "markdown",
   "metadata": {
    "slideshow": {
     "slide_type": "fragment"
    }
   },
   "source": [
    "<center><img src='standard_dev.png'>"
   ]
  },
  {
   "cell_type": "code",
   "execution_count": null,
   "metadata": {
    "slideshow": {
     "slide_type": "slide"
    }
   },
   "outputs": [],
   "source": [
    "sample = pd.read_csv('pokemon_sample.csv')['Speed']\n",
    "s = np.std(sample, ddof = 1)\n",
    "s"
   ]
  },
  {
   "cell_type": "markdown",
   "metadata": {
    "slideshow": {
     "slide_type": "slide"
    }
   },
   "source": [
    "Confidence intervals for a T-distribution."
   ]
  },
  {
   "cell_type": "markdown",
   "metadata": {
    "slideshow": {
     "slide_type": "fragment"
    }
   },
   "source": [
    "<center>Margin of Error = t ∗ σ / √n"
   ]
  },
  {
   "cell_type": "markdown",
   "metadata": {
    "slideshow": {
     "slide_type": "slide"
    }
   },
   "source": [
    "<center>Consider we only have the sample of 30 Pokemon, what is the 90% confidence interval for the average speed of all Pokemon?"
   ]
  },
  {
   "cell_type": "code",
   "execution_count": null,
   "metadata": {
    "slideshow": {
     "slide_type": "fragment"
    }
   },
   "outputs": [],
   "source": [
    "sigma = np.std(sample, ddof=1)/np.sqrt(len(sample))"
   ]
  },
  {
   "cell_type": "code",
   "execution_count": null,
   "metadata": {
    "slideshow": {
     "slide_type": "fragment"
    }
   },
   "outputs": [],
   "source": [
    "stats.t.interval(alpha = 0.90,                              # Confidence level\n",
    "                 df= len(sample)-1,                         # Degrees of freedom\n",
    "                 loc = sample.mean(),                       # Sample mean\n",
    "                 scale = sigma) "
   ]
  },
  {
   "cell_type": "code",
   "execution_count": null,
   "metadata": {},
   "outputs": [],
   "source": [
    "moe = stats.t.ppf(0.9+(1-.9)/2, len(sample)-1)*np.std(sample, ddof=1)/np.sqrt(len(sample))\n",
    "sample.mean()-moe, sample.mean()+moe"
   ]
  },
  {
   "cell_type": "markdown",
   "metadata": {
    "slideshow": {
     "slide_type": "slide"
    }
   },
   "source": [
    "# <center> Activity"
   ]
  },
  {
   "cell_type": "markdown",
   "metadata": {
    "slideshow": {
     "slide_type": "fragment"
    }
   },
   "source": [
    "1)   Using a sample of data from home sales in King County (king_county_sample.csv), calculate a 95% confidence interval for the average home sale price."
   ]
  },
  {
   "cell_type": "markdown",
   "metadata": {
    "slideshow": {
     "slide_type": "fragment"
    }
   },
   "source": [
    "2)   Is there a tighter 90% confidence interval for number of bedrooms or number of bathrooms?"
   ]
  },
  {
   "cell_type": "markdown",
   "metadata": {
    "slideshow": {
     "slide_type": "fragment"
    }
   },
   "source": [
    "3) The 85% confidence interval found for the average salary of a data scientist was found to be 90,000 to 120,000. What was the sample size?"
   ]
  }
 ],
 "metadata": {
  "celltoolbar": "Slideshow",
  "kernelspec": {
   "display_name": "Python 3",
   "language": "python",
   "name": "python3"
  },
  "language_info": {
   "codemirror_mode": {
    "name": "ipython",
    "version": 3
   },
   "file_extension": ".py",
   "mimetype": "text/x-python",
   "name": "python",
   "nbconvert_exporter": "python",
   "pygments_lexer": "ipython3",
   "version": "3.5.6"
  }
 },
 "nbformat": 4,
 "nbformat_minor": 2
}
