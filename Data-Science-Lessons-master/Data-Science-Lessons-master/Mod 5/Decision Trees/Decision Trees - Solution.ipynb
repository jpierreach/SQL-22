{
 "cells": [
  {
   "cell_type": "markdown",
   "metadata": {
    "slideshow": {
     "slide_type": "slide"
    }
   },
   "source": [
    "## <center> From Decision Trees to Random Forests"
   ]
  },
  {
   "cell_type": "markdown",
   "metadata": {
    "slideshow": {
     "slide_type": "fragment"
    }
   },
   "source": [
    "## <center> Growing Supervised Machine Learning Models"
   ]
  },
  {
   "cell_type": "markdown",
   "metadata": {
    "slideshow": {
     "slide_type": "slide"
    }
   },
   "source": [
    "<center> <b>Contact Lens Type Determination</b> <br><br>\n",
    "<center><img src='decision_tree.png' height=700 width=700>"
   ]
  },
  {
   "cell_type": "markdown",
   "metadata": {
    "slideshow": {
     "slide_type": "slide"
    }
   },
   "source": [
    "## <center>Two algorithms"
   ]
  },
  {
   "cell_type": "markdown",
   "metadata": {
    "slideshow": {
     "slide_type": "fragment"
    }
   },
   "source": [
    "### <center> ID3\n",
    "<center>Iterative Dichotomiser 3 (Classification only) "
   ]
  },
  {
   "cell_type": "markdown",
   "metadata": {
    "slideshow": {
     "slide_type": "fragment"
    }
   },
   "source": [
    "### <center> CART   </center>\n",
    "<center>Classification and Regression Trees </center>"
   ]
  },
  {
   "cell_type": "markdown",
   "metadata": {
    "slideshow": {
     "slide_type": "slide"
    }
   },
   "source": [
    "## ID3"
   ]
  },
  {
   "cell_type": "markdown",
   "metadata": {
    "slideshow": {
     "slide_type": "slide"
    }
   },
   "source": [
    "### <center> Entropy"
   ]
  },
  {
   "cell_type": "markdown",
   "metadata": {
    "slideshow": {
     "slide_type": "fragment"
    }
   },
   "source": [
    "<center><img src='entropy.png'>"
   ]
  },
  {
   "cell_type": "markdown",
   "metadata": {
    "slideshow": {
     "slide_type": "slide"
    }
   },
   "source": [
    "<center><img src=\"entropy_formula.png\">"
   ]
  },
  {
   "cell_type": "code",
   "execution_count": 221,
   "metadata": {
    "slideshow": {
     "slide_type": "fragment"
    }
   },
   "outputs": [
    {
     "data": {
      "text/plain": [
       "0.6931471805599453"
      ]
     },
     "execution_count": 221,
     "metadata": {},
     "output_type": "execute_result"
    }
   ],
   "source": [
    "-((1/2)*np.log(1/2)+(1/2)*np.log(1/2))"
   ]
  },
  {
   "cell_type": "markdown",
   "metadata": {
    "slideshow": {
     "slide_type": "slide"
    }
   },
   "source": [
    "### <center> Information Gain"
   ]
  },
  {
   "cell_type": "markdown",
   "metadata": {
    "slideshow": {
     "slide_type": "fragment"
    }
   },
   "source": [
    "<center>The reduction of uncertainty about Y given an additional piece of information X about Y."
   ]
  },
  {
   "cell_type": "markdown",
   "metadata": {
    "slideshow": {
     "slide_type": "fragment"
    }
   },
   "source": [
    "<center><img src='ig_formula.png'>"
   ]
  },
  {
   "cell_type": "markdown",
   "metadata": {
    "slideshow": {
     "slide_type": "slide"
    }
   },
   "source": [
    "## <center> Building a Decision Tree From Scratch (ID3)"
   ]
  },
  {
   "cell_type": "code",
   "execution_count": 1,
   "metadata": {},
   "outputs": [
    {
     "data": {
      "text/html": [
       "<div>\n",
       "<style scoped>\n",
       "    .dataframe tbody tr th:only-of-type {\n",
       "        vertical-align: middle;\n",
       "    }\n",
       "\n",
       "    .dataframe tbody tr th {\n",
       "        vertical-align: top;\n",
       "    }\n",
       "\n",
       "    .dataframe thead th {\n",
       "        text-align: right;\n",
       "    }\n",
       "</style>\n",
       "<table border=\"1\" class=\"dataframe\">\n",
       "  <thead>\n",
       "    <tr style=\"text-align: right;\">\n",
       "      <th></th>\n",
       "      <th>Older Than 30</th>\n",
       "      <th>Occupation</th>\n",
       "      <th>Income Over 80000</th>\n",
       "      <th>Approved</th>\n",
       "    </tr>\n",
       "  </thead>\n",
       "  <tbody>\n",
       "    <tr>\n",
       "      <th>0</th>\n",
       "      <td>False</td>\n",
       "      <td>Doctor</td>\n",
       "      <td>True</td>\n",
       "      <td>True</td>\n",
       "    </tr>\n",
       "    <tr>\n",
       "      <th>1</th>\n",
       "      <td>True</td>\n",
       "      <td>Lawyer</td>\n",
       "      <td>True</td>\n",
       "      <td>True</td>\n",
       "    </tr>\n",
       "    <tr>\n",
       "      <th>2</th>\n",
       "      <td>True</td>\n",
       "      <td>Truck Driver</td>\n",
       "      <td>False</td>\n",
       "      <td>False</td>\n",
       "    </tr>\n",
       "    <tr>\n",
       "      <th>3</th>\n",
       "      <td>False</td>\n",
       "      <td>Doctor</td>\n",
       "      <td>False</td>\n",
       "      <td>False</td>\n",
       "    </tr>\n",
       "    <tr>\n",
       "      <th>4</th>\n",
       "      <td>True</td>\n",
       "      <td>Truck Driver</td>\n",
       "      <td>True</td>\n",
       "      <td>False</td>\n",
       "    </tr>\n",
       "  </tbody>\n",
       "</table>\n",
       "</div>"
      ],
      "text/plain": [
       "   Older Than 30    Occupation  Income Over 80000  Approved\n",
       "0          False        Doctor               True      True\n",
       "1           True        Lawyer               True      True\n",
       "2           True  Truck Driver              False     False\n",
       "3          False        Doctor              False     False\n",
       "4           True  Truck Driver               True     False"
      ]
     },
     "execution_count": 1,
     "metadata": {},
     "output_type": "execute_result"
    }
   ],
   "source": [
    "import pandas as pd\n",
    "import numpy as np\n",
    "df = pd.DataFrame()\n",
    "df['Older Than 30'] = [False, True, True, False, True]\n",
    "df['Occupation'] = ['Doctor', 'Lawyer', 'Truck Driver', 'Doctor', 'Truck Driver']\n",
    "df['Income Over 80000'] = [True, True, False, False, True]\n",
    "df['Approved'] = [True, True, False, False, False]\n",
    "df"
   ]
  },
  {
   "cell_type": "code",
   "execution_count": 2,
   "metadata": {},
   "outputs": [],
   "source": [
    "## Number approved/not approved\n",
    "df['Approved'].value_counts()\n",
    "approved = df[df['Approved']==True]\n",
    "not_approved = df[df['Approved']==False]\n",
    "total = len(df)"
   ]
  },
  {
   "cell_type": "code",
   "execution_count": 3,
   "metadata": {},
   "outputs": [
    {
     "data": {
      "text/plain": [
       "0.6730116670092565"
      ]
     },
     "execution_count": 3,
     "metadata": {},
     "output_type": "execute_result"
    }
   ],
   "source": [
    "## Entropy of parent node\n",
    "entropy_parent = -((len(approved)/total)*np.log(len(approved)/total)+\n",
    "                   (len(not_approved)/total)*np.log(len(not_approved)/total))\n",
    "entropy_parent"
   ]
  },
  {
   "cell_type": "code",
   "execution_count": 4,
   "metadata": {},
   "outputs": [
    {
     "name": "stdout",
     "output_type": "stream",
     "text": [
      "Information Gain (Age): 0.15247372992037977\n"
     ]
    }
   ],
   "source": [
    "## Entropy and Information Gain of Age\n",
    "older = df[df['Older Than 30']==True]\n",
    "younger = df[df['Older Than 30']==False]\n",
    "\n",
    "weight_older = len(older)/total\n",
    "weight_younger = len(younger)/total\n",
    "\n",
    "older_approved = older[older['Approved']==True]\n",
    "older_not_approved = older[older['Approved']==False]\n",
    "younger_approved = younger[younger['Approved']==True]\n",
    "younger_not_approved = older[older['Approved']==False]\n",
    "\n",
    "entropy_older = -((len(older_approved)/len(older))*np.log(len(older_approved)/len(older))\n",
    "                  +(len(older_not_approved)/len(older))*np.log(len(older_not_approved)/len(older)))\n",
    "\n",
    "entropy_younger = -((len(younger_approved)/len(younger))*np.log(len(younger_approved)/len(younger))\n",
    "                  +(len(younger_not_approved)/len(younger))*np.log(len(younger_not_approved)/len(younger)))\n",
    "\n",
    "entropy_age = entropy_older*weight_older + entropy_younger*weight_younger\n",
    "ig_age = entropy_parent - entropy_age\n",
    "print('Information Gain (Age):', ig_age)"
   ]
  },
  {
   "cell_type": "code",
   "execution_count": 5,
   "metadata": {},
   "outputs": [],
   "source": [
    "def entropy(count_true, count_false, count_total):\n",
    "    true = (count_true/count_total)*np.log(count_true/count_total) if count_true > 0 else 0\n",
    "    false = (count_false/count_total)*np.log(count_false/count_total) if count_false > 0 else 0\n",
    "    return -(true + false)"
   ]
  },
  {
   "cell_type": "code",
   "execution_count": 6,
   "metadata": {},
   "outputs": [
    {
     "name": "stdout",
     "output_type": "stream",
     "text": [
      "Information Gain (Occupation): 0.3957527947852784\n"
     ]
    }
   ],
   "source": [
    "## Entropy and Information Gain of Occupation\n",
    "occupations = list(df['Occupation'].value_counts().index)\n",
    "occupation_dfs = [df[df['Occupation']==i] for i in occupations]\n",
    "occupation_weights = [len(i)/total for i in occupation_dfs]\n",
    "occupation_approved = [i[i['Approved']==True] for i in occupation_dfs]\n",
    "occupation_not_approved = [i[i['Approved']==False] for i in occupation_dfs]\n",
    "\n",
    "entropy_occupation = np.sum([entropy(len(x), len(y), len(occupation))*weight for x,y,occupation,weight \n",
    "                                         in zip(occupation_approved, occupation_not_approved, \n",
    "                                                        occupation_dfs, occupation_weights)])\n",
    "                                                                                         \n",
    "ig_occupation = entropy_parent - entropy_occupation\n",
    "print('Information Gain (Occupation):', ig_occupation)"
   ]
  },
  {
   "cell_type": "code",
   "execution_count": 7,
   "metadata": {},
   "outputs": [
    {
     "name": "stdout",
     "output_type": "stream",
     "text": [
      "Information Gain (Income): 0.29110316603236885\n"
     ]
    }
   ],
   "source": [
    "## Entropy and Information Gain of Income\n",
    "incomes = list(df['Income Over 80000'].value_counts().index)\n",
    "income_dfs = [df[df['Income Over 80000']==i] for i in incomes]\n",
    "income_weights = [len(i)/total for i in income_dfs]\n",
    "income_approved = [i[i['Approved']==True] for i in income_dfs]\n",
    "income_not_approved = [i[i['Approved']==False] for i in income_dfs]\n",
    "\n",
    "entropy_income = np.sum([entropy(len(x), len(y), len(income))*weight for x,y,income,weight\n",
    "                                         in zip(income_approved, income_not_approved, \n",
    "                                                        income_dfs, income_weights)])\n",
    "                                                                                         \n",
    "ig_income = entropy_parent - entropy_income\n",
    "print('Information Gain (Income):', ig_income)"
   ]
  },
  {
   "cell_type": "code",
   "execution_count": 8,
   "metadata": {},
   "outputs": [
    {
     "name": "stdout",
     "output_type": "stream",
     "text": [
      "Information Gains\n",
      "Age : 0.15247372992037977\n",
      "Occupation : 0.3957527947852784\n",
      "Income : 0.29110316603236885\n"
     ]
    }
   ],
   "source": [
    "print('Information Gains')\n",
    "p=[print(i,\":\",j) for i,j in zip(['Age','Occupation','Income'],[ig_age, ig_occupation, ig_income])]"
   ]
  },
  {
   "cell_type": "code",
   "execution_count": 9,
   "metadata": {},
   "outputs": [
    {
     "name": "stdout",
     "output_type": "stream",
     "text": [
      "Doctor -- Income\n",
      "Truck Driver -- Income\n",
      "Lawyer -- Income\n"
     ]
    }
   ],
   "source": [
    "for occupation in occupations:\n",
    "    ## calculate parent entropy\n",
    "    o_df = df[df['Occupation']==occupation]\n",
    "    o_total = len(o_df)\n",
    "    true = len(o_df[o_df['Approved']==True])\n",
    "    false = len(o_df[o_df['Approved']==False])\n",
    "    p_entropy = entropy(true,false,o_total)\n",
    "    ## calculate children entropy\n",
    "    ## Age\n",
    "    ages = list(o_df['Older Than 30'].value_counts().index)\n",
    "    age_dfs = [o_df[o_df['Older Than 30']==i] for i in ages]\n",
    "    age_weights = [len(i)/o_total for i in age_dfs]\n",
    "    age_approved = [i[i['Approved']==True] for i in age_dfs]\n",
    "    age_not_approved = [i[i['Approved']==False] for i in age_dfs]\n",
    "    entropy_age = np.sum([entropy(len(x), len(y), len(age))*weight for x,y,age,weight\n",
    "                                     in zip(age_approved, age_not_approved, \n",
    "                                                    age_dfs, age_weights)])                                                                  \n",
    "    ig_age = entropy_parent - entropy_age\n",
    "    ## Income\n",
    "    incomes = list(o_df['Income Over 80000'].value_counts().index)\n",
    "    income_dfs = [o_df[o_df['Income Over 80000']==i] for i in incomes]\n",
    "    income_weights = [len(i)/o_total for i in income_dfs]\n",
    "    income_approved = [i[i['Approved']==True] for i in income_dfs]\n",
    "    income_not_approved = [i[i['Approved']==False] for i in income_dfs]\n",
    "    entropy_income = np.sum([entropy(len(x), len(y), len(income))*weight for x,y,income,weight\n",
    "                                     in zip(income_approved, income_not_approved, \n",
    "                                                    income_dfs, income_weights)])                                                                  \n",
    "    ig_income = entropy_parent - entropy_income\n",
    "    print(occupation, '--', 'Age' if ig_age>ig_income else 'Income')"
   ]
  },
  {
   "cell_type": "code",
   "execution_count": 10,
   "metadata": {},
   "outputs": [],
   "source": [
    "from sklearn.tree import DecisionTreeClassifier, plot_tree"
   ]
  },
  {
   "cell_type": "code",
   "execution_count": 11,
   "metadata": {},
   "outputs": [
    {
     "data": {
      "text/plain": [
       "DecisionTreeClassifier(ccp_alpha=0.0, class_weight=None, criterion='entropy',\n",
       "                       max_depth=None, max_features=None, max_leaf_nodes=None,\n",
       "                       min_impurity_decrease=0.0, min_impurity_split=None,\n",
       "                       min_samples_leaf=1, min_samples_split=2,\n",
       "                       min_weight_fraction_leaf=0.0, presort='deprecated',\n",
       "                       random_state=None, splitter='best')"
      ]
     },
     "execution_count": 11,
     "metadata": {},
     "output_type": "execute_result"
    }
   ],
   "source": [
    "## convert features to categories\n",
    "for i in df.columns:\n",
    "    df[i] = df[i].astype('category').cat.codes\n",
    "## fit model\n",
    "clf = DecisionTreeClassifier(criterion='entropy')\n",
    "clf.fit(df.drop('Approved',axis=1), df['Approved'])"
   ]
  },
  {
   "cell_type": "code",
   "execution_count": 12,
   "metadata": {},
   "outputs": [
    {
     "data": {
      "text/plain": [
       "<Figure size 640x480 with 1 Axes>"
      ]
     },
     "metadata": {},
     "output_type": "display_data"
    }
   ],
   "source": [
    "import matplotlib.pyplot as plt\n",
    "plot_tree(clf,node_ids=False,\n",
    "              impurity=False,\n",
    "              label=None,\n",
    "              filled=True,\n",
    "              feature_names=df.drop('Approved',axis=1).columns, \n",
    "              class_names=['Approved','Not Approved'])\n",
    "plt.show()"
   ]
  },
  {
   "cell_type": "markdown",
   "metadata": {
    "slideshow": {
     "slide_type": "slide"
    }
   },
   "source": [
    "## <center> Activity"
   ]
  },
  {
   "cell_type": "markdown",
   "metadata": {
    "slideshow": {
     "slide_type": "fragment"
    }
   },
   "source": [
    "<center>Using the data in data_scientists.csv, build a decision tree from scratch to predict whether or not someone is a Data Scientist."
   ]
  },
  {
   "cell_type": "markdown",
   "metadata": {
    "slideshow": {
     "slide_type": "fragment"
    }
   },
   "source": [
    "<center>Then, build the tree in Python and compare."
   ]
  },
  {
   "cell_type": "markdown",
   "metadata": {
    "slideshow": {
     "slide_type": "slide"
    }
   },
   "source": [
    "Steps:\n",
    "    - Find the entropy of the target.\n",
    "    - Find the weighted entropy for each feature.\n",
    "    - Calculate the information gain for each feature.\n",
    "    - Select the feature with the highest IG as the root node.\n",
    "    - Repeat process, finding entropy of root node, then entropy of children, and compare IG."
   ]
  },
  {
   "cell_type": "code",
   "execution_count": 20,
   "metadata": {},
   "outputs": [
    {
     "data": {
      "text/html": [
       "<div>\n",
       "<style scoped>\n",
       "    .dataframe tbody tr th:only-of-type {\n",
       "        vertical-align: middle;\n",
       "    }\n",
       "\n",
       "    .dataframe tbody tr th {\n",
       "        vertical-align: top;\n",
       "    }\n",
       "\n",
       "    .dataframe thead th {\n",
       "        text-align: right;\n",
       "    }\n",
       "</style>\n",
       "<table border=\"1\" class=\"dataframe\">\n",
       "  <thead>\n",
       "    <tr style=\"text-align: right;\">\n",
       "      <th></th>\n",
       "      <th>Uses Jupyter Notebooks</th>\n",
       "      <th>Is Stressed</th>\n",
       "      <th>Drinks Coffee</th>\n",
       "      <th>Data Scientist</th>\n",
       "    </tr>\n",
       "  </thead>\n",
       "  <tbody>\n",
       "    <tr>\n",
       "      <th>0</th>\n",
       "      <td>True</td>\n",
       "      <td>True</td>\n",
       "      <td>False</td>\n",
       "      <td>True</td>\n",
       "    </tr>\n",
       "    <tr>\n",
       "      <th>1</th>\n",
       "      <td>False</td>\n",
       "      <td>False</td>\n",
       "      <td>True</td>\n",
       "      <td>False</td>\n",
       "    </tr>\n",
       "    <tr>\n",
       "      <th>2</th>\n",
       "      <td>True</td>\n",
       "      <td>True</td>\n",
       "      <td>True</td>\n",
       "      <td>True</td>\n",
       "    </tr>\n",
       "    <tr>\n",
       "      <th>3</th>\n",
       "      <td>True</td>\n",
       "      <td>True</td>\n",
       "      <td>True</td>\n",
       "      <td>True</td>\n",
       "    </tr>\n",
       "    <tr>\n",
       "      <th>4</th>\n",
       "      <td>False</td>\n",
       "      <td>True</td>\n",
       "      <td>False</td>\n",
       "      <td>False</td>\n",
       "    </tr>\n",
       "    <tr>\n",
       "      <th>5</th>\n",
       "      <td>True</td>\n",
       "      <td>False</td>\n",
       "      <td>True</td>\n",
       "      <td>True</td>\n",
       "    </tr>\n",
       "    <tr>\n",
       "      <th>6</th>\n",
       "      <td>True</td>\n",
       "      <td>False</td>\n",
       "      <td>False</td>\n",
       "      <td>False</td>\n",
       "    </tr>\n",
       "  </tbody>\n",
       "</table>\n",
       "</div>"
      ],
      "text/plain": [
       "   Uses Jupyter Notebooks  Is Stressed  Drinks Coffee  Data Scientist\n",
       "0                    True         True          False            True\n",
       "1                   False        False           True           False\n",
       "2                    True         True           True            True\n",
       "3                    True         True           True            True\n",
       "4                   False         True          False           False\n",
       "5                    True        False           True            True\n",
       "6                    True        False          False           False"
      ]
     },
     "execution_count": 20,
     "metadata": {},
     "output_type": "execute_result"
    }
   ],
   "source": [
    "df = pd.read_csv('data_scientists.csv')\n",
    "df"
   ]
  },
  {
   "cell_type": "code",
   "execution_count": 29,
   "metadata": {},
   "outputs": [
    {
     "name": "stdout",
     "output_type": "stream",
     "text": [
      "Information Gain Uses Jupyter Notebooks : 0.32547780217319466\n",
      "Information Gain Is Stressed : 0.08878194993480437\n",
      "Information Gain Drinks Coffee : 0.08878194993480437\n"
     ]
    }
   ],
   "source": [
    "ds_true = df[df['Data Scientist']==True]\n",
    "ds_false = df[df['Data Scientist']==False]\n",
    "ds_entropy = entropy(len(ds_true),len(ds_false),len(df))\n",
    "for feature in df.drop('Data Scientist',axis=1).columns:\n",
    "    classes = list(df[feature].value_counts().index)\n",
    "    classes_dfs = [df[df[feature]==i] for i in classes]\n",
    "    classes_weights = [len(i)/len(df) for i in classes_dfs]\n",
    "    classes_ds = [i[i['Data Scientist']==True] for i in classes_dfs]\n",
    "    classes_not_ds = [i[i['Data Scientist']==False] for i in classes_dfs]\n",
    "\n",
    "    feature_entropy = np.sum([entropy(len(x), len(y), len(c))*weight for x,y,c,weight \n",
    "                                             in zip(classes_ds, classes_not_ds, classes_dfs, classes_weights)])\n",
    "\n",
    "    feature_ig = ds_entropy - feature_entropy\n",
    "    print('Information Gain', feature,':',feature_ig)"
   ]
  },
  {
   "cell_type": "code",
   "execution_count": 40,
   "metadata": {},
   "outputs": [
    {
     "name": "stdout",
     "output_type": "stream",
     "text": [
      "Information Gain Is Stressed : 0.08878194993480437\n",
      "Information Gain Drinks Coffee : 0.08878194993480437\n"
     ]
    }
   ],
   "source": [
    "## choosing Is Stressed as next parent node\n",
    "stressed_true = df[df['Uses Jupyter Notebooks']==True]\n",
    "stressed_false = df[df['Uses Jupyter Notebooks']==False]\n",
    "stressed_entropy = entropy(len(ds_true),len(ds_false),len(df))\n",
    "for feature in df.drop(['Data Scientist','Uses Jupyter Notebooks'],axis=1).columns:\n",
    "    classes = list(df[feature].value_counts().index)\n",
    "    classes_dfs = [df[df[feature]==i] for i in classes]\n",
    "    classes_weights = [len(i)/len(df) for i in classes_dfs]\n",
    "    classes_ds = [i[i['Data Scientist']==True] for i in classes_dfs]\n",
    "    classes_not_ds = [i[i['Data Scientist']==False] for i in classes_dfs]\n",
    "\n",
    "    feature_entropy = np.sum([entropy(len(x), len(y), len(c))*weight for x,y,c,weight \n",
    "                                             in zip(classes_ds, classes_not_ds, classes_dfs, classes_weights)])\n",
    "\n",
    "    feature_ig = ds_entropy - feature_entropy\n",
    "    print('Information Gain', feature,':',feature_ig)"
   ]
  },
  {
   "cell_type": "code",
   "execution_count": 44,
   "metadata": {},
   "outputs": [
    {
     "data": {
      "image/png": "[encoded data removed]",
      "text/plain": [
       "<Figure size 432x288 with 1 Axes>"
      ]
     },
     "metadata": {
      "needs_background": "light"
     },
     "output_type": "display_data"
    }
   ],
   "source": [
    "for i in df.columns:\n",
    "    df[i] = df[i].astype('category').cat.codes\n",
    "## fit model\n",
    "clf = DecisionTreeClassifier(criterion='entropy')\n",
    "clf.fit(df.drop('Data Scientist',axis=1), df['Data Scientist'])\n",
    "import matplotlib.pyplot as plt\n",
    "plot_tree(clf,node_ids=False,\n",
    "              impurity=False,\n",
    "              label=None,\n",
    "              filled=True,\n",
    "              feature_names=df.drop('Data Scientist',axis=1).columns, \n",
    "              class_names=['Data Scientist','Not Data Scientist'])\n",
    "plt.show()"
   ]
  },
  {
   "cell_type": "markdown",
   "metadata": {
    "slideshow": {
     "slide_type": "slide"
    }
   },
   "source": [
    "### <center>CART"
   ]
  },
  {
   "cell_type": "markdown",
   "metadata": {
    "slideshow": {
     "slide_type": "fragment"
    }
   },
   "source": [
    "<center>Similar to ID3, except for the formula used in determining branches. <br>\n",
    "Newer, more common algorithm, default in DecisionTreeClassifer/DecisionTreeRegressor."
   ]
  },
  {
   "cell_type": "markdown",
   "metadata": {
    "slideshow": {
     "slide_type": "fragment"
    }
   },
   "source": [
    "<center><img src=\"gini_formula.png\">"
   ]
  },
  {
   "cell_type": "markdown",
   "metadata": {
    "slideshow": {
     "slide_type": "slide"
    }
   },
   "source": [
    "### Decision Trees for Regression"
   ]
  },
  {
   "cell_type": "code",
   "execution_count": 56,
   "metadata": {
    "slideshow": {
     "slide_type": "slide"
    }
   },
   "outputs": [],
   "source": [
    "from sklearn.datasets import make_regression, make_classification\n",
    "X,y = make_regression(n_samples=10,n_features=2, n_informative=2, random_state=47)"
   ]
  },
  {
   "cell_type": "code",
   "execution_count": 57,
   "metadata": {
    "slideshow": {
     "slide_type": "fragment"
    }
   },
   "outputs": [
    {
     "data": {
      "text/html": [
       "<div>\n",
       "<style scoped>\n",
       "    .dataframe tbody tr th:only-of-type {\n",
       "        vertical-align: middle;\n",
       "    }\n",
       "\n",
       "    .dataframe tbody tr th {\n",
       "        vertical-align: top;\n",
       "    }\n",
       "\n",
       "    .dataframe thead th {\n",
       "        text-align: right;\n",
       "    }\n",
       "</style>\n",
       "<table border=\"1\" class=\"dataframe\">\n",
       "  <thead>\n",
       "    <tr style=\"text-align: right;\">\n",
       "      <th></th>\n",
       "      <th>X1</th>\n",
       "      <th>X2</th>\n",
       "      <th>target</th>\n",
       "    </tr>\n",
       "  </thead>\n",
       "  <tbody>\n",
       "    <tr>\n",
       "      <th>0</th>\n",
       "      <td>0.794958</td>\n",
       "      <td>0.436606</td>\n",
       "      <td>46.768726</td>\n",
       "    </tr>\n",
       "    <tr>\n",
       "      <th>1</th>\n",
       "      <td>0.087662</td>\n",
       "      <td>0.719533</td>\n",
       "      <td>41.201809</td>\n",
       "    </tr>\n",
       "    <tr>\n",
       "      <th>2</th>\n",
       "      <td>-0.943156</td>\n",
       "      <td>-0.932340</td>\n",
       "      <td>-77.732012</td>\n",
       "    </tr>\n",
       "    <tr>\n",
       "      <th>3</th>\n",
       "      <td>1.305906</td>\n",
       "      <td>-0.848009</td>\n",
       "      <td>-7.203624</td>\n",
       "    </tr>\n",
       "    <tr>\n",
       "      <th>4</th>\n",
       "      <td>1.104180</td>\n",
       "      <td>-1.393727</td>\n",
       "      <td>-42.421202</td>\n",
       "    </tr>\n",
       "    <tr>\n",
       "      <th>5</th>\n",
       "      <td>0.051794</td>\n",
       "      <td>-1.322748</td>\n",
       "      <td>-69.493892</td>\n",
       "    </tr>\n",
       "    <tr>\n",
       "      <th>6</th>\n",
       "      <td>1.797761</td>\n",
       "      <td>-1.054737</td>\n",
       "      <td>-3.868167</td>\n",
       "    </tr>\n",
       "    <tr>\n",
       "      <th>7</th>\n",
       "      <td>0.640412</td>\n",
       "      <td>0.924208</td>\n",
       "      <td>68.411077</td>\n",
       "    </tr>\n",
       "    <tr>\n",
       "      <th>8</th>\n",
       "      <td>0.823623</td>\n",
       "      <td>-1.012787</td>\n",
       "      <td>-30.203021</td>\n",
       "    </tr>\n",
       "    <tr>\n",
       "      <th>9</th>\n",
       "      <td>-0.592471</td>\n",
       "      <td>-0.294650</td>\n",
       "      <td>-33.205400</td>\n",
       "    </tr>\n",
       "  </tbody>\n",
       "</table>\n",
       "</div>"
      ],
      "text/plain": [
       "         X1        X2     target\n",
       "0  0.794958  0.436606  46.768726\n",
       "1  0.087662  0.719533  41.201809\n",
       "2 -0.943156 -0.932340 -77.732012\n",
       "3  1.305906 -0.848009  -7.203624\n",
       "4  1.104180 -1.393727 -42.421202\n",
       "5  0.051794 -1.322748 -69.493892\n",
       "6  1.797761 -1.054737  -3.868167\n",
       "7  0.640412  0.924208  68.411077\n",
       "8  0.823623 -1.012787 -30.203021\n",
       "9 -0.592471 -0.294650 -33.205400"
      ]
     },
     "execution_count": 57,
     "metadata": {},
     "output_type": "execute_result"
    }
   ],
   "source": [
    "reg_df = pd.DataFrame(X)\n",
    "reg_df.columns = ['X'+str(i+1) for i in range(len(reg_df.columns))]\n",
    "reg_df['target'] = y\n",
    "reg_df"
   ]
  },
  {
   "cell_type": "code",
   "execution_count": 58,
   "metadata": {
    "slideshow": {
     "slide_type": "slide"
    }
   },
   "outputs": [],
   "source": [
    "from sklearn.tree import DecisionTreeRegressor\n",
    "reg_clf = DecisionTreeRegressor().fit(X,y)"
   ]
  },
  {
   "cell_type": "code",
   "execution_count": 59,
   "metadata": {
    "slideshow": {
     "slide_type": "fragment"
    }
   },
   "outputs": [],
   "source": [
    "x_vals = np.linspace(-3,3,100)\n",
    "y_vals = np.linspace(-3,3,100)\n",
    "preds = []\n",
    "for x_ in x_vals:\n",
    "    for y_ in y_vals:\n",
    "        pred = reg_clf.predict(np.array([x_, y_]).reshape(1,-1))\n",
    "        preds.append(pred[0])"
   ]
  },
  {
   "cell_type": "code",
   "execution_count": 60,
   "metadata": {
    "slideshow": {
     "slide_type": "fragment"
    }
   },
   "outputs": [
    {
     "data": {
      "text/plain": [
       "True"
      ]
     },
     "execution_count": 60,
     "metadata": {},
     "output_type": "execute_result"
    }
   ],
   "source": [
    "set(y)==set(preds)"
   ]
  },
  {
   "cell_type": "markdown",
   "metadata": {
    "slideshow": {
     "slide_type": "slide"
    }
   },
   "source": [
    "### <center> In regression, decision trees can only predict values in the training set."
   ]
  },
  {
   "cell_type": "markdown",
   "metadata": {
    "slideshow": {
     "slide_type": "slide"
    }
   },
   "source": [
    "## <center> Tuning Decision Trees"
   ]
  },
  {
   "cell_type": "markdown",
   "metadata": {
    "slideshow": {
     "slide_type": "fragment"
    }
   },
   "source": [
    "<center> <b>Parameters</b><br><br>\n",
    "<center> <a href=\"https://scikit-learn.org/stable/modules/generated/sklearn.tree.DecisionTreeClassifier.html\">DecisionTreeClassifier Documentation</a>\n",
    "<center> <a href=\"https://scikit-learn.org/stable/modules/generated/sklearn.tree.DecisionTreeRegressor.html\">DecisionTreeRegressor Documentation</a> "
   ]
  },
  {
   "cell_type": "code",
   "execution_count": 61,
   "metadata": {
    "slideshow": {
     "slide_type": "slide"
    }
   },
   "outputs": [
    {
     "name": "stdout",
     "output_type": "stream",
     "text": [
      "Train MSE: 0.0\n",
      "Train R2: 1.0\n",
      "\n",
      "Test MSE: 5026.395489537615\n",
      "Test R2: 0.6753974701280121\n"
     ]
    }
   ],
   "source": [
    "## make dataset\n",
    "X,y = make_regression(n_samples=1000,n_features=10, n_informative=8, random_state=47)\n",
    "## train-test split\n",
    "from sklearn.model_selection import train_test_split\n",
    "X_train, X_test, y_train, y_test = train_test_split(X,y,test_size=0.15, random_state=47)\n",
    "## fit base model\n",
    "base_model = DecisionTreeRegressor().fit(X_train,y_train)\n",
    "## train/test accuracy\n",
    "from sklearn.metrics import mean_squared_error, r2_score\n",
    "print('Train MSE:', mean_squared_error(y_train, base_model.predict(X_train)))\n",
    "print('Train R2:', r2_score(y_train, base_model.predict(X_train)));print('')\n",
    "print('Test MSE:', mean_squared_error(y_test, base_model.predict(X_test)))\n",
    "print('Test R2:', r2_score(y_test, base_model.predict(X_test)))"
   ]
  },
  {
   "cell_type": "code",
   "execution_count": 62,
   "metadata": {
    "slideshow": {
     "slide_type": "slide"
    }
   },
   "outputs": [
    {
     "name": "stdout",
     "output_type": "stream",
     "text": [
      "Fitting 5 folds for each of 72 candidates, totalling 360 fits\n"
     ]
    },
    {
     "name": "stderr",
     "output_type": "stream",
     "text": [
      "[Parallel(n_jobs=1)]: Using backend SequentialBackend with 1 concurrent workers.\n",
      "[Parallel(n_jobs=1)]: Done 360 out of 360 | elapsed:    1.6s finished\n"
     ]
    },
    {
     "data": {
      "text/plain": [
       "GridSearchCV(cv=None, error_score=nan,\n",
       "             estimator=DecisionTreeRegressor(ccp_alpha=0.0, criterion='mse',\n",
       "                                             max_depth=None, max_features=None,\n",
       "                                             max_leaf_nodes=None,\n",
       "                                             min_impurity_decrease=0.0,\n",
       "                                             min_impurity_split=None,\n",
       "                                             min_samples_leaf=1,\n",
       "                                             min_samples_split=2,\n",
       "                                             min_weight_fraction_leaf=0.0,\n",
       "                                             presort='deprecated',\n",
       "                                             random_state=None,\n",
       "                                             splitter='best'),\n",
       "             iid='deprecated', n_jobs=None,\n",
       "             param_grid={'max_depth': [5, 10, 20],\n",
       "                         'max_features': ['auto', None],\n",
       "                         'min_impurity_decrease': [0, 0.5, 0.75],\n",
       "                         'min_samples_split': [0.5, 1.0, 2, 3]},\n",
       "             pre_dispatch='2*n_jobs', refit=True, return_train_score=False,\n",
       "             scoring='r2', verbose=1)"
      ]
     },
     "execution_count": 62,
     "metadata": {},
     "output_type": "execute_result"
    }
   ],
   "source": [
    "from sklearn.model_selection import GridSearchCV\n",
    "params = {'max_depth':[5,10,20], \n",
    "              'min_samples_split':[0.5,1.0,2,3],\n",
    "              'max_features':['auto',None],\n",
    "              'min_impurity_decrease':[0,0.5,0.75]\n",
    "             }\n",
    "dtr = DecisionTreeRegressor()\n",
    "grid_search_model = GridSearchCV(dtr, params,scoring='r2', verbose=1)\n",
    "grid_search_model.fit(X_train, y_train)"
   ]
  },
  {
   "cell_type": "code",
   "execution_count": 63,
   "metadata": {
    "slideshow": {
     "slide_type": "slide"
    }
   },
   "outputs": [
    {
     "data": {
      "text/plain": [
       "{'max_depth': 10,\n",
       " 'max_features': 'auto',\n",
       " 'min_impurity_decrease': 0.75,\n",
       " 'min_samples_split': 3}"
      ]
     },
     "execution_count": 63,
     "metadata": {},
     "output_type": "execute_result"
    }
   ],
   "source": [
    "grid_search_model.best_params_"
   ]
  },
  {
   "cell_type": "code",
   "execution_count": 64,
   "metadata": {
    "slideshow": {
     "slide_type": "slide"
    }
   },
   "outputs": [
    {
     "name": "stdout",
     "output_type": "stream",
     "text": [
      "Train MSE: 169.34630922886987\n",
      "Train R2: 0.9903480075320004\n",
      "\n",
      "Test MSE: 5222.621069285318\n",
      "Test R2: 0.6627253038123525\n"
     ]
    }
   ],
   "source": [
    "best_model = grid_search_model.best_estimator_\n",
    "print('Train MSE:', mean_squared_error(y_train, best_model.predict(X_train)))\n",
    "print('Train R2:', r2_score(y_train, best_model.predict(X_train)));print('')\n",
    "print('Test MSE:', mean_squared_error(y_test, best_model.predict(X_test)))\n",
    "print('Test R2:', r2_score(y_test, best_model.predict(X_test)))"
   ]
  },
  {
   "cell_type": "markdown",
   "metadata": {
    "slideshow": {
     "slide_type": "slide"
    }
   },
   "source": [
    "## <center> Activity"
   ]
  },
  {
   "cell_type": "markdown",
   "metadata": {
    "slideshow": {
     "slide_type": "fragment"
    }
   },
   "source": [
    "- Use the data in disease_prediction.csv to build a model to predict whether or not a person is likely to have a disease.<br><br>\n",
    "- Choose the appropriate measures of model success and scoring metrics to fit the best model. <br><br>\n",
    "- Utitlize GridSearchCV to tune your decision tree model."
   ]
  },
  {
   "cell_type": "code",
   "execution_count": 48,
   "metadata": {},
   "outputs": [
    {
     "data": {
      "text/html": [
       "<div>\n",
       "<style scoped>\n",
       "    .dataframe tbody tr th:only-of-type {\n",
       "        vertical-align: middle;\n",
       "    }\n",
       "\n",
       "    .dataframe tbody tr th {\n",
       "        vertical-align: top;\n",
       "    }\n",
       "\n",
       "    .dataframe thead th {\n",
       "        text-align: right;\n",
       "    }\n",
       "</style>\n",
       "<table border=\"1\" class=\"dataframe\">\n",
       "  <thead>\n",
       "    <tr style=\"text-align: right;\">\n",
       "      <th></th>\n",
       "      <th>X1</th>\n",
       "      <th>X2</th>\n",
       "      <th>X3</th>\n",
       "      <th>X4</th>\n",
       "      <th>X5</th>\n",
       "      <th>X6</th>\n",
       "      <th>X7</th>\n",
       "      <th>X8</th>\n",
       "      <th>X9</th>\n",
       "      <th>X10</th>\n",
       "      <th>X11</th>\n",
       "      <th>X12</th>\n",
       "      <th>X13</th>\n",
       "      <th>X14</th>\n",
       "      <th>X15</th>\n",
       "      <th>Target</th>\n",
       "    </tr>\n",
       "  </thead>\n",
       "  <tbody>\n",
       "    <tr>\n",
       "      <th>0</th>\n",
       "      <td>-0.034523</td>\n",
       "      <td>3.608020</td>\n",
       "      <td>1.218602</td>\n",
       "      <td>-3.088745</td>\n",
       "      <td>-1.830222</td>\n",
       "      <td>-1.347290</td>\n",
       "      <td>1.309101</td>\n",
       "      <td>0.472154</td>\n",
       "      <td>-2.063063</td>\n",
       "      <td>0.713326</td>\n",
       "      <td>1.449714</td>\n",
       "      <td>-1.388035</td>\n",
       "      <td>-1.235700</td>\n",
       "      <td>0.354369</td>\n",
       "      <td>5.139164</td>\n",
       "      <td>0</td>\n",
       "    </tr>\n",
       "    <tr>\n",
       "      <th>1</th>\n",
       "      <td>-3.982620</td>\n",
       "      <td>-1.519580</td>\n",
       "      <td>2.607753</td>\n",
       "      <td>1.352610</td>\n",
       "      <td>-0.492727</td>\n",
       "      <td>0.451896</td>\n",
       "      <td>-1.234259</td>\n",
       "      <td>-0.306009</td>\n",
       "      <td>-3.189432</td>\n",
       "      <td>-2.472089</td>\n",
       "      <td>2.373689</td>\n",
       "      <td>0.707191</td>\n",
       "      <td>-0.689186</td>\n",
       "      <td>-0.172267</td>\n",
       "      <td>-2.086183</td>\n",
       "      <td>0</td>\n",
       "    </tr>\n",
       "    <tr>\n",
       "      <th>2</th>\n",
       "      <td>1.935644</td>\n",
       "      <td>-0.463844</td>\n",
       "      <td>-0.711184</td>\n",
       "      <td>-1.162659</td>\n",
       "      <td>0.479820</td>\n",
       "      <td>-0.462172</td>\n",
       "      <td>1.783586</td>\n",
       "      <td>-1.670872</td>\n",
       "      <td>-2.005233</td>\n",
       "      <td>-0.582234</td>\n",
       "      <td>-0.984213</td>\n",
       "      <td>4.108262</td>\n",
       "      <td>0.393325</td>\n",
       "      <td>0.576208</td>\n",
       "      <td>0.554480</td>\n",
       "      <td>1</td>\n",
       "    </tr>\n",
       "    <tr>\n",
       "      <th>3</th>\n",
       "      <td>-2.937114</td>\n",
       "      <td>0.828235</td>\n",
       "      <td>-4.950897</td>\n",
       "      <td>-2.832968</td>\n",
       "      <td>-0.235300</td>\n",
       "      <td>0.875254</td>\n",
       "      <td>-1.514857</td>\n",
       "      <td>2.216442</td>\n",
       "      <td>1.868948</td>\n",
       "      <td>0.977231</td>\n",
       "      <td>7.081432</td>\n",
       "      <td>3.606751</td>\n",
       "      <td>-2.555186</td>\n",
       "      <td>0.898066</td>\n",
       "      <td>-0.782740</td>\n",
       "      <td>0</td>\n",
       "    </tr>\n",
       "    <tr>\n",
       "      <th>4</th>\n",
       "      <td>2.307148</td>\n",
       "      <td>-0.189785</td>\n",
       "      <td>-4.001813</td>\n",
       "      <td>-2.935185</td>\n",
       "      <td>-3.478831</td>\n",
       "      <td>-3.913828</td>\n",
       "      <td>1.747009</td>\n",
       "      <td>-1.566167</td>\n",
       "      <td>-2.882905</td>\n",
       "      <td>-1.522174</td>\n",
       "      <td>-8.079017</td>\n",
       "      <td>-4.874132</td>\n",
       "      <td>3.105106</td>\n",
       "      <td>4.652884</td>\n",
       "      <td>-1.559585</td>\n",
       "      <td>0</td>\n",
       "    </tr>\n",
       "    <tr>\n",
       "      <th>...</th>\n",
       "      <td>...</td>\n",
       "      <td>...</td>\n",
       "      <td>...</td>\n",
       "      <td>...</td>\n",
       "      <td>...</td>\n",
       "      <td>...</td>\n",
       "      <td>...</td>\n",
       "      <td>...</td>\n",
       "      <td>...</td>\n",
       "      <td>...</td>\n",
       "      <td>...</td>\n",
       "      <td>...</td>\n",
       "      <td>...</td>\n",
       "      <td>...</td>\n",
       "      <td>...</td>\n",
       "      <td>...</td>\n",
       "    </tr>\n",
       "    <tr>\n",
       "      <th>995</th>\n",
       "      <td>-1.357207</td>\n",
       "      <td>-0.667761</td>\n",
       "      <td>-3.538712</td>\n",
       "      <td>2.222158</td>\n",
       "      <td>-2.712089</td>\n",
       "      <td>3.853266</td>\n",
       "      <td>0.890923</td>\n",
       "      <td>-1.038749</td>\n",
       "      <td>1.112444</td>\n",
       "      <td>-0.487584</td>\n",
       "      <td>0.027832</td>\n",
       "      <td>3.667807</td>\n",
       "      <td>1.444183</td>\n",
       "      <td>-5.002966</td>\n",
       "      <td>-0.303842</td>\n",
       "      <td>1</td>\n",
       "    </tr>\n",
       "    <tr>\n",
       "      <th>996</th>\n",
       "      <td>0.227382</td>\n",
       "      <td>0.534173</td>\n",
       "      <td>-9.133174</td>\n",
       "      <td>-1.063166</td>\n",
       "      <td>-2.446178</td>\n",
       "      <td>3.269559</td>\n",
       "      <td>-0.191263</td>\n",
       "      <td>-0.952319</td>\n",
       "      <td>0.690111</td>\n",
       "      <td>-1.405286</td>\n",
       "      <td>-1.212993</td>\n",
       "      <td>2.229130</td>\n",
       "      <td>0.328727</td>\n",
       "      <td>-1.047072</td>\n",
       "      <td>-3.738128</td>\n",
       "      <td>0</td>\n",
       "    </tr>\n",
       "    <tr>\n",
       "      <th>997</th>\n",
       "      <td>2.339805</td>\n",
       "      <td>0.226301</td>\n",
       "      <td>0.077764</td>\n",
       "      <td>-1.860009</td>\n",
       "      <td>4.641882</td>\n",
       "      <td>-2.517670</td>\n",
       "      <td>1.584756</td>\n",
       "      <td>-0.788474</td>\n",
       "      <td>-0.822288</td>\n",
       "      <td>0.403484</td>\n",
       "      <td>0.471164</td>\n",
       "      <td>2.764739</td>\n",
       "      <td>2.157224</td>\n",
       "      <td>0.366475</td>\n",
       "      <td>0.958183</td>\n",
       "      <td>1</td>\n",
       "    </tr>\n",
       "    <tr>\n",
       "      <th>998</th>\n",
       "      <td>-0.253359</td>\n",
       "      <td>-1.660263</td>\n",
       "      <td>1.088776</td>\n",
       "      <td>0.364069</td>\n",
       "      <td>-0.884684</td>\n",
       "      <td>2.369242</td>\n",
       "      <td>-0.923348</td>\n",
       "      <td>-0.013337</td>\n",
       "      <td>-2.944915</td>\n",
       "      <td>-2.014761</td>\n",
       "      <td>-2.102847</td>\n",
       "      <td>-1.601085</td>\n",
       "      <td>0.667960</td>\n",
       "      <td>-0.024819</td>\n",
       "      <td>-0.478166</td>\n",
       "      <td>0</td>\n",
       "    </tr>\n",
       "    <tr>\n",
       "      <th>999</th>\n",
       "      <td>1.726349</td>\n",
       "      <td>1.166610</td>\n",
       "      <td>-2.616211</td>\n",
       "      <td>1.092899</td>\n",
       "      <td>0.737518</td>\n",
       "      <td>1.468023</td>\n",
       "      <td>-0.152022</td>\n",
       "      <td>3.111297</td>\n",
       "      <td>-0.956240</td>\n",
       "      <td>-3.018207</td>\n",
       "      <td>0.868225</td>\n",
       "      <td>1.187303</td>\n",
       "      <td>0.788074</td>\n",
       "      <td>-1.411431</td>\n",
       "      <td>-0.749508</td>\n",
       "      <td>0</td>\n",
       "    </tr>\n",
       "  </tbody>\n",
       "</table>\n",
       "<p>1000 rows × 16 columns</p>\n",
       "</div>"
      ],
      "text/plain": [
       "           X1        X2        X3        X4        X5        X6        X7  \\\n",
       "0   -0.034523  3.608020  1.218602 -3.088745 -1.830222 -1.347290  1.309101   \n",
       "1   -3.982620 -1.519580  2.607753  1.352610 -0.492727  0.451896 -1.234259   \n",
       "2    1.935644 -0.463844 -0.711184 -1.162659  0.479820 -0.462172  1.783586   \n",
       "3   -2.937114  0.828235 -4.950897 -2.832968 -0.235300  0.875254 -1.514857   \n",
       "4    2.307148 -0.189785 -4.001813 -2.935185 -3.478831 -3.913828  1.747009   \n",
       "..        ...       ...       ...       ...       ...       ...       ...   \n",
       "995 -1.357207 -0.667761 -3.538712  2.222158 -2.712089  3.853266  0.890923   \n",
       "996  0.227382  0.534173 -9.133174 -1.063166 -2.446178  3.269559 -0.191263   \n",
       "997  2.339805  0.226301  0.077764 -1.860009  4.641882 -2.517670  1.584756   \n",
       "998 -0.253359 -1.660263  1.088776  0.364069 -0.884684  2.369242 -0.923348   \n",
       "999  1.726349  1.166610 -2.616211  1.092899  0.737518  1.468023 -0.152022   \n",
       "\n",
       "           X8        X9       X10       X11       X12       X13       X14  \\\n",
       "0    0.472154 -2.063063  0.713326  1.449714 -1.388035 -1.235700  0.354369   \n",
       "1   -0.306009 -3.189432 -2.472089  2.373689  0.707191 -0.689186 -0.172267   \n",
       "2   -1.670872 -2.005233 -0.582234 -0.984213  4.108262  0.393325  0.576208   \n",
       "3    2.216442  1.868948  0.977231  7.081432  3.606751 -2.555186  0.898066   \n",
       "4   -1.566167 -2.882905 -1.522174 -8.079017 -4.874132  3.105106  4.652884   \n",
       "..        ...       ...       ...       ...       ...       ...       ...   \n",
       "995 -1.038749  1.112444 -0.487584  0.027832  3.667807  1.444183 -5.002966   \n",
       "996 -0.952319  0.690111 -1.405286 -1.212993  2.229130  0.328727 -1.047072   \n",
       "997 -0.788474 -0.822288  0.403484  0.471164  2.764739  2.157224  0.366475   \n",
       "998 -0.013337 -2.944915 -2.014761 -2.102847 -1.601085  0.667960 -0.024819   \n",
       "999  3.111297 -0.956240 -3.018207  0.868225  1.187303  0.788074 -1.411431   \n",
       "\n",
       "          X15  Target  \n",
       "0    5.139164       0  \n",
       "1   -2.086183       0  \n",
       "2    0.554480       1  \n",
       "3   -0.782740       0  \n",
       "4   -1.559585       0  \n",
       "..        ...     ...  \n",
       "995 -0.303842       1  \n",
       "996 -3.738128       0  \n",
       "997  0.958183       1  \n",
       "998 -0.478166       0  \n",
       "999 -0.749508       0  \n",
       "\n",
       "[1000 rows x 16 columns]"
      ]
     },
     "execution_count": 48,
     "metadata": {},
     "output_type": "execute_result"
    }
   ],
   "source": [
    "df = pd.read_csv('disease_prediction.csv')\n",
    "df"
   ]
  },
  {
   "cell_type": "code",
   "execution_count": 66,
   "metadata": {},
   "outputs": [
    {
     "name": "stdout",
     "output_type": "stream",
     "text": [
      "Train Accuracy: 1.0\n",
      "Train F1: 1.0\n",
      "Train Precision: 1.0\n",
      "Train Recall: 1.0\n",
      "\n",
      "Test Accuracy: 0.6933333333333334\n",
      "Test F1: 0.6973684210526315\n",
      "Test Precision: 0.7681159420289855\n",
      "Test Recall: 0.6385542168674698\n"
     ]
    }
   ],
   "source": [
    "from sklearn.model_selection import train_test_split\n",
    "from sklearn.metrics import accuracy_score,f1_score,precision_score,recall_score, confusion_matrix\n",
    "\n",
    "X = df.drop('Target',axis=1)\n",
    "y = df['Target']\n",
    "\n",
    "X_train, X_test, y_train, y_test = train_test_split(X,y,test_size=0.15, random_state=47)\n",
    "base_model = DecisionTreeClassifier().fit(X_train,y_train)\n",
    "\n",
    "print('Train Accuracy:', accuracy_score(y_train, base_model.predict(X_train)))\n",
    "print('Train F1:', f1_score(y_train, base_model.predict(X_train)))\n",
    "print('Train Precision:', precision_score(y_train, base_model.predict(X_train)))\n",
    "print('Train Recall:', recall_score(y_train, base_model.predict(X_train)));print('')\n",
    "print('Test Accuracy:', accuracy_score(y_test, base_model.predict(X_test)))\n",
    "print('Test F1:', f1_score(y_test, base_model.predict(X_test)))\n",
    "print('Test Precision:', precision_score(y_test, base_model.predict(X_test)))\n",
    "print('Test Recall:', recall_score(y_test, base_model.predict(X_test)))"
   ]
  },
  {
   "cell_type": "code",
   "execution_count": 67,
   "metadata": {},
   "outputs": [
    {
     "data": {
      "text/plain": [
       "<matplotlib.axes._subplots.AxesSubplot at 0x13c69538198>"
      ]
     },
     "execution_count": 67,
     "metadata": {},
     "output_type": "execute_result"
    },
    {
     "data": {
      "image/png": "[encoded data removed]",
      "text/plain": [
       "<Figure size 432x288 with 2 Axes>"
      ]
     },
     "metadata": {
      "needs_background": "light"
     },
     "output_type": "display_data"
    }
   ],
   "source": [
    "import seaborn as sns\n",
    "sns.heatmap(confusion_matrix(y_test, base_model.predict(X_test)),annot=True)"
   ]
  },
  {
   "cell_type": "code",
   "execution_count": 79,
   "metadata": {},
   "outputs": [
    {
     "name": "stdout",
     "output_type": "stream",
     "text": [
      "Fitting 5 folds for each of 216 candidates, totalling 1080 fits\n"
     ]
    },
    {
     "name": "stderr",
     "output_type": "stream",
     "text": [
      "[Parallel(n_jobs=1)]: Using backend SequentialBackend with 1 concurrent workers.\n",
      "[Parallel(n_jobs=1)]: Done 1080 out of 1080 | elapsed:    7.1s finished\n"
     ]
    },
    {
     "data": {
      "text/plain": [
       "GridSearchCV(cv=None, error_score=nan,\n",
       "             estimator=DecisionTreeClassifier(ccp_alpha=0.0, class_weight=None,\n",
       "                                              criterion='gini', max_depth=None,\n",
       "                                              max_features=None,\n",
       "                                              max_leaf_nodes=None,\n",
       "                                              min_impurity_decrease=0.0,\n",
       "                                              min_impurity_split=None,\n",
       "                                              min_samples_leaf=1,\n",
       "                                              min_samples_split=2,\n",
       "                                              min_weight_fraction_leaf=0.0,\n",
       "                                              presort='deprecated',\n",
       "                                              random_state=None,\n",
       "                                              splitter='best'),\n",
       "             iid='deprecated', n_jobs=None,\n",
       "             param_grid={'max_depth': [5, 10, 20],\n",
       "                         'max_features': ['auto', None],\n",
       "                         'max_leaf_nodes': [2, 3, None],\n",
       "                         'min_impurity_decrease': [0, 0.5, 0.75],\n",
       "                         'min_samples_split': [0.5, 1.0, 2, 3]},\n",
       "             pre_dispatch='2*n_jobs', refit=True, return_train_score=False,\n",
       "             scoring='accuracy', verbose=1)"
      ]
     },
     "execution_count": 79,
     "metadata": {},
     "output_type": "execute_result"
    }
   ],
   "source": [
    "params = {'max_depth':[5,10,20], \n",
    "              'min_samples_split':[0.5,1.0,2,3],\n",
    "              'max_features':['auto',None],\n",
    "              'min_impurity_decrease':[0,0.5,0.75],\n",
    "              'max_leaf_nodes':[2,3,None]\n",
    "             }\n",
    "dtc = DecisionTreeClassifier()\n",
    "grid_search_model = GridSearchCV(dtc, params,scoring='accuracy', verbose=1)\n",
    "grid_search_model.fit(X_train, y_train)"
   ]
  },
  {
   "cell_type": "code",
   "execution_count": 80,
   "metadata": {},
   "outputs": [
    {
     "name": "stdout",
     "output_type": "stream",
     "text": [
      "Train Accuracy: 1.0\n",
      "Train F1: 1.0\n",
      "Train Precision: 1.0\n",
      "Train Recall: 1.0\n",
      "\n",
      "Test Accuracy: 0.72\n",
      "Test F1: 0.7341772151898734\n",
      "Test Precision: 0.7733333333333333\n",
      "Test Recall: 0.6987951807228916\n"
     ]
    }
   ],
   "source": [
    "best_model = grid_search_model.best_estimator_\n",
    "print('Train Accuracy:', accuracy_score(y_train, best_model.predict(X_train)))\n",
    "print('Train F1:', f1_score(y_train, best_model.predict(X_train)))\n",
    "print('Train Precision:', precision_score(y_train, best_model.predict(X_train)))\n",
    "print('Train Recall:', recall_score(y_train, best_model.predict(X_train)));print('')\n",
    "print('Test Accuracy:', accuracy_score(y_test, best_model.predict(X_test)))\n",
    "print('Test F1:', f1_score(y_test, best_model.predict(X_test)))\n",
    "print('Test Precision:', precision_score(y_test, best_model.predict(X_test)))\n",
    "print('Test Recall:', recall_score(y_test, best_model.predict(X_test)))"
   ]
  },
  {
   "cell_type": "code",
   "execution_count": 81,
   "metadata": {},
   "outputs": [
    {
     "data": {
      "text/plain": [
       "<matplotlib.axes._subplots.AxesSubplot at 0x13c67fe70f0>"
      ]
     },
     "execution_count": 81,
     "metadata": {},
     "output_type": "execute_result"
    },
    {
     "data": {
      "image/png": "[encoded data removed]",
      "text/plain": [
       "<Figure size 432x288 with 2 Axes>"
      ]
     },
     "metadata": {
      "needs_background": "light"
     },
     "output_type": "display_data"
    }
   ],
   "source": [
    "sns.heatmap(confusion_matrix(y_test, best_model.predict(X_test)),annot=True)"
   ]
  },
  {
   "cell_type": "code",
   "execution_count": null,
   "metadata": {},
   "outputs": [],
   "source": []
  }
 ],
 "metadata": {
  "celltoolbar": "Slideshow",
  "kernelspec": {
   "display_name": "Python 3",
   "language": "python",
   "name": "python3"
  },
  "language_info": {
   "codemirror_mode": {
    "name": "ipython",
    "version": 3
   },
   "file_extension": ".py",
   "mimetype": "text/x-python",
   "name": "python",
   "nbconvert_exporter": "python",
   "pygments_lexer": "ipython3",
   "version": "3.5.6"
  }
 },
 "nbformat": 4,
 "nbformat_minor": 2
}
