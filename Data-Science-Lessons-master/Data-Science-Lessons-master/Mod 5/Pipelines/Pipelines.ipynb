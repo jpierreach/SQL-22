{
 "cells": [
  {
   "cell_type": "markdown",
   "metadata": {
    "slideshow": {
     "slide_type": "slide"
    }
   },
   "source": [
    "# <center> Pipelines"
   ]
  },
  {
   "cell_type": "code",
   "execution_count": null,
   "metadata": {
    "slideshow": {
     "slide_type": "slide"
    }
   },
   "outputs": [],
   "source": [
    "from sklearn.pipeline import Pipeline"
   ]
  },
  {
   "cell_type": "code",
   "execution_count": null,
   "metadata": {
    "slideshow": {
     "slide_type": "slide"
    }
   },
   "outputs": [],
   "source": [
    "from sklearn.datasets import load_iris\n",
    "from sklearn.model_selection import train_test_split\n",
    "from sklearn.preprocessing import StandardScaler\n",
    "from sklearn.decomposition import PCA\n",
    "from sklearn.externals import joblib\n",
    "from sklearn.linear_model import LogisticRegression\n",
    "from sklearn.svm import SVC\n",
    "from sklearn.tree import DecisionTreeClassifier\n",
    "from sklearn.model_selection import GridSearchCV\n",
    "import pandas as pd"
   ]
  },
  {
   "cell_type": "code",
   "execution_count": null,
   "metadata": {
    "slideshow": {
     "slide_type": "slide"
    }
   },
   "outputs": [],
   "source": [
    "## load data\n",
    "iris = load_iris()\n",
    "X = iris.data\n",
    "y = iris.target\n",
    "df = pd.DataFrame(X, columns=iris.feature_names)\n",
    "df['iris'] = y\n",
    "df.head()"
   ]
  },
  {
   "cell_type": "code",
   "execution_count": null,
   "metadata": {
    "slideshow": {
     "slide_type": "slide"
    }
   },
   "outputs": [],
   "source": [
    "## train-test split\n",
    "X_train, X_test, y_train, y_test = train_test_split(X, y, test_size=0.2, random_state=42)"
   ]
  },
  {
   "cell_type": "code",
   "execution_count": null,
   "metadata": {
    "slideshow": {
     "slide_type": "slide"
    }
   },
   "outputs": [],
   "source": [
    "## create list of classifiers\n",
    "random_state = 4\n",
    "classifiers = [LogisticRegression(random_state=random_state), \n",
    "               SVC(random_state=random_state), \n",
    "               DecisionTreeClassifier(random_state=random_state)]"
   ]
  },
  {
   "cell_type": "code",
   "execution_count": null,
   "metadata": {},
   "outputs": [],
   "source": [
    "## create list of params for grid search\n",
    "params = [\n",
    "    {'clf__C':[0.25, 0.50, 0.75, 1.0]}, ## Logistic Regression\n",
    "    \n",
    "    {'clf__kernel': ['poly', 'sigmoid'], ## SVM\n",
    "     'clf__C': [0.01, 1, 100],\n",
    "     'clf__degree': [2,3,4,5],\n",
    "     'clf__gamma': [0.001, 0.01]},\n",
    "    \n",
    "    {'clf__criterion':['gini','entropy'],\n",
    "     'clf__max_depth':[1,2,3,4],\n",
    "     'clf__min_impurity_decrease':[0, 0.25, 0.50, 0.75]}\n",
    "]"
   ]
  },
  {
   "cell_type": "code",
   "execution_count": null,
   "metadata": {
    "slideshow": {
     "slide_type": "slide"
    }
   },
   "outputs": [],
   "source": [
    "## build pipeline for each classifier\n",
    "pipelines = []\n",
    "best_clfs = []\n",
    "for clf,param in zip(classifiers,params):\n",
    "    pipe = Pipeline([('scl', StandardScaler()),\n",
    "                     ('pca', PCA(n_components=2)),\n",
    "                     ('clf', clf)])\n",
    "    gs = GridSearchCV(estimator=pipe,\n",
    "                  param_grid=param,\n",
    "                  scoring='accuracy',\n",
    "                  cv=3)\n",
    "    gs.fit(X_train, y_train)\n",
    "    best_clfs.append(gs.best_estimator_)\n",
    "    pipelines.append(pipe)  \n",
    "    print(clf.__class__.__name__)\n",
    "    print('Best params:', gs.best_params_)\n",
    "    print('Train Accuracy:',gs.best_estimator_.score(X_train, y_train))\n",
    "    print('Test Accuracy:',gs.best_estimator_.score(X_test, y_test))\n",
    "    print('')"
   ]
  },
  {
   "cell_type": "markdown",
   "metadata": {
    "slideshow": {
     "slide_type": "slide"
    }
   },
   "source": [
    "# <center> Activity"
   ]
  },
  {
   "cell_type": "code",
   "execution_count": null,
   "metadata": {
    "slideshow": {
     "slide_type": "slide"
    }
   },
   "outputs": [],
   "source": [
    "from sklearn.datasets import make_classification\n",
    "X,y = make_classification(n_classes=5, n_clusters_per_class=3, class_sep=0.5, n_features=5000,n_samples=11000, n_informative=5000, n_redundant=0, random_state=4, scale=None)"
   ]
  },
  {
   "cell_type": "code",
   "execution_count": null,
   "metadata": {},
   "outputs": [],
   "source": []
  }
 ],
 "metadata": {
  "celltoolbar": "Slideshow",
  "kernelspec": {
   "display_name": "Python 3",
   "language": "python",
   "name": "python3"
  },
  "language_info": {
   "codemirror_mode": {
    "name": "ipython",
    "version": 3
   },
   "file_extension": ".py",
   "mimetype": "text/x-python",
   "name": "python",
   "nbconvert_exporter": "python",
   "pygments_lexer": "ipython3",
   "version": "3.5.6"
  }
 },
 "nbformat": 4,
 "nbformat_minor": 2
}
