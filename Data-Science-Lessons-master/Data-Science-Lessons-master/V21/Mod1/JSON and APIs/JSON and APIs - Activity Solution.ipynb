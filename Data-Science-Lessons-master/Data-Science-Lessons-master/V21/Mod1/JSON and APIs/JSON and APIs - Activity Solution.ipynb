{
 "cells": [
  {
   "cell_type": "markdown",
   "metadata": {
    "slideshow": {
     "slide_type": "slide"
    }
   },
   "source": [
    "## <center> Activity"
   ]
  },
  {
   "cell_type": "markdown",
   "metadata": {
    "slideshow": {
     "slide_type": "slide"
    }
   },
   "source": [
    "Now you're all set! Here is the challenge...\n",
    "\n",
    "Using https://docs.genius.com/ as reference, answer the following questions about a given song ID:\n",
    "\n",
    "    What song is this?\n",
    "    Who is it by?\n",
    "    What is the artist's Instagram handle?\n",
    "    What are the song's lyrics?\n",
    "\n",
    "Song Id: 5603\n"
   ]
  },
  {
   "cell_type": "code",
   "execution_count": 1,
   "metadata": {},
   "outputs": [],
   "source": [
    "## set up base url, token, and headers\n",
    "import requests\n",
    "base_url = 'https://api.genius.com'\n",
    "token = '5ez0NXzLx52NnoSO8NizcwZvQL85hZ2Dl2iFEkNv_Cltwfsw4CDYRNyQD6kQtIo0'\n",
    "headers = {'Authorization':'Bearer ' + token}"
   ]
  },
  {
   "cell_type": "code",
   "execution_count": 2,
   "metadata": {},
   "outputs": [],
   "source": [
    "## make request\n",
    "songs_url = base_url + '/songs/' + '5603'\n",
    "response = requests.get(songs_url, headers=headers)"
   ]
  },
  {
   "cell_type": "code",
   "execution_count": 3,
   "metadata": {},
   "outputs": [
    {
     "data": {
      "text/plain": [
       "dict_keys(['meta', 'response'])"
      ]
     },
     "execution_count": 3,
     "metadata": {},
     "output_type": "execute_result"
    }
   ],
   "source": [
    "## explore reponse\n",
    "json = response.json()\n",
    "json.keys()"
   ]
  },
  {
   "cell_type": "code",
   "execution_count": 5,
   "metadata": {},
   "outputs": [
    {
     "data": {
      "text/plain": [
       "dict_keys(['song'])"
      ]
     },
     "execution_count": 5,
     "metadata": {},
     "output_type": "execute_result"
    }
   ],
   "source": [
    "json['response'].keys()"
   ]
  },
  {
   "cell_type": "code",
   "execution_count": 6,
   "metadata": {},
   "outputs": [
    {
     "data": {
      "text/plain": [
       "dict_keys(['lyrics_owner_id', 'recording_location', 'featured_artists', 'featured_video', 'current_user_metadata', 'primary_artist', 'verified_lyrics_by', 'release_date_for_display', 'description', 'embed_content', 'writer_artists', 'title', 'verified_annotations_by', 'custom_performances', 'song_art_image_url', 'header_image_thumbnail_url', 'id', 'path', 'producer_artists', 'full_title', 'apple_music_player_url', 'release_date', 'pyongs_count', 'media', 'api_path', 'song_relationships', 'lyrics_marked_complete_by', 'stats', 'description_annotation', 'apple_music_id', 'annotation_count', 'url', 'title_with_featured', 'lyrics_state', 'verified_contributors', 'album', 'header_image_url', 'song_art_image_thumbnail_url'])"
      ]
     },
     "execution_count": 6,
     "metadata": {},
     "output_type": "execute_result"
    }
   ],
   "source": [
    "json['response']['song'].keys()"
   ]
  },
  {
   "cell_type": "code",
   "execution_count": 13,
   "metadata": {},
   "outputs": [
    {
     "name": "stdout",
     "output_type": "stream",
     "text": [
      "Song title: Friday\n",
      "Artist name: Rebecca Black\n"
     ]
    }
   ],
   "source": [
    "## first two answers\n",
    "print('Song title:',json['response']['song']['title'])\n",
    "print('Artist name:',json['response']['song']['primary_artist']['name'])"
   ]
  },
  {
   "cell_type": "code",
   "execution_count": 17,
   "metadata": {},
   "outputs": [
    {
     "name": "stdout",
     "output_type": "stream",
     "text": [
      "Instagram handle: msrebeccablack\n"
     ]
    }
   ],
   "source": [
    "## for the instagram handle we have to make a request to the artists endpoint\n",
    "artist_id = json['response']['song']['primary_artist']['id']\n",
    "artists_url = base_url + '/artists/' + str(artist_id)\n",
    "response = requests.get(artists_url, headers=headers)\n",
    "artist_json = response.json()\n",
    "print('Instagram handle:', artist_json['response']['artist']['instagram_name'])"
   ]
  },
  {
   "cell_type": "code",
   "execution_count": 18,
   "metadata": {},
   "outputs": [
    {
     "name": "stdout",
     "output_type": "stream",
     "text": [
      "Lyrics URL: https://genius.com/Rebecca-black-friday-lyrics\n"
     ]
    }
   ],
   "source": [
    "## the lyrics URL comes from the songs endpoint \n",
    "lyrics_url = json['response']['song']['url']\n",
    "print('Lyrics URL:', lyrics_url)"
   ]
  },
  {
   "cell_type": "code",
   "execution_count": 22,
   "metadata": {},
   "outputs": [],
   "source": [
    "## note: add the 'split('\\n')' to the returned lyrics for better formatting\n",
    "from bs4 import BeautifulSoup\n",
    "def scrape_song_url(url):\n",
    "    page = requests.get(url)\n",
    "    html = BeautifulSoup(page.text, 'html.parser')\n",
    "    lyrics = html.find('div', class_='lyrics').get_text()\n",
    "    return lyrics.split('\\n')"
   ]
  },
  {
   "cell_type": "code",
   "execution_count": 23,
   "metadata": {},
   "outputs": [
    {
     "data": {
      "text/plain": [
       "['',\n",
       " '',\n",
       " '[Intro]',\n",
       " 'Ooh-ooh, ooh-yeah yeah, yeah yeah',\n",
       " 'Yeah, yeah, yeah, yeah yeah yeah',\n",
       " '',\n",
       " '[Verse 1]',\n",
       " '7 AM, waking up in the morning',\n",
       " 'Gotta be fresh, gotta go downstairs',\n",
       " 'Gotta have my bowl, gotta have cereal (Cereal)',\n",
       " \"Seein' everything, the time is goin'\",\n",
       " \"Tickin' on and on, everybody's rushin' (Tickin' on and on)\",\n",
       " 'Gotta get down to the bus stop',\n",
       " 'Gotta catch my bus, I see my friends (My friends)',\n",
       " '',\n",
       " '[Pre-Chorus]',\n",
       " \"Kickin' in the front seat\",\n",
       " \"Sittin' in the back seat\",\n",
       " 'Gotta make my mind up',\n",
       " 'Which seat can I take?',\n",
       " '',\n",
       " '[Chorus]',\n",
       " \"It's Friday, Friday\",\n",
       " 'Gotta get down on Friday',\n",
       " \"Everybody's lookin' forward to the weekend, weekend\",\n",
       " 'Friday, Friday',\n",
       " \"Gettin' down on Friday\",\n",
       " \"Everybody's lookin' forward to the weekend\",\n",
       " '',\n",
       " '[Post-Chorus]',\n",
       " \"Partyin', partyin' (Yeah)\",\n",
       " \"Partyin', partyin' (Yeah)\",\n",
       " 'Fun, fun, fun, fun',\n",
       " \"Lookin' forward to the weekend\",\n",
       " '',\n",
       " '[Verse 2]',\n",
       " \"7:45, we're drivin' on the highway\",\n",
       " \"Cruisin' so fast, I want time to fly\",\n",
       " 'Fun, fun, think about fun',\n",
       " 'You know what it is',\n",
       " 'I got this, you got this (I got this)',\n",
       " 'My friend is by my right, ey',\n",
       " 'I got this, you got this',\n",
       " 'Now you know it',\n",
       " '',\n",
       " '[Pre-Chorus]',\n",
       " \"Kickin' in the front seat\",\n",
       " \"Sittin' in the back seat (Sittin' in the back seat)\",\n",
       " 'Gotta make my mind up (Mind up)',\n",
       " 'Which seat can I take?',\n",
       " '',\n",
       " '[Chorus]',\n",
       " \"It's Friday, Friday\",\n",
       " 'Gotta get down on Friday',\n",
       " \"Everybody’s lookin' forward to the weekend, weekend\",\n",
       " 'Friday, Friday',\n",
       " \"Gettin' down on Friday\",\n",
       " \"Everybody's lookin' forward to the weekend (To the weekend)\",\n",
       " '',\n",
       " '[Post-Chorus]',\n",
       " \"Partyin', partyin' (Yeah)\",\n",
       " \"Partyin', partyin' (Yeah)\",\n",
       " 'Fun, fun, fun, fun',\n",
       " \"Lookin' forward to the weekend\",\n",
       " '',\n",
       " '[Bridge]',\n",
       " 'Yesterday was Thursday, Thursday',\n",
       " \"Today it is Friday, Friday (Partyin')\",\n",
       " \"We, we, we so excited, we so excited (Partyin')\",\n",
       " 'We gonna have a ball today',\n",
       " 'Tomorrow is Saturday and Sunday comes afterwards',\n",
       " \"I don't want this weekend to end!\",\n",
       " '',\n",
       " '[Chorus]',\n",
       " \"It's Friday, Friday\",\n",
       " 'Gotta get down on Friday',\n",
       " \"Everybody’s lookin' forward to the weekend, weekend\",\n",
       " '(We gonna get down)',\n",
       " 'Friday, Friday',\n",
       " \"Gettin' down on Friday\",\n",
       " \"Everybody's lookin' forward to the weekend (On Friday)\",\n",
       " '',\n",
       " '[Post-Chorus]',\n",
       " \"Partyin', partyin' (Yeah)\",\n",
       " \"Partyin', partyin' (Yeah)\",\n",
       " 'Fun, fun, fun, fun',\n",
       " \"Lookin' forward to the weekend (Yeah)\",\n",
       " '',\n",
       " '[Chorus]',\n",
       " \"It's Friday, Friday\",\n",
       " 'Gotta get down on Friday (its friday)',\n",
       " \"Everybody’s lookin' forward to the weekend, weekend (ooh)\",\n",
       " 'Friday, Friday',\n",
       " \"Gettin' down on Friday (Friday)\",\n",
       " \"Everybody's lookin' forward to the weekend\",\n",
       " '',\n",
       " '[Post-Chorus]',\n",
       " \"Partyin', partyin' (Yeah)\",\n",
       " \"Partyin', partyin' (Yeah)\",\n",
       " 'Fun, fun, fun, fun',\n",
       " \"Lookin' forward to the weekend\",\n",
       " '',\n",
       " '']"
      ]
     },
     "execution_count": 23,
     "metadata": {},
     "output_type": "execute_result"
    }
   ],
   "source": [
    "## scraping the lyrics\n",
    "scrape_song_url(lyrics_url)"
   ]
  }
 ],
 "metadata": {
  "celltoolbar": "Slideshow",
  "kernelspec": {
   "display_name": "Python 3",
   "language": "python",
   "name": "python3"
  },
  "language_info": {
   "codemirror_mode": {
    "name": "ipython",
    "version": 3
   },
   "file_extension": ".py",
   "mimetype": "text/x-python",
   "name": "python",
   "nbconvert_exporter": "python",
   "pygments_lexer": "ipython3",
   "version": "3.5.6"
  }
 },
 "nbformat": 4,
 "nbformat_minor": 2
}
