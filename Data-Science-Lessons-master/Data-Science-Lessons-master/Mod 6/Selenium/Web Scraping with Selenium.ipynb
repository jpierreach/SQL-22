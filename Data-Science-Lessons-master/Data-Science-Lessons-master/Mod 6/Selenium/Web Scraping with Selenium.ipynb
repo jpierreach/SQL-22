{
 "cells": [
  {
   "cell_type": "markdown",
   "metadata": {},
   "source": [
    "pip install selenium"
   ]
  },
  {
   "cell_type": "code",
   "execution_count": 1,
   "metadata": {},
   "outputs": [],
   "source": [
    "from selenium import webdriver\n",
    "from selenium.webdriver.common.keys import Keys"
   ]
  },
  {
   "cell_type": "code",
   "execution_count": 2,
   "metadata": {},
   "outputs": [],
   "source": [
    "driver = webdriver.Firefox()"
   ]
  },
  {
   "cell_type": "code",
   "execution_count": 3,
   "metadata": {},
   "outputs": [],
   "source": [
    "driver.get(\"https://www.google.com\")"
   ]
  },
  {
   "cell_type": "code",
   "execution_count": 5,
   "metadata": {},
   "outputs": [],
   "source": [
    "search_box = driver.find_element_by_name(name=\"q\")"
   ]
  },
  {
   "cell_type": "code",
   "execution_count": 22,
   "metadata": {},
   "outputs": [],
   "source": [
    "search_box.send_keys(\"puppies\")"
   ]
  },
  {
   "cell_type": "code",
   "execution_count": 41,
   "metadata": {},
   "outputs": [],
   "source": [
    "search_button = driver.find_element_by_xpath('//input[@aria-label='+ '\"Google Search\"' + ']')"
   ]
  },
  {
   "cell_type": "code",
   "execution_count": 42,
   "metadata": {},
   "outputs": [],
   "source": [
    "search_button.click()"
   ]
  },
  {
   "cell_type": "code",
   "execution_count": null,
   "metadata": {},
   "outputs": [],
   "source": []
  },
  {
   "cell_type": "code",
   "execution_count": null,
   "metadata": {},
   "outputs": [],
   "source": []
  },
  {
   "cell_type": "code",
   "execution_count": 7,
   "metadata": {},
   "outputs": [],
   "source": [
    "driver.get(\"https://angel.co/login\")\n",
    "\n",
    "user_name_element = driver.find_element_by_xpath('//input[@id=\"user_email\"]')\n",
    "password_element = driver.find_element_by_xpath('//input[@id=\"user_password\"]')\n",
    "\n",
    "user_name_element.send_keys(\"gunshipwebdesign@gmail.com\")\n",
    "password_element.send_keys(\"fakePassword!\")\n",
    "\n",
    "login_button = driver.find_element_by_xpath('//input[@value=\"Log In\"]')\n",
    "login_button.click()"
   ]
  },
  {
   "cell_type": "code",
   "execution_count": 11,
   "metadata": {},
   "outputs": [],
   "source": [
    "companies = driver.find_element_by_xpath('//a[@href=\"/companies\"]')\n",
    "driver.get(companies.get_attribute(name=\"href\"))"
   ]
  },
  {
   "cell_type": "code",
   "execution_count": 24,
   "metadata": {},
   "outputs": [],
   "source": [
    "search_box = driver.find_element_by_xpath('//div[@class=\"search-box\"]')\n",
    "search_box.click()\n",
    "search = driver.find_element_by_xpath('//input[@placeholder=\"Enter a keyword\"]')\n",
    "search.send_keys(\"Video games\")\n",
    "search.send_keys(Keys.ENTER)"
   ]
  },
  {
   "cell_type": "code",
   "execution_count": 25,
   "metadata": {},
   "outputs": [
    {
     "data": {
      "text/plain": [
       "['https://angel.co/company/chartboost',\n",
       " 'https://angel.co/company/chartboost',\n",
       " 'https://angel.co/company/stream-labs',\n",
       " 'https://angel.co/company/stream-labs',\n",
       " 'https://angel.co/company/a-bit-lucky',\n",
       " 'https://angel.co/company/a-bit-lucky',\n",
       " 'https://angel.co/company/brass-monkey',\n",
       " 'https://angel.co/company/brass-monkey',\n",
       " 'https://angel.co/company/yousician',\n",
       " 'https://angel.co/company/yousician',\n",
       " 'https://angel.co/company/romotive-1',\n",
       " 'https://angel.co/company/romotive-1',\n",
       " 'https://angel.co/company/microsoft',\n",
       " 'https://angel.co/company/microsoft',\n",
       " 'https://angel.co/company/motionbox',\n",
       " 'https://angel.co/company/motionbox',\n",
       " 'https://angel.co/company/unity-technologies',\n",
       " 'https://angel.co/company/unity-technologies',\n",
       " 'https://angel.co/company/london-venture-partners',\n",
       " 'https://angel.co/company/london-venture-partners',\n",
       " 'https://angel.co/company/applifier',\n",
       " 'https://angel.co/company/applifier',\n",
       " 'https://angel.co/company/simraceway-online-racing-world',\n",
       " 'https://angel.co/company/simraceway-online-racing-world',\n",
       " 'https://angel.co/company/mobilitec',\n",
       " 'https://angel.co/company/mobilitec',\n",
       " 'https://angel.co/company/plyfe',\n",
       " 'https://angel.co/company/plyfe',\n",
       " 'https://angel.co/company/discord',\n",
       " 'https://angel.co/company/discord',\n",
       " 'https://angel.co/company/midverse-studios',\n",
       " 'https://angel.co/company/midverse-studios',\n",
       " 'https://angel.co/company/ouya',\n",
       " 'https://angel.co/company/ouya',\n",
       " 'https://angel.co/company/codecombat',\n",
       " 'https://angel.co/company/codecombat',\n",
       " 'https://angel.co/company/joinhouseparty',\n",
       " 'https://angel.co/company/joinhouseparty',\n",
       " 'https://angel.co/company/subdream-studios',\n",
       " 'https://angel.co/company/subdream-studios',\n",
       " 'https://angel.co/company/subdream-studios',\n",
       " 'https://angel.co/company/midverse-studios',\n",
       " 'https://angel.co/company/chartboost']"
      ]
     },
     "execution_count": 25,
     "metadata": {},
     "output_type": "execute_result"
    }
   ],
   "source": [
    "company_elements = driver.find_elements_by_xpath('//a[@class=\"startup-link\"]')\n",
    "company_links = []\n",
    "for company in company_elements:\n",
    "    company_links.append(company.get_attribute(name=\"href\"))\n",
    "company_links"
   ]
  },
  {
   "cell_type": "code",
   "execution_count": 26,
   "metadata": {},
   "outputs": [
    {
     "data": {
      "text/plain": [
       "['https://angel.co/company/chartboost',\n",
       " 'https://angel.co/company/stream-labs',\n",
       " 'https://angel.co/company/a-bit-lucky',\n",
       " 'https://angel.co/company/brass-monkey',\n",
       " 'https://angel.co/company/yousician',\n",
       " 'https://angel.co/company/romotive-1',\n",
       " 'https://angel.co/company/microsoft',\n",
       " 'https://angel.co/company/motionbox',\n",
       " 'https://angel.co/company/unity-technologies',\n",
       " 'https://angel.co/company/london-venture-partners',\n",
       " 'https://angel.co/company/applifier',\n",
       " 'https://angel.co/company/simraceway-online-racing-world',\n",
       " 'https://angel.co/company/mobilitec',\n",
       " 'https://angel.co/company/plyfe',\n",
       " 'https://angel.co/company/discord',\n",
       " 'https://angel.co/company/midverse-studios',\n",
       " 'https://angel.co/company/ouya',\n",
       " 'https://angel.co/company/codecombat',\n",
       " 'https://angel.co/company/joinhouseparty',\n",
       " 'https://angel.co/company/subdream-studios']"
      ]
     },
     "execution_count": 26,
     "metadata": {},
     "output_type": "execute_result"
    }
   ],
   "source": [
    "company_elements = driver.find_elements_by_xpath('//a[@class=\"startup-link\"]')\n",
    "company_links = []\n",
    "for company in company_elements:\n",
    "    if company.text != \"\":\n",
    "        company_links.append(company.get_attribute(name=\"href\"))\n",
    "company_links"
   ]
  },
  {
   "cell_type": "code",
   "execution_count": 29,
   "metadata": {},
   "outputs": [
    {
     "data": {
      "text/plain": [
       "['http://www.linkedin.com/in/marialegre',\n",
       " 'http://www.linkedin.com/in/fannan',\n",
       " 'http://www.linkedin.com/pub/murtaza-hussain/2/b59/437',\n",
       " 'https://www.linkedin.com/in/alimoiz',\n",
       " 'http://www.linkedin.com/pub/frederic-descamps/0/84/423',\n",
       " 'http://www.linkedin.com/in/rogersanford',\n",
       " 'http://www.linkedin.com/pub/chris-allen/4/492/277',\n",
       " 'http://www.linkedin.com/pub/dominick-accattato/4/ab/5',\n",
       " 'http://fi.linkedin.com/pub/mikko-kaipainen/33/99/56',\n",
       " 'http://fi.linkedin.com/in/christophthur%E2%80%8E',\n",
       " 'http://www.linkedin.com/in/adammenges',\n",
       " 'https://www.linkedin.com/in/ayushi-kapoor-119ab2129/',\n",
       " 'https://www.linkedin.com/in/antonio-sagansay-4a4a2569',\n",
       " 'https://www.linkedin.com/in/eddoranphd',\n",
       " 'http://www.linkedin.com/profile/view?id=1233163',\n",
       " 'http://www.linkedin.com/in/davidhelgason',\n",
       " 'http://www.linkedin.com/pub/david-gardner/2/566/739',\n",
       " 'http://www.linkedin.com/pub/david-lau-kee/20/b35/a74']"
      ]
     },
     "execution_count": 29,
     "metadata": {},
     "output_type": "execute_result"
    }
   ],
   "source": [
    "linked_in_urls = []\n",
    "for company_link in company_links[0:10]:\n",
    "    driver.get(company_link)\n",
    "    founder_elements = driver.find_elements_by_xpath('//h4[contains(@class, \"fontWeight_medium\")]//a[contains(@class,\"component\")]')\n",
    "    founder_links = []\n",
    "    for founder in founder_elements:\n",
    "        founder_links.append(founder.get_attribute(name=\"href\"))\n",
    "    for founder_link in founder_links:\n",
    "        driver.get(founder_link)\n",
    "        try:\n",
    "            linked_in_urls.append(driver.find_element_by_xpath('//a[@data-field=\"linkedin_url\"]').get_attribute(name=\"href\"))\n",
    "        except:\n",
    "            continue\n",
    "linked_in_urls"
   ]
  },
  {
   "cell_type": "code",
   "execution_count": null,
   "metadata": {},
   "outputs": [],
   "source": []
  }
 ],
 "metadata": {
  "kernelspec": {
   "display_name": "Python 3",
   "language": "python",
   "name": "python3"
  },
  "language_info": {
   "codemirror_mode": {
    "name": "ipython",
    "version": 3
   },
   "file_extension": ".py",
   "mimetype": "text/x-python",
   "name": "python",
   "nbconvert_exporter": "python",
   "pygments_lexer": "ipython3",
   "version": "3.5.6"
  }
 },
 "nbformat": 4,
 "nbformat_minor": 2
}
