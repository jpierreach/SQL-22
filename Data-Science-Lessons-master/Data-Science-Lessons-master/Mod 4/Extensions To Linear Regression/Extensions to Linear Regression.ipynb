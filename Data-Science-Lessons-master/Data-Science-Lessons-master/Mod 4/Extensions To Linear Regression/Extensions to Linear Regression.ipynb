{
 "cells": [
  {
   "cell_type": "markdown",
   "metadata": {
    "slideshow": {
     "slide_type": "slide"
    }
   },
   "source": [
    "# <center> Extensions to Linear Regression"
   ]
  },
  {
   "cell_type": "markdown",
   "metadata": {
    "slideshow": {
     "slide_type": "slide"
    }
   },
   "source": [
    "## Outcomes <br>\n",
    "- Understand the bias-variance tradeoff\n",
    "- Learn techniques to prevent overfitting\n",
    "- Utilize Ridge and Lasso regression\n",
    "- Understand and use AIC and BIC"
   ]
  },
  {
   "cell_type": "code",
   "execution_count": null,
   "metadata": {
    "slideshow": {
     "slide_type": "slide"
    }
   },
   "outputs": [],
   "source": [
    "import numpy as np\n",
    "np.set_printoptions(suppress=True)\n",
    "import pandas as pd\n",
    "import matplotlib.pyplot as plt\n",
    "import statsmodels.api as sm\n",
    "%matplotlib inline"
   ]
  },
  {
   "cell_type": "markdown",
   "metadata": {
    "slideshow": {
     "slide_type": "slide"
    }
   },
   "source": [
    "Generating random data"
   ]
  },
  {
   "cell_type": "code",
   "execution_count": null,
   "metadata": {
    "slideshow": {
     "slide_type": "fragment"
    }
   },
   "outputs": [],
   "source": [
    "X = np.array([np.random.randint(50,100) for i in range(100)])\n",
    "y = [50*(i-70)**2 + 2.75*i - 5 for i in X] ## quadratic formula\n",
    "y = [i*(1+0.2*np.random.normal()) for i in y]  ## adding random noise\n",
    "plt.scatter(X, y)"
   ]
  },
  {
   "cell_type": "markdown",
   "metadata": {
    "slideshow": {
     "slide_type": "slide"
    }
   },
   "source": [
    "Linear regression"
   ]
  },
  {
   "cell_type": "code",
   "execution_count": null,
   "metadata": {
    "slideshow": {
     "slide_type": "fragment"
    }
   },
   "outputs": [],
   "source": [
    "model = sm.OLS(y,sm.add_constant(X)).fit()\n",
    "model.summary()"
   ]
  },
  {
   "cell_type": "code",
   "execution_count": null,
   "metadata": {
    "slideshow": {
     "slide_type": "slide"
    }
   },
   "outputs": [],
   "source": [
    "plt.scatter(X, y)\n",
    "X_lin = np.linspace(50,100,100)\n",
    "plt.plot(X_lin, model.predict(sm.add_constant(X_lin)), color='orange')"
   ]
  },
  {
   "cell_type": "markdown",
   "metadata": {
    "slideshow": {
     "slide_type": "slide"
    }
   },
   "source": [
    "Creating a quadratic term"
   ]
  },
  {
   "cell_type": "code",
   "execution_count": null,
   "metadata": {
    "slideshow": {
     "slide_type": "fragment"
    }
   },
   "outputs": [],
   "source": [
    "X_squared = np.array(X)**2 ## square every term in X\n",
    "X_ = np.stack((X,X_squared), axis=1) ## combine linear and quadratic terms\n",
    "model = sm.OLS(y,sm.add_constant(X_)).fit() ## linear regression\n",
    "model.summary() "
   ]
  },
  {
   "cell_type": "code",
   "execution_count": null,
   "metadata": {
    "slideshow": {
     "slide_type": "slide"
    }
   },
   "outputs": [],
   "source": [
    "plt.scatter(X, y)\n",
    "X_lin = np.linspace(50,100,100)\n",
    "X_lin_ = np.stack((X_lin,X_lin**2), axis=1)\n",
    "plt.plot(X_lin, model.predict(sm.add_constant(X_lin_)), color='orange')"
   ]
  },
  {
   "cell_type": "markdown",
   "metadata": {
    "slideshow": {
     "slide_type": "slide"
    }
   },
   "source": [
    "## Polynomial regression"
   ]
  },
  {
   "cell_type": "code",
   "execution_count": null,
   "metadata": {
    "slideshow": {
     "slide_type": "fragment"
    }
   },
   "outputs": [],
   "source": [
    "X = np.array([np.random.randint(50,100) for i in range(25)])\n",
    "y = [(i-70)**4 - 25*(i-70)**3 - 50*(i-70)**2 + 2.75*i - 5 for i in X] ## polynomial equation\n",
    "y = np.array([i*(1+0.25*np.random.normal()) for i in y]) ## adding random noise\n",
    "plt.scatter(X, y)"
   ]
  },
  {
   "cell_type": "code",
   "execution_count": null,
   "metadata": {
    "slideshow": {
     "slide_type": "slide"
    }
   },
   "outputs": [],
   "source": [
    "## generates polynomial terms for a single feature\n",
    "def create_polynomials(data, order):\n",
    "    features = [data]\n",
    "    for i in range(2,order+1):\n",
    "        features.append(data**i)\n",
    "    return np.stack(features, axis=1)"
   ]
  },
  {
   "cell_type": "code",
   "execution_count": null,
   "metadata": {
    "slideshow": {
     "slide_type": "fragment"
    }
   },
   "outputs": [],
   "source": [
    "X_poly = create_polynomials(X, 3)\n",
    "X_poly"
   ]
  },
  {
   "cell_type": "markdown",
   "metadata": {
    "slideshow": {
     "slide_type": "slide"
    }
   },
   "source": [
    "Using sklearn linear regression"
   ]
  },
  {
   "cell_type": "code",
   "execution_count": null,
   "metadata": {
    "slideshow": {
     "slide_type": "fragment"
    }
   },
   "outputs": [],
   "source": [
    "from sklearn.linear_model import LinearRegression\n",
    "model = sm.OLS(y,sm.add_constant(X_poly)).fit() ## linear regression\n",
    "model.summary() "
   ]
  },
  {
   "cell_type": "code",
   "execution_count": null,
   "metadata": {
    "scrolled": true,
    "slideshow": {
     "slide_type": "slide"
    }
   },
   "outputs": [],
   "source": [
    "X_lin = np.linspace(50,100,100)\n",
    "X_lin_poly = create_polynomials(X_lin,3)\n",
    "plt.scatter(X,y)\n",
    "plt.plot(X_lin, model.predict(sm.add_constant(X_lin_poly)), color='orange')\n",
    "plt.legend(['True', 'Pred'])"
   ]
  },
  {
   "cell_type": "code",
   "execution_count": null,
   "metadata": {
    "scrolled": true,
    "slideshow": {
     "slide_type": "slide"
    }
   },
   "outputs": [],
   "source": [
    "models,r2_,mse_ = [],[],[]\n",
    "for i in range(1,21):\n",
    "    X_poly = create_polynomials(X, i) ## create polynomials\n",
    "    model = sm.OLS(y,sm.add_constant(X_poly)).fit(); models.append(model) ## build model\n",
    "    r2_.append(model.rsquared) ## calculate metrics\n",
    "    mse_.append(model.mse_model)"
   ]
  },
  {
   "cell_type": "code",
   "execution_count": null,
   "metadata": {
    "slideshow": {
     "slide_type": "slide"
    }
   },
   "outputs": [],
   "source": [
    "plt.bar([x for x in range(1,21)],r2_);plt.xticks([x for x in range(1,21)]);plt.xlabel('Order'); plt.ylabel('R2');plt.show();plt.bar([x for x in range(1,21)],mse_,color='red');plt.xticks([x for x in range(1,21)]);plt.xlabel('Order'); plt.ylabel('MSE')"
   ]
  },
  {
   "cell_type": "code",
   "execution_count": null,
   "metadata": {
    "slideshow": {
     "slide_type": "slide"
    }
   },
   "outputs": [],
   "source": [
    "for model,i in zip(models,[x for x in range(1,21)]):\n",
    "    plt.scatter(X,y) ## plot original data\n",
    "    X_lin = np.sort(X) ## plot predicted data\n",
    "    X_lin_poly = create_polynomials(X_lin,i)\n",
    "    plt.plot(X_lin, model.predict(sm.add_constant(X_lin_poly)), color='orange')\n",
    "    plt.legend(['True', 'Pred'])\n",
    "    plt.title(\"Order: \" + str(i))\n",
    "    plt.show()"
   ]
  },
  {
   "cell_type": "code",
   "execution_count": null,
   "metadata": {
    "slideshow": {
     "slide_type": "slide"
    }
   },
   "outputs": [],
   "source": [
    "## generating new data\n",
    "new_X  = np.array([np.random.randint(50,100) for i in range(10)])\n",
    "new_y = [(i-70)**4 - 25*(i-70)**3 - 50*(i-70)**2 + 2.75*i - 5 for i in new_X] ## polynomial equation\n",
    "new_y = np.array([i*(1+0.25*np.random.normal()) for i in new_y]) ## adding random noise"
   ]
  },
  {
   "cell_type": "code",
   "execution_count": null,
   "metadata": {
    "slideshow": {
     "slide_type": "fragment"
    }
   },
   "outputs": [],
   "source": [
    "from sklearn.metrics import mean_squared_error\n",
    "plt.scatter(new_X, new_y)\n",
    "model = sm.OLS(y,sm.add_constant(create_polynomials(X,21))).fit()\n",
    "plt.scatter(new_X, model.predict(sm.add_constant(create_polynomials(new_X, 21))))\n",
    "plt.legend([\"True\", \"Pred\"])\n",
    "print('MSE:', mean_squared_error(new_y, model.predict(sm.add_constant(create_polynomials(new_X, 21)))))"
   ]
  },
  {
   "cell_type": "markdown",
   "metadata": {
    "slideshow": {
     "slide_type": "slide"
    }
   },
   "source": [
    "## <center>Overfitting"
   ]
  },
  {
   "cell_type": "markdown",
   "metadata": {
    "slideshow": {
     "slide_type": "fragment"
    }
   },
   "source": [
    "<center><img src='overfitting.png'>"
   ]
  },
  {
   "cell_type": "code",
   "execution_count": null,
   "metadata": {
    "slideshow": {
     "slide_type": "slide"
    }
   },
   "outputs": [],
   "source": [
    "plt.scatter(new_X, new_y)\n",
    "model = sm.OLS(y,sm.add_constant(create_polynomials(X,4))).fit()\n",
    "plt.scatter(new_X, model.predict(sm.add_constant(create_polynomials(new_X, 4))))\n",
    "plt.legend([\"True\", \"Pred\"])\n",
    "print('MSE:', mean_squared_error(new_y, model.predict(sm.add_constant(create_polynomials(new_X, 4)))))"
   ]
  },
  {
   "cell_type": "markdown",
   "metadata": {
    "slideshow": {
     "slide_type": "slide"
    }
   },
   "source": [
    "## <center> Bias v.s. Variance\n",
    "<center><img src='bias_variance.png' height=800 width=800>"
   ]
  },
  {
   "cell_type": "markdown",
   "metadata": {
    "slideshow": {
     "slide_type": "slide"
    }
   },
   "source": [
    "## <center>Preventing Overfitting"
   ]
  },
  {
   "cell_type": "markdown",
   "metadata": {
    "slideshow": {
     "slide_type": "fragment"
    }
   },
   "source": [
    "- Train-test split\n",
    "- Cross-validation\n",
    "- Adjusted R-squard\n",
    "- AIC\n",
    "- BIC"
   ]
  },
  {
   "cell_type": "code",
   "execution_count": null,
   "metadata": {
    "slideshow": {
     "slide_type": "slide"
    }
   },
   "outputs": [],
   "source": [
    "from sklearn.model_selection import train_test_split\n",
    "from sklearn.datasets import make_friedman1\n",
    "from sklearn.preprocessing import StandardScaler"
   ]
  },
  {
   "cell_type": "code",
   "execution_count": null,
   "metadata": {
    "slideshow": {
     "slide_type": "fragment"
    }
   },
   "outputs": [],
   "source": [
    "X,y = make_friedman1(100,10,2,random_state=47)\n",
    "y = y - 20*(X[:,8]*X[:,9])\n",
    "scaler = StandardScaler()\n",
    "X = scaler.fit_transform(X)\n",
    "df=pd.DataFrame(X,columns=['X1','X2','X3','X4','X5','X6','X7','X8','X9','X10'])\n",
    "df['target']=y\n",
    "df.describe()"
   ]
  },
  {
   "cell_type": "code",
   "execution_count": null,
   "metadata": {
    "slideshow": {
     "slide_type": "fragment"
    }
   },
   "outputs": [],
   "source": [
    "X_train, X_test, y_train, y_test = train_test_split(X,y,test_size=0.25,random_state=47)"
   ]
  },
  {
   "cell_type": "code",
   "execution_count": null,
   "metadata": {
    "slideshow": {
     "slide_type": "slide"
    }
   },
   "outputs": [],
   "source": [
    "model_base = sm.OLS(y_train,sm.add_constant(X_train)).fit()\n",
    "y_pred_base = model_base.predict(sm.add_constant(X_train))\n",
    "y_pred_base_test = model_base.predict(sm.add_constant(X_test))\n",
    "print('Train MSE:', mean_squared_error(y_train,y_pred_base))\n",
    "print('Test MSE:', mean_squared_error(y_test,y_pred_base_test))"
   ]
  },
  {
   "cell_type": "code",
   "execution_count": null,
   "metadata": {
    "scrolled": true,
    "slideshow": {
     "slide_type": "slide"
    }
   },
   "outputs": [],
   "source": [
    "## adding interaction terms\n",
    "from sklearn.preprocessing import PolynomialFeatures\n",
    "X_train_interactions = PolynomialFeatures(interaction_only=True, include_bias=False).fit_transform(X_train)\n",
    "X_test_interactions = PolynomialFeatures(interaction_only=True, include_bias=False).fit_transform(X_test)\n",
    "X_train_interactions[0]"
   ]
  },
  {
   "cell_type": "code",
   "execution_count": null,
   "metadata": {
    "scrolled": true,
    "slideshow": {
     "slide_type": "fragment"
    }
   },
   "outputs": [],
   "source": [
    "model_interactions = sm.OLS(y_train,sm.add_constant(X_train_interactions)).fit()\n",
    "y_pred_interactions = model_interactions.predict(sm.add_constant(X_train_interactions))\n",
    "y_pred_interactions_test = model_interactions.predict(sm.add_constant(X_test_interactions))\n",
    "print('Train MSE:', mean_squared_error(y_train,y_pred_interactions))\n",
    "print('Test MSE:', mean_squared_error(y_test,y_pred_interactions_test))"
   ]
  },
  {
   "cell_type": "markdown",
   "metadata": {
    "slideshow": {
     "slide_type": "fragment"
    }
   },
   "source": [
    "<center>Lower training error, but overfitted"
   ]
  },
  {
   "cell_type": "markdown",
   "metadata": {
    "slideshow": {
     "slide_type": "slide"
    }
   },
   "source": [
    "## <center> AIC and BIC"
   ]
  },
  {
   "cell_type": "markdown",
   "metadata": {
    "slideshow": {
     "slide_type": "fragment"
    }
   },
   "source": [
    "<center>Metrics that seek to maximize model accuracy and minimize model complexity."
   ]
  },
  {
   "cell_type": "markdown",
   "metadata": {
    "slideshow": {
     "slide_type": "fragment"
    }
   },
   "source": [
    "<center> Tell you how good your model is at representing the true reality of the data (out of sample)"
   ]
  },
  {
   "cell_type": "markdown",
   "metadata": {
    "slideshow": {
     "slide_type": "fragment"
    }
   },
   "source": [
    "<center> Used to compare model performance"
   ]
  },
  {
   "cell_type": "markdown",
   "metadata": {
    "slideshow": {
     "slide_type": "fragment"
    }
   },
   "source": [
    "<center>AIC is optimal when the true model is unknown and not one of candidate models <br>\n",
    "BIC is optimal when the true model is one of candidate models"
   ]
  },
  {
   "cell_type": "code",
   "execution_count": null,
   "metadata": {
    "slideshow": {
     "slide_type": "slide"
    }
   },
   "outputs": [],
   "source": [
    "X_interactions = PolynomialFeatures(interaction_only=True, include_bias=False).fit_transform(X)\n",
    "all_interactions_model = sm.OLS(y,sm.add_constant(X_interactions)).fit()\n",
    "y_pred = all_interactions_model.predict(sm.add_constant(X_interactions))\n",
    "print('R2-adj:',all_interactions_model.rsquared_adj)\n",
    "print('AIC:', all_interactions_model.aic)\n",
    "print('BIC:', all_interactions_model.bic)"
   ]
  },
  {
   "cell_type": "markdown",
   "metadata": {
    "slideshow": {
     "slide_type": "slide"
    }
   },
   "source": [
    "### <center> Recursive Feature Elimination"
   ]
  },
  {
   "cell_type": "code",
   "execution_count": null,
   "metadata": {
    "slideshow": {
     "slide_type": "fragment"
    }
   },
   "outputs": [],
   "source": [
    "from sklearn.feature_selection import RFE\n",
    "i_,r2_adj_, aic_, bic_ = [],[],[],[]\n",
    "aic_2 = []\n",
    "for i in range(1,X_interactions.shape[1]):\n",
    "    selector = RFE(LinearRegression(), i, step=1).fit(X_interactions, y)\n",
    "    y_pred = selector.predict(X_interactions)\n",
    "    i_.append(i)\n",
    "    new_X = []\n",
    "    for i in range(X_interactions.shape[1]):\n",
    "        if selector.get_support()[i]:\n",
    "            new_X.append(X_interactions[:,i])\n",
    "    new_X = np.stack(new_X,axis=1)\n",
    "    model = sm.OLS(y,sm.add_constant(new_X)).fit()\n",
    "    aic_.append(model.aic)\n",
    "    bic_.append(model.bic)\n",
    "    r2_adj_.append(model.rsquared_adj)"
   ]
  },
  {
   "cell_type": "code",
   "execution_count": null,
   "metadata": {
    "scrolled": true,
    "slideshow": {
     "slide_type": "slide"
    }
   },
   "outputs": [],
   "source": [
    "fig = plt.figure();fig.set_figheight(10);fig.set_figwidth(25);\n",
    "plt.xticks(i_)\n",
    "plt.plot(i_,r2_adj_);plt.ylabel('Adj R2');plt.xlabel('n')"
   ]
  },
  {
   "cell_type": "code",
   "execution_count": null,
   "metadata": {
    "slideshow": {
     "slide_type": "slide"
    }
   },
   "outputs": [],
   "source": [
    "fig, ax_aic = plt.subplots();fig.set_figheight(10);fig.set_figwidth(25);ax_bic = ax_aic.twinx()\n",
    "ax_aic.plot(i_,aic_,color='red');ax_aic.set_ylabel('AIC');ax_aic.set_xlabel('n');ax_aic.legend(['AIC'])\n",
    "ax_bic.plot(i_,bic_);ax_bic.set_ylabel('BIC');ax_bic.set_xlabel('n');ax_bic.legend(['BIC'])\n",
    "plt.xticks(i_);plt.show()"
   ]
  },
  {
   "cell_type": "code",
   "execution_count": null,
   "metadata": {
    "slideshow": {
     "slide_type": "slide"
    }
   },
   "outputs": [],
   "source": [
    "selector = RFE(LinearRegression(), 19, step=1)\n",
    "selector = selector.fit(X_interactions, y)\n",
    "y_pred = selector.predict(X_interactions)\n",
    "new_X = []\n",
    "for i in range(X_interactions.shape[1]):\n",
    "    if selector.get_support()[i]:\n",
    "        new_X.append(X_interactions[:,i])\n",
    "new_X = np.stack(new_X,axis=1)\n",
    "model = sm.OLS(y,sm.add_constant(new_X)).fit()\n",
    "print('R2-adj:',model.rsquared_adj)\n",
    "print('AIC:', model.aic)\n",
    "print('BIC:', model.bic)"
   ]
  },
  {
   "cell_type": "markdown",
   "metadata": {
    "slideshow": {
     "slide_type": "slide"
    }
   },
   "source": [
    "## <center> Ridge and Lasso Regression"
   ]
  },
  {
   "cell_type": "markdown",
   "metadata": {
    "slideshow": {
     "slide_type": "fragment"
    }
   },
   "source": [
    "<center>Regularization techniques used to control model complexity and prevent overfitting."
   ]
  },
  {
   "cell_type": "markdown",
   "metadata": {
    "slideshow": {
     "slide_type": "slide"
    }
   },
   "source": [
    "## <center> Ridge Regression\n",
    "\n",
    "<center><img src='ridge_cost.png'>"
   ]
  },
  {
   "cell_type": "markdown",
   "metadata": {
    "slideshow": {
     "slide_type": "slide"
    }
   },
   "source": [
    "## <center> Lasso Regression\n",
    "\n",
    "<center><img src='lasso_cost.png'>"
   ]
  },
  {
   "cell_type": "markdown",
   "metadata": {
    "slideshow": {
     "slide_type": "slide"
    }
   },
   "source": [
    "Ridge: Includes all features and shrinks coefficients. <br>\n",
    "Lasso: Includes all features and shrinks coefficients, and also shrinks coefficients to zero, performing feature selection."
   ]
  },
  {
   "cell_type": "markdown",
   "metadata": {
    "slideshow": {
     "slide_type": "fragment"
    }
   },
   "source": [
    "Ridge: Better with less features. <br>\n",
    "Lasso: Better with more features."
   ]
  },
  {
   "cell_type": "markdown",
   "metadata": {
    "slideshow": {
     "slide_type": "fragment"
    }
   },
   "source": [
    "Ridge: In the case of correlation, includes both features (splits coefficients between them). <br>\n",
    "Lasso: In the case of correlation, arbitrarily sets one of the features to zero."
   ]
  },
  {
   "cell_type": "code",
   "execution_count": null,
   "metadata": {
    "slideshow": {
     "slide_type": "slide"
    }
   },
   "outputs": [],
   "source": [
    "model_ridge = sm.OLS(y,sm.add_constant(X_interactions))\n",
    "results = model_ridge.fit_regularized(L1_wt=0)\n",
    "y_pred_ridge = results.predict(sm.add_constant(X_interactions))\n",
    "final = sm.regression.linear_model.OLSResults(model_ridge,results.params)\n",
    "print('R2-adj:',final.rsquared_adj)\n",
    "print('AIC:', final.aic)\n",
    "print('BIC:', final.bic)"
   ]
  },
  {
   "cell_type": "code",
   "execution_count": null,
   "metadata": {
    "slideshow": {
     "slide_type": "fragment"
    }
   },
   "outputs": [],
   "source": [
    "results.params"
   ]
  },
  {
   "cell_type": "code",
   "execution_count": null,
   "metadata": {
    "slideshow": {
     "slide_type": "slide"
    }
   },
   "outputs": [],
   "source": [
    "model_lasso = sm.OLS(y,sm.add_constant(X_interactions))\n",
    "results = model_lasso.fit_regularized(L1_wt=1)\n",
    "y_pred_lasso = results.predict(sm.add_constant(X_interactions))\n",
    "final = sm.regression.linear_model.OLSResults(model_lasso,results.params)\n",
    "print('R2-adj:',final.rsquared_adj)\n",
    "print('AIC:', final.aic)\n",
    "print('BIC:', final.bic)"
   ]
  },
  {
   "cell_type": "code",
   "execution_count": null,
   "metadata": {
    "slideshow": {
     "slide_type": "fragment"
    }
   },
   "outputs": [],
   "source": [
    "results.params"
   ]
  },
  {
   "cell_type": "markdown",
   "metadata": {
    "slideshow": {
     "slide_type": "slide"
    }
   },
   "source": [
    "### <center> Comparing the best model "
   ]
  },
  {
   "cell_type": "code",
   "execution_count": null,
   "metadata": {
    "slideshow": {
     "slide_type": "slide"
    }
   },
   "outputs": [],
   "source": [
    "selector = RFE(LinearRegression(), 19, step=1).fit(X_train_interactions, y_train)\n",
    "y_pred = selector.predict(X_train_interactions)\n",
    "new_X_train,new_X_test = [],[]\n",
    "for i in range(X_train_interactions.shape[1]):\n",
    "    if selector.get_support()[i]:\n",
    "        new_X_train.append(X_train_interactions[:,i])\n",
    "        new_X_test.append(X_test_interactions[:,i])\n",
    "new_X_train = np.stack(new_X_train,axis=1)\n",
    "new_X_test = np.stack(new_X_test,axis=1)\n",
    "model = sm.OLS(y_train,sm.add_constant(new_X_train)).fit()\n",
    "y_pred_train = model.predict(sm.add_constant(new_X_train))\n",
    "y_pred_test = model.predict(sm.add_constant(new_X_test))\n",
    "print('All interactions');print('----------------');print('Train MSE:', mean_squared_error(y_train,y_pred_interactions));print('Test MSE:', mean_squared_error(y_test,y_pred_interactions_test));print()\n",
    "print('Reduced model');print('-------------');print('Train MSE:', mean_squared_error(y_train,y_pred_train));print('Test MSE:', mean_squared_error(y_test,y_pred_test))"
   ]
  },
  {
   "cell_type": "markdown",
   "metadata": {
    "slideshow": {
     "slide_type": "slide"
    }
   },
   "source": [
    "## <center> Activity"
   ]
  },
  {
   "cell_type": "markdown",
   "metadata": {
    "slideshow": {
     "slide_type": "fragment"
    }
   },
   "source": [
    "<center>Using the data found in <i>data.csv</i> and the techniques above, find a model of best fit that will perform well on new data."
   ]
  },
  {
   "cell_type": "code",
   "execution_count": null,
   "metadata": {
    "slideshow": {
     "slide_type": "slide"
    }
   },
   "outputs": [],
   "source": []
  },
  {
   "cell_type": "code",
   "execution_count": null,
   "metadata": {
    "slideshow": {
     "slide_type": "fragment"
    }
   },
   "outputs": [],
   "source": []
  },
  {
   "cell_type": "code",
   "execution_count": null,
   "metadata": {
    "slideshow": {
     "slide_type": "fragment"
    }
   },
   "outputs": [],
   "source": []
  }
 ],
 "metadata": {
  "celltoolbar": "Slideshow",
  "kernelspec": {
   "display_name": "Python 3",
   "language": "python",
   "name": "python3"
  },
  "language_info": {
   "codemirror_mode": {
    "name": "ipython",
    "version": 3
   },
   "file_extension": ".py",
   "mimetype": "text/x-python",
   "name": "python",
   "nbconvert_exporter": "python",
   "pygments_lexer": "ipython3",
   "version": "3.5.6"
  }
 },
 "nbformat": 4,
 "nbformat_minor": 2
}
