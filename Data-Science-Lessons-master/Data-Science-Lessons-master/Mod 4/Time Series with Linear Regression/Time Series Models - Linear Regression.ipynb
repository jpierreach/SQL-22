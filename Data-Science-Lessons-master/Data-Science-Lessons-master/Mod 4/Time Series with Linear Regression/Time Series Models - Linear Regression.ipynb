{
 "cells": [
  {
   "cell_type": "markdown",
   "metadata": {
    "slideshow": {
     "slide_type": "slide"
    }
   },
   "source": [
    "## <center> Time Series Models with Multiple Linear Regression"
   ]
  },
  {
   "cell_type": "markdown",
   "metadata": {
    "slideshow": {
     "slide_type": "slide"
    }
   },
   "source": [
    "### Outcomes\n",
    "- Utilize linear regression to model time series data\n",
    "- Build multiple time series models at once\n",
    "- Be prepared for Mod 4 project"
   ]
  },
  {
   "cell_type": "code",
   "execution_count": null,
   "metadata": {
    "slideshow": {
     "slide_type": "slide"
    }
   },
   "outputs": [],
   "source": [
    "import pandas as pd\n",
    "import numpy as np\n",
    "import matplotlib.pyplot as plt"
   ]
  },
  {
   "cell_type": "markdown",
   "metadata": {},
   "source": [
    "<a id=\"acs\"></a>"
   ]
  },
  {
   "cell_type": "code",
   "execution_count": null,
   "metadata": {
    "slideshow": {
     "slide_type": "slide"
    }
   },
   "outputs": [],
   "source": [
    "df = pd.read_csv('australia_drug_sales.csv',index_col=0)\n",
    "df.head()"
   ]
  },
  {
   "cell_type": "code",
   "execution_count": null,
   "metadata": {
    "slideshow": {
     "slide_type": "slide"
    }
   },
   "outputs": [],
   "source": [
    "df['time'].mod(1)"
   ]
  },
  {
   "cell_type": "code",
   "execution_count": null,
   "metadata": {
    "slideshow": {
     "slide_type": "slide"
    }
   },
   "outputs": [],
   "source": [
    "(df['time'].mod(1)*12)+1"
   ]
  },
  {
   "cell_type": "markdown",
   "metadata": {},
   "source": [
    "<a id=\"settimeseries\"></a>"
   ]
  },
  {
   "cell_type": "code",
   "execution_count": null,
   "metadata": {
    "slideshow": {
     "slide_type": "slide"
    }
   },
   "outputs": [],
   "source": [
    "df['month'] = ((df['time'].mod(1)*12)+1).round(0).astype(int)\n",
    "df['year'] = df['time'].astype(int)\n",
    "df['day'] = np.ones(len(df))\n",
    "df.head()"
   ]
  },
  {
   "cell_type": "code",
   "execution_count": null,
   "metadata": {
    "slideshow": {
     "slide_type": "slide"
    }
   },
   "outputs": [],
   "source": [
    "df['date'] = pd.to_datetime(df[['year','month','day']])\n",
    "df.index = pd.DatetimeIndex(df['date'])\n",
    "df.drop(['time', 'month', 'year', 'day', 'date'],axis=1,inplace=True)\n",
    "df.head()"
   ]
  },
  {
   "cell_type": "markdown",
   "metadata": {},
   "source": [
    "<a id=\"exploretimeseries\"></a>"
   ]
  },
  {
   "cell_type": "code",
   "execution_count": null,
   "metadata": {
    "slideshow": {
     "slide_type": "slide"
    }
   },
   "outputs": [],
   "source": [
    "df.plot()"
   ]
  },
  {
   "cell_type": "code",
   "execution_count": null,
   "metadata": {
    "slideshow": {
     "slide_type": "slide"
    }
   },
   "outputs": [],
   "source": [
    "# Import and apply seasonal_decompose()\n",
    "from statsmodels.tsa.seasonal import seasonal_decompose\n",
    "decomposition = seasonal_decompose(df)\n",
    "# Gather the trend, seasonality, and residuals \n",
    "trend = decomposition.trend\n",
    "seasonal = decomposition.seasonal\n",
    "residual = decomposition.resid\n",
    "# Plot gathered statistics\n",
    "plt.figure(figsize=(12,8))\n",
    "plt.subplot(411)\n",
    "plt.plot(df, label='Original', color='blue')\n",
    "plt.legend(loc='best')\n",
    "plt.subplot(412)\n",
    "plt.plot(trend, label='Trend', color='blue')\n",
    "plt.legend(loc='best')\n",
    "plt.subplot(413)\n",
    "plt.plot(seasonal,label='Seasonality', color='blue')\n",
    "plt.legend(loc='best')\n",
    "plt.subplot(414)\n",
    "plt.plot(residual, label='Residuals', color='blue')\n",
    "plt.legend(loc='best')\n",
    "plt.tight_layout()"
   ]
  },
  {
   "cell_type": "code",
   "execution_count": null,
   "metadata": {
    "slideshow": {
     "slide_type": "slide"
    }
   },
   "outputs": [],
   "source": [
    "from statsmodels.graphics.tsaplots import plot_acf, plot_pacf\n",
    "plot_acf(df,lags=25); plt.xlim(0,25); plt.show()\n",
    "plot_pacf(df,lags=25); plt.xlim(0,25); plt.ylim(-1,1);plt.show()"
   ]
  },
  {
   "cell_type": "markdown",
   "metadata": {},
   "source": [
    "<a id=\"autoarima\"></a>"
   ]
  },
  {
   "cell_type": "code",
   "execution_count": null,
   "metadata": {
    "slideshow": {
     "slide_type": "slide"
    }
   },
   "outputs": [],
   "source": [
    "from pmdarima.arima import auto_arima\n",
    "test_period = 6*12\n",
    "arima = auto_arima(df['value'][:-test_period], trace=True, error_action='ignore', suppress_warnings=True, seasonal=True, m=12)"
   ]
  },
  {
   "cell_type": "code",
   "execution_count": null,
   "metadata": {
    "slideshow": {
     "slide_type": "slide"
    }
   },
   "outputs": [],
   "source": [
    "arima_forecast = arima.predict(n_periods=test_period)"
   ]
  },
  {
   "cell_type": "code",
   "execution_count": null,
   "metadata": {
    "slideshow": {
     "slide_type": "fragment"
    }
   },
   "outputs": [],
   "source": [
    "from sklearn.metrics import mean_squared_error\n",
    "mean_squared_error(df['value'][-test_period:], arima_forecast)"
   ]
  },
  {
   "cell_type": "markdown",
   "metadata": {
    "slideshow": {
     "slide_type": "slide"
    }
   },
   "source": [
    "### <center> Generating Features\n",
    "<a id=\"regressionfeatures\"></a>"
   ]
  },
  {
   "cell_type": "markdown",
   "metadata": {
    "slideshow": {
     "slide_type": "fragment"
    }
   },
   "source": [
    "- DateTime components (Year, Month, Day)\n",
    "- Previous values (Yesterday's value, last week's value, etc.)\n",
    "- Polynomial terms (Squared and cubed previous values)\n",
    "- Interaction terms (Yesterday's value times last week's value)"
   ]
  },
  {
   "cell_type": "code",
   "execution_count": null,
   "metadata": {
    "slideshow": {
     "slide_type": "slide"
    }
   },
   "outputs": [],
   "source": [
    "## Add year and month features\n",
    "df['Year'] = df.index.year - np.min(df.index.year)\n",
    "df['Month'] = df.index.month\n",
    "date_features = ['Year', 'Month']\n",
    "df.head()"
   ]
  },
  {
   "cell_type": "code",
   "execution_count": null,
   "metadata": {
    "slideshow": {
     "slide_type": "slide"
    }
   },
   "outputs": [],
   "source": [
    "## Add polynomials of datetime components\n",
    "polynomial_terms = [2,3]\n",
    "for feature in date_features:\n",
    "    for i in polynomial_terms:\n",
    "        df[feature+'**'+str(i)] = df[feature]**i\n",
    "df.head()"
   ]
  },
  {
   "cell_type": "code",
   "execution_count": null,
   "metadata": {
    "slideshow": {
     "slide_type": "slide"
    }
   },
   "outputs": [],
   "source": [
    "## Add previous values and polynomial terms of previous values\n",
    "previous_values_range = 10*12\n",
    "for i in range(1,previous_values_range):\n",
    "    df['Previous'+str(i)] = df['value'].shift(i).bfill()\n",
    "    for j in polynomial_terms:\n",
    "        df['Previous'+str(i)+'**'+str(j)] = (df['value'].shift(i).bfill())**j\n",
    "df.head()"
   ]
  },
  {
   "cell_type": "markdown",
   "metadata": {},
   "source": [
    "<a id=\"lassomodel\"></a>"
   ]
  },
  {
   "cell_type": "code",
   "execution_count": null,
   "metadata": {
    "slideshow": {
     "slide_type": "slide"
    }
   },
   "outputs": [],
   "source": [
    "## fit lasso regression\n",
    "from sklearn.linear_model import LassoLarsCV\n",
    "reg = LassoLarsCV(cv=5).fit(df.drop('value',axis=1)[:-test_period], df['value'][:-test_period])"
   ]
  },
  {
   "cell_type": "code",
   "execution_count": null,
   "metadata": {
    "slideshow": {
     "slide_type": "fragment"
    }
   },
   "outputs": [],
   "source": [
    "## view features selected\n",
    "selected_features = pd.DataFrame()\n",
    "selected_features['Feature'] = df.drop('value',axis=1).columns[reg.coef_>0]\n",
    "selected_features['Coefficient'] = reg.coef_[reg.coef_>0]\n",
    "selected_features"
   ]
  },
  {
   "cell_type": "markdown",
   "metadata": {},
   "source": [
    "<a id=\"forecasting\"></a>"
   ]
  },
  {
   "cell_type": "code",
   "execution_count": null,
   "metadata": {
    "slideshow": {
     "slide_type": "slide"
    }
   },
   "outputs": [],
   "source": [
    "## create and populate forecast dataframe\n",
    "forecast_df = df.copy()\n",
    "for datetime, date in zip(df.index[-test_period:], range(len(df)-test_period, len(df))):\n",
    "    values = []\n",
    "    ## add datetime components\n",
    "    values.append(datetime.year - np.min(df.index.year))\n",
    "    values.append(datetime.month)\n",
    "    ## add polynomial terms of datetime components\n",
    "    for feature in date_features:\n",
    "        for i in polynomial_terms:\n",
    "            values.append((forecast_df[feature][date])**i)\n",
    "    ## add previous values and polynomial terms of previous values\n",
    "    for i in range(1,previous_values_range):\n",
    "        values.append(forecast_df['value'][date-i])\n",
    "        for j in polynomial_terms:\n",
    "            values.append((forecast_df['value'][date-i])**j)\n",
    "    ## make prediction on current datetime\n",
    "    forecast = reg.predict(np.array(values).reshape(1,-1))\n",
    "    ## append prediction to start of values array\n",
    "    values.insert(0, forecast[0])\n",
    "    ## set forecast row in dataframe\n",
    "    forecast_df.loc[datetime] = values"
   ]
  },
  {
   "cell_type": "markdown",
   "metadata": {},
   "source": [
    "<a id=\"comparison\"></a>"
   ]
  },
  {
   "cell_type": "code",
   "execution_count": null,
   "metadata": {
    "slideshow": {
     "slide_type": "slide"
    }
   },
   "outputs": [],
   "source": [
    "print('ARIMA MSE:', mean_squared_error(df['value'][-test_period:], arima_forecast))\n",
    "print('Regression MSE:', mean_squared_error(df['value'][-test_period:], forecast_df['value'][-test_period:]))"
   ]
  },
  {
   "cell_type": "code",
   "execution_count": null,
   "metadata": {
    "slideshow": {
     "slide_type": "slide"
    }
   },
   "outputs": [],
   "source": [
    "plt.plot(df.index[-test_period:], df['value'][-test_period:])\n",
    "plt.plot(df.index[-test_period:], arima_forecast)\n",
    "plt.title('ARIMA Forecast')\n",
    "plt.legend(['Actual', 'ARIMA'])"
   ]
  },
  {
   "cell_type": "code",
   "execution_count": null,
   "metadata": {
    "slideshow": {
     "slide_type": "slide"
    }
   },
   "outputs": [],
   "source": [
    "plt.plot(df.index[-test_period:], df['value'][-test_period:])\n",
    "plt.plot(df.index[-test_period:], forecast_df['value'][-test_period:])\n",
    "plt.title('Regression Forecast')\n",
    "plt.legend(['Actual', 'Regression'])"
   ]
  },
  {
   "cell_type": "markdown",
   "metadata": {
    "slideshow": {
     "slide_type": "slide"
    }
   },
   "source": [
    "## <center> Residuals"
   ]
  },
  {
   "cell_type": "code",
   "execution_count": null,
   "metadata": {
    "slideshow": {
     "slide_type": "slide"
    }
   },
   "outputs": [],
   "source": [
    "plt.plot(df.index[:-test_period], arima.resid())\n",
    "plt.title('ARIMA Residuals')"
   ]
  },
  {
   "cell_type": "code",
   "execution_count": null,
   "metadata": {
    "slideshow": {
     "slide_type": "slide"
    }
   },
   "outputs": [],
   "source": [
    "regression_resid = df['value'][:-test_period]-reg.predict(df.drop('value',axis=1)[:-test_period])\n",
    "plt.plot(regression_resid)\n",
    "plt.title('Regression Residuals')"
   ]
  },
  {
   "cell_type": "code",
   "execution_count": null,
   "metadata": {
    "slideshow": {
     "slide_type": "slide"
    }
   },
   "outputs": [],
   "source": [
    "## ACF and PACF of residuals\n",
    "from statsmodels.graphics.tsaplots import plot_acf, plot_pacf\n",
    "plot_acf(arima.resid(),lags=48); plt.xlim(0,48); plt.show()\n",
    "plot_pacf(arima.resid(),lags=48); plt.xlim(0,48); plt.ylim(-1,1);plt.show()"
   ]
  },
  {
   "cell_type": "code",
   "execution_count": null,
   "metadata": {
    "slideshow": {
     "slide_type": "slide"
    }
   },
   "outputs": [],
   "source": [
    "plot_acf(regression_resid,lags=48); plt.xlim(0,48); plt.show()\n",
    "plot_pacf(regression_resid,lags=48); plt.xlim(0,48); plt.ylim(-1,1);plt.show()"
   ]
  },
  {
   "cell_type": "markdown",
   "metadata": {
    "slideshow": {
     "slide_type": "slide"
    }
   },
   "source": [
    "### <center> Another example"
   ]
  },
  {
   "cell_type": "markdown",
   "metadata": {},
   "source": [
    "<a id=\"loaddata2\"></a>"
   ]
  },
  {
   "cell_type": "code",
   "execution_count": null,
   "metadata": {
    "slideshow": {
     "slide_type": "slide"
    }
   },
   "outputs": [],
   "source": [
    "sunspots_df = pd.read_csv('Sunspots.csv')\n",
    "sunspots_df.head()"
   ]
  },
  {
   "cell_type": "markdown",
   "metadata": {},
   "source": [
    "<a id=\"settimeseries2\"></a>"
   ]
  },
  {
   "cell_type": "code",
   "execution_count": null,
   "metadata": {
    "slideshow": {
     "slide_type": "fragment"
    }
   },
   "outputs": [],
   "source": [
    "sunspots_df.index = pd.DatetimeIndex(sunspots_df['Month'])\n",
    "sunspots_df.drop('Month', axis=1, inplace=True)\n",
    "sunspots_df.head()"
   ]
  },
  {
   "cell_type": "code",
   "execution_count": null,
   "metadata": {
    "slideshow": {
     "slide_type": "slide"
    }
   },
   "outputs": [],
   "source": [
    "sunspots_df.plot()"
   ]
  },
  {
   "cell_type": "code",
   "execution_count": null,
   "metadata": {
    "slideshow": {
     "slide_type": "slide"
    }
   },
   "outputs": [],
   "source": [
    "from statsmodels.graphics.tsaplots import plot_acf, plot_pacf\n",
    "lags = 36\n",
    "plot_acf(sunspots_df,lags=lags); plt.xlim(0,lags); plt.show()\n",
    "plot_pacf(sunspots_df,lags=lags); plt.xlim(0,lags); plt.ylim(-1,1);plt.show()"
   ]
  },
  {
   "cell_type": "markdown",
   "metadata": {},
   "source": [
    "<a id=\"autoarima2\"></a>"
   ]
  },
  {
   "cell_type": "code",
   "execution_count": null,
   "metadata": {
    "slideshow": {
     "slide_type": "slide"
    }
   },
   "outputs": [],
   "source": [
    "arima = auto_arima(sunspots_df['Sunspots'][:-test_period], trace=True, error_action='ignore', suppress_warnings=True, seasonal=True, m=12)"
   ]
  },
  {
   "cell_type": "code",
   "execution_count": null,
   "metadata": {
    "slideshow": {
     "slide_type": "slide"
    }
   },
   "outputs": [],
   "source": [
    "arima_forecast = arima.predict(n_periods=test_period)"
   ]
  },
  {
   "cell_type": "markdown",
   "metadata": {},
   "source": [
    "<a id=\"regressionfeatures2\"></a>"
   ]
  },
  {
   "cell_type": "code",
   "execution_count": null,
   "metadata": {
    "slideshow": {
     "slide_type": "slide"
    }
   },
   "outputs": [],
   "source": [
    "sunspots_df['Year'] = sunspots_df.index.year - np.min(sunspots_df.index.year)\n",
    "sunspots_df['Month'] = sunspots_df.index.month\n",
    "date_features = ['Year', 'Month']\n",
    "sunspots_df.head()"
   ]
  },
  {
   "cell_type": "code",
   "execution_count": null,
   "metadata": {
    "slideshow": {
     "slide_type": "slide"
    }
   },
   "outputs": [],
   "source": [
    "## Add polynomials of datetime components\n",
    "polynomial_terms = [2,3]\n",
    "for feature in date_features:\n",
    "    for i in polynomial_terms:\n",
    "        sunspots_df[feature+'**'+str(i)] = sunspots_df[feature]**i\n",
    "sunspots_df.head()"
   ]
  },
  {
   "cell_type": "code",
   "execution_count": null,
   "metadata": {
    "slideshow": {
     "slide_type": "slide"
    }
   },
   "outputs": [],
   "source": [
    "## Add previous values and polynomial terms of previous values\n",
    "previous_values_range = 10*12\n",
    "for i in range(1,previous_values_range):\n",
    "    sunspots_df['Previous'+str(i)] = sunspots_df['Sunspots'].shift(i).bfill()\n",
    "    for j in polynomial_terms:\n",
    "        sunspots_df['Previous'+str(i)+'**'+str(j)] = (sunspots_df['Sunspots'].shift(i).bfill())**j\n",
    "sunspots_df.head()"
   ]
  },
  {
   "cell_type": "markdown",
   "metadata": {},
   "source": [
    "<a id=\"lassomodel2\"></a>"
   ]
  },
  {
   "cell_type": "code",
   "execution_count": null,
   "metadata": {
    "slideshow": {
     "slide_type": "slide"
    }
   },
   "outputs": [],
   "source": [
    "## fit lasso regression\n",
    "from sklearn.linear_model import LassoLarsCV\n",
    "test_period = 20*12\n",
    "reg = LassoLarsCV(cv=10).fit(sunspots_df.drop('Sunspots',axis=1)[:-test_period], sunspots_df['Sunspots'][:-test_period])"
   ]
  },
  {
   "cell_type": "code",
   "execution_count": null,
   "metadata": {
    "slideshow": {
     "slide_type": "slide"
    }
   },
   "outputs": [],
   "source": [
    "## view features selected\n",
    "selected_features = pd.DataFrame()\n",
    "selected_features['Feature'] = sunspots_df.drop('Sunspots',axis=1).columns[reg.coef_>0]\n",
    "selected_features['Coefficient'] = reg.coef_[reg.coef_>0]\n",
    "selected_features.sort_values('Coefficient')"
   ]
  },
  {
   "cell_type": "markdown",
   "metadata": {},
   "source": [
    "<a id=\"forecasting2\"></a>"
   ]
  },
  {
   "cell_type": "code",
   "execution_count": null,
   "metadata": {},
   "outputs": [],
   "source": [
    "## create and populate forecast dataframe\n",
    "forecast_df = sunspots_df.copy()\n",
    "for datetime, date in zip(sunspots_df.index[-test_period:], range(len(sunspots_df)-test_period, len(sunspots_df))):\n",
    "    values = []\n",
    "    ## add datetime components\n",
    "    values.append(datetime.year - np.min(sunspots_df.index.year))\n",
    "    values.append(datetime.month)\n",
    "    ## add polynomial terms of datetime components\n",
    "    for feature in date_features:\n",
    "        for i in polynomial_terms:\n",
    "            values.append((forecast_df[feature][date])**i)\n",
    "    ## add previous values and polynomial terms of previous values\n",
    "    for i in range(1,previous_values_range):\n",
    "        values.append(forecast_df['Sunspots'][date-i])\n",
    "        for j in polynomial_terms:\n",
    "            values.append((forecast_df['Sunspots'][date-i])**j)\n",
    "    ## make prediction on current datetime\n",
    "    forecast = reg.predict(np.array(values).reshape(1,-1))\n",
    "    ## append prediction to start of values array\n",
    "    values.insert(0, forecast[0])\n",
    "    ## set forecast row in dataframe\n",
    "    forecast_df.loc[datetime] = values"
   ]
  },
  {
   "cell_type": "markdown",
   "metadata": {
    "slideshow": {
     "slide_type": "slide"
    }
   },
   "source": [
    "<a id=\"comparison2\"></a>"
   ]
  },
  {
   "cell_type": "code",
   "execution_count": null,
   "metadata": {},
   "outputs": [],
   "source": [
    "print('ARIMA MSE:', mean_squared_error(sunspots_df['Sunspots'][-test_period:], arima_forecast))\n",
    "print('Regression MSE:', mean_squared_error(sunspots_df['Sunspots'][-test_period:], forecast_df['Sunspots'][-test_period:]))"
   ]
  },
  {
   "cell_type": "code",
   "execution_count": null,
   "metadata": {
    "slideshow": {
     "slide_type": "slide"
    }
   },
   "outputs": [],
   "source": [
    "plt.plot(sunspots_df.index[-test_period:], sunspots_df['Sunspots'][-test_period:])\n",
    "plt.plot(sunspots_df.index[-test_period:], arima_forecast)\n",
    "plt.title('ARIMA Forecast')\n",
    "plt.legend(['Actual', 'ARIMA'])"
   ]
  },
  {
   "cell_type": "code",
   "execution_count": null,
   "metadata": {
    "slideshow": {
     "slide_type": "slide"
    }
   },
   "outputs": [],
   "source": [
    "plt.plot(sunspots_df.index[-test_period:], sunspots_df['Sunspots'][-test_period:])\n",
    "plt.plot(sunspots_df.index[-test_period:], forecast_df['Sunspots'][-test_period:])\n",
    "plt.title('Regression Forecast')\n",
    "plt.legend(['Actual', 'Regression'])"
   ]
  },
  {
   "cell_type": "code",
   "execution_count": null,
   "metadata": {
    "slideshow": {
     "slide_type": "slide"
    }
   },
   "outputs": [],
   "source": [
    "plt.plot(sunspots_df.index[:-test_period], arima.resid())\n",
    "plt.title('ARIMA Residuals')"
   ]
  },
  {
   "cell_type": "code",
   "execution_count": null,
   "metadata": {
    "slideshow": {
     "slide_type": "slide"
    }
   },
   "outputs": [],
   "source": [
    "regression_resid = sunspots_df['Sunspots'][:-test_period]-reg.predict(sunspots_df.drop('Sunspots',axis=1)[:-test_period])\n",
    "plt.plot(regression_resid)\n",
    "plt.title('Regression Residuals')"
   ]
  },
  {
   "cell_type": "code",
   "execution_count": null,
   "metadata": {
    "slideshow": {
     "slide_type": "slide"
    }
   },
   "outputs": [],
   "source": [
    "lags = 48  ## ARIMA\n",
    "plot_acf(arima.resid(),lags=lags); plt.xlim(0,lags); plt.show()\n",
    "plot_pacf(arima.resid(),lags=lags); plt.xlim(0,lags); plt.ylim(-1,1);plt.show()"
   ]
  },
  {
   "cell_type": "code",
   "execution_count": null,
   "metadata": {
    "slideshow": {
     "slide_type": "slide"
    }
   },
   "outputs": [],
   "source": [
    "lags = 48 ## Regression\n",
    "plot_acf(regression_resid,lags=lags); plt.xlim(0,lags); plt.show()\n",
    "plot_pacf(regression_resid,lags=lags); plt.xlim(0,lags); plt.ylim(-1,1);plt.show()"
   ]
  },
  {
   "cell_type": "markdown",
   "metadata": {
    "slideshow": {
     "slide_type": "slide"
    }
   },
   "source": [
    "## <center> Activity"
   ]
  },
  {
   "cell_type": "markdown",
   "metadata": {
    "slideshow": {
     "slide_type": "fragment"
    }
   },
   "source": [
    "Using the data in <i>stock_data.csv</i>, your goal is to suggest the best stock for investment in order to make the biggest return if sold tomorrow. <br> <br>\n",
    "Use only the 'Close' data to build time series models for each stock using linear regression.<br><br>\n",
    "Use the most recent year of data to test your models on. <br> <br>"
   ]
  },
  {
   "cell_type": "markdown",
   "metadata": {
    "slideshow": {
     "slide_type": "slide"
    }
   },
   "source": [
    "1) Store seperate dataframes for each stock in a list.<br><br>\n",
    "2) For each dataframe in the list, generate features from the datetime data.<br><br>\n",
    "3) Build a LassoLars model for each stock.<br><br>\n",
    "4) For each stock, forecast each date in the test data in a stepwise fashion.<br><br>\n",
    "5) Compare the predictions to the actual test data.<br><br>\n",
    "<b>Bonus:</b> Determine the stock which is predicted to gain the most in value over the next day."
   ]
  },
  {
   "cell_type": "markdown",
   "metadata": {
    "slideshow": {
     "slide_type": "slide"
    }
   },
   "source": [
    "1. Australian Corticosteroid Sales <br>\n",
    "    1.1 [Reading in data](#loaddata) <br>\n",
    "    1.2 [Setting up time series](#settimeseries)<br>\n",
    "    1.3 [Exploring time series](#exploretimeseries)<br>\n",
    "    1.4 [Fitting auto-ARIMA](#autoarima)<br>\n",
    "    1.5 [Generating regression features](#regressionfeatures)<br>\n",
    "    1.6 [Fitting Lasso model](#lassomodel)<br>\n",
    "    1.7 [Forecasting with regression model](#forecasting)<br>\n",
    "    1.8 [Comparing ARIMA and regression](#comparison)<br>\n",
    "1. Sunspots Data<br>\n",
    "    1.1 [Reading in data](#loaddata2)<br>\n",
    "    1.2 [Setting up time series](#settimeseries2)<br>\n",
    "    1.3 [Exploring time series](#exploretimeseries2)<br>\n",
    "    1.4 [Fitting auto-ARIMA](#autoarima2)<br>\n",
    "    1.5 [Generating regression features](#regressionfeatures2)<br>\n",
    "    1.6 [Fitting Lasso model](#lassomodel2)<br>\n",
    "    1.7 [Forecasting with regression model](#forecasting2)<br>\n",
    "    1.8 [Comparing ARIMA and regression](#comparison2)<br>"
   ]
  },
  {
   "cell_type": "code",
   "execution_count": null,
   "metadata": {},
   "outputs": [],
   "source": [
    "## Create list of dataframes"
   ]
  },
  {
   "cell_type": "code",
   "execution_count": null,
   "metadata": {},
   "outputs": [],
   "source": [
    "## Iterate through dataframes, performing feature generation and storing dataframe in new list"
   ]
  },
  {
   "cell_type": "code",
   "execution_count": null,
   "metadata": {},
   "outputs": [],
   "source": [
    "## Fit a LassoLars regression model to each stock's data"
   ]
  },
  {
   "cell_type": "code",
   "execution_count": null,
   "metadata": {},
   "outputs": [],
   "source": [
    "## For each model, iterate through the test dates, \n",
    "## calculating and generating values and forecasting the next value"
   ]
  },
  {
   "cell_type": "code",
   "execution_count": null,
   "metadata": {},
   "outputs": [],
   "source": [
    "## Compare each model's predictions to true data"
   ]
  },
  {
   "cell_type": "code",
   "execution_count": null,
   "metadata": {},
   "outputs": [],
   "source": [
    "## Predict next day stock values for each stock, determine the biggest increase in stock value"
   ]
  }
 ],
 "metadata": {
  "celltoolbar": "Slideshow",
  "kernelspec": {
   "display_name": "Python 3",
   "language": "python",
   "name": "python3"
  },
  "language_info": {
   "codemirror_mode": {
    "name": "ipython",
    "version": 3
   },
   "file_extension": ".py",
   "mimetype": "text/x-python",
   "name": "python",
   "nbconvert_exporter": "python",
   "pygments_lexer": "ipython3",
   "version": "3.5.6"
  }
 },
 "nbformat": 4,
 "nbformat_minor": 2
}
